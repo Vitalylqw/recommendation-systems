{
 "cells": [
  {
   "cell_type": "markdown",
   "metadata": {},
   "source": [
    "# Вебинар 6. Двухуровневые модели рекомендаций\n"
   ]
  },
  {
   "cell_type": "code",
   "execution_count": null,
   "metadata": {},
   "outputs": [],
   "source": []
  },
  {
   "cell_type": "code",
   "execution_count": 1,
   "metadata": {},
   "outputs": [],
   "source": [
    "import pandas as pd\n",
    "import numpy as np\n",
    "import matplotlib.pyplot as plt\n",
    "%matplotlib inline\n",
    "\n",
    "# Для работы с матрицами\n",
    "from scipy.sparse import csr_matrix\n",
    "\n",
    "# Матричная факторизация\n",
    "from implicit import als\n",
    "\n",
    "# Модель второго уровня\n",
    "from lightgbm import LGBMClassifier\n",
    "\n",
    "import os, sys\n",
    "module_path = os.path.abspath(os.path.join(os.pardir))\n",
    "if module_path not in sys.path:\n",
    "    sys.path.append(module_path)\n",
    "\n",
    "# Написанные нами функции\n",
    "from src.metrics import precision_at_k, recall_at_k\n",
    "# from src.utils import prefilter_items\n",
    "from src.recommenders import MainRecommender\n",
    "from lightgbm import LGBMRanker\n",
    "from lightgbm import LGBMClassifier\n",
    "\n"
   ]
  },
  {
   "cell_type": "code",
   "execution_count": 2,
   "metadata": {},
   "outputs": [
    {
     "data": {
      "text/html": [
       "<div>\n",
       "<style scoped>\n",
       "    .dataframe tbody tr th:only-of-type {\n",
       "        vertical-align: middle;\n",
       "    }\n",
       "\n",
       "    .dataframe tbody tr th {\n",
       "        vertical-align: top;\n",
       "    }\n",
       "\n",
       "    .dataframe thead th {\n",
       "        text-align: right;\n",
       "    }\n",
       "</style>\n",
       "<table border=\"1\" class=\"dataframe\">\n",
       "  <thead>\n",
       "    <tr style=\"text-align: right;\">\n",
       "      <th></th>\n",
       "      <th>user_id</th>\n",
       "      <th>basket_id</th>\n",
       "      <th>day</th>\n",
       "      <th>item_id</th>\n",
       "      <th>quantity</th>\n",
       "      <th>sales_value</th>\n",
       "      <th>store_id</th>\n",
       "      <th>retail_disc</th>\n",
       "      <th>trans_time</th>\n",
       "      <th>week_no</th>\n",
       "      <th>coupon_disc</th>\n",
       "      <th>coupon_match_disc</th>\n",
       "    </tr>\n",
       "  </thead>\n",
       "  <tbody>\n",
       "    <tr>\n",
       "      <th>0</th>\n",
       "      <td>2375</td>\n",
       "      <td>26984851472</td>\n",
       "      <td>1</td>\n",
       "      <td>1004906</td>\n",
       "      <td>1</td>\n",
       "      <td>1.39</td>\n",
       "      <td>364</td>\n",
       "      <td>-0.6</td>\n",
       "      <td>1631</td>\n",
       "      <td>1</td>\n",
       "      <td>0.0</td>\n",
       "      <td>0.0</td>\n",
       "    </tr>\n",
       "    <tr>\n",
       "      <th>1</th>\n",
       "      <td>2375</td>\n",
       "      <td>26984851472</td>\n",
       "      <td>1</td>\n",
       "      <td>1033142</td>\n",
       "      <td>1</td>\n",
       "      <td>0.82</td>\n",
       "      <td>364</td>\n",
       "      <td>0.0</td>\n",
       "      <td>1631</td>\n",
       "      <td>1</td>\n",
       "      <td>0.0</td>\n",
       "      <td>0.0</td>\n",
       "    </tr>\n",
       "  </tbody>\n",
       "</table>\n",
       "</div>"
      ],
      "text/plain": [
       "   user_id    basket_id  day  item_id  quantity  sales_value  store_id  \\\n",
       "0     2375  26984851472    1  1004906         1         1.39       364   \n",
       "1     2375  26984851472    1  1033142         1         0.82       364   \n",
       "\n",
       "   retail_disc  trans_time  week_no  coupon_disc  coupon_match_disc  \n",
       "0         -0.6        1631        1          0.0                0.0  \n",
       "1          0.0        1631        1          0.0                0.0  "
      ]
     },
     "execution_count": 2,
     "metadata": {},
     "output_type": "execute_result"
    }
   ],
   "source": [
    "data = pd.read_csv('../data/retail_train.csv')\n",
    "item_features = pd.read_csv('../data/product.csv')\n",
    "user_features = pd.read_csv('../data/hh_demographic.csv')\n",
    "\n",
    "# column processing\n",
    "item_features.columns = [col.lower() for col in item_features.columns]\n",
    "user_features.columns = [col.lower() for col in user_features.columns]\n",
    "\n",
    "item_features.rename(columns={'product_id': 'item_id'}, inplace=True)\n",
    "user_features.rename(columns={'household_key': 'user_id'}, inplace=True)\n",
    "\n",
    "\n",
    "# Важна схема обучения и валидации!\n",
    "# -- давние покупки -- | -- 6 недель -- | -- 3 недель -- \n",
    "# подобрать размер 2-ого датасета (6 недель) --> learning curve (зависимость метрики recall@k от размера датасета)\n",
    "val_lvl_1_size_weeks = 6\n",
    "val_lvl_2_size_weeks = 3\n",
    "\n",
    "data_train_lvl_1 = data[data['week_no'] < data['week_no'].max() - (val_lvl_1_size_weeks + val_lvl_2_size_weeks)]\n",
    "data_val_lvl_1 = data[(data['week_no'] >= data['week_no'].max() - (val_lvl_1_size_weeks + val_lvl_2_size_weeks)) &\n",
    "                      (data['week_no'] < data['week_no'].max() - (val_lvl_2_size_weeks))]\n",
    "\n",
    "data_train_lvl_2 = data_val_lvl_1.copy()  # Для наглядности. Далее мы добавим изменения, и они будут отличаться\n",
    "data_val_lvl_2 = data[data['week_no'] >= data['week_no'].max() - val_lvl_2_size_weeks]\n",
    "\n",
    "top_popular_500 = data.groupby('item_id')['item_id'].count().sort_values(ascending=False).head(500).tolist()\n",
    "\n",
    "data_train_lvl_1.head(2)"
   ]
  },
  {
   "cell_type": "code",
   "execution_count": null,
   "metadata": {},
   "outputs": [],
   "source": []
  },
  {
   "cell_type": "code",
   "execution_count": 3,
   "metadata": {},
   "outputs": [],
   "source": [
    "# n_items_before = data_train_lvl_1['item_id'].nunique()\n",
    "\n",
    "# #параметры функции могут отличаться\n",
    "# data_train_lvl_1 = prefilter_items(data_train_lvl_1, item_features=item_features, take_n_popular=5000)\n",
    "\n",
    "\n",
    "# n_items_after = data_train_lvl_1['item_id'].nunique()\n",
    "# print('Decreased # items from {} to {}'.format(n_items_before, n_items_after))"
   ]
  },
  {
   "cell_type": "code",
   "execution_count": null,
   "metadata": {},
   "outputs": [],
   "source": []
  },
  {
   "cell_type": "code",
   "execution_count": null,
   "metadata": {},
   "outputs": [],
   "source": []
  },
  {
   "cell_type": "code",
   "execution_count": 4,
   "metadata": {},
   "outputs": [],
   "source": [
    "# recommender.get_als_recommendations(2375, N=5)"
   ]
  },
  {
   "cell_type": "code",
   "execution_count": 5,
   "metadata": {},
   "outputs": [],
   "source": [
    "# recommender.get_own_recommendations(2375, N=5)"
   ]
  },
  {
   "cell_type": "code",
   "execution_count": 6,
   "metadata": {},
   "outputs": [],
   "source": [
    "# recommender.get_similar_items_recommendation(2375, N=5)"
   ]
  },
  {
   "cell_type": "code",
   "execution_count": 7,
   "metadata": {},
   "outputs": [],
   "source": [
    "# recommender.get_similar_users_recommendation(2375, N=5)"
   ]
  },
  {
   "cell_type": "markdown",
   "metadata": {},
   "source": [
    "### Задание 1\n",
    "\n",
    "A) Попробуйте различные варианты генерации кандидатов. Какие из них дают наибольший recall@k ?\n",
    "- Пока пробуем отобрать 50 кандидатов (k=50)\n",
    "- Качество измеряем на data_val_lvl_1: следующие 6 недель после трейна\n",
    "\n",
    "Дают ли own recommendtions + top-popular лучший recall?  \n",
    "\n",
    "B)* Как зависит recall@k от k? Постройте для одной схемы генерации кандидатов эту зависимость для k = {20, 50, 100, 200, 500}  \n",
    "C)* Исходя из прошлого вопроса, как вы думаете, какое значение k является наиболее разумным?\n"
   ]
  },
  {
   "cell_type": "code",
   "execution_count": 8,
   "metadata": {},
   "outputs": [],
   "source": [
    "my_recomender = MainRecommender(data=data_train_lvl_1,data_test=data_val_lvl_1)"
   ]
  },
  {
   "cell_type": "code",
   "execution_count": 9,
   "metadata": {},
   "outputs": [],
   "source": [
    "# параметры предсказаний\n",
    "params = {'filter_already_liked_items':False, \n",
    "                        'filter_items':[999999], \n",
    "                        \"recalculate_user\":True}\n",
    "# параметры als\n",
    "param_als = {'factors':1100, 'regularization':35, 'iterations':20, \n",
    "                             'num_threads':-1,'calculate_training_loss':True}"
   ]
  },
  {
   "cell_type": "code",
   "execution_count": 10,
   "metadata": {},
   "outputs": [
    {
     "data": {
      "text/plain": [
       "{'status': True,\n",
       " 'matrix': None,\n",
       " 'params': {'agg_column': ('quantity', 'count'),\n",
       "  'filtr': [4, 1],\n",
       "  'full': False},\n",
       " 'uim_matrix_w': <2497x5001 sparse matrix of type '<class 'numpy.float64'>'\n",
       " \twith 641491 stored elements in Compressed Sparse Row format>,\n",
       " 'uim_matrix': <2497x5001 sparse matrix of type '<class 'numpy.float64'>'\n",
       " \twith 641491 stored elements in Compressed Sparse Row format>,\n",
       " 'ium_matrix_w_tfidf': <5001x2497 sparse matrix of type '<class 'numpy.float64'>'\n",
       " \twith 641491 stored elements in COOrdinate format>,\n",
       " 'ium_matrix_tfidf': <5001x2497 sparse matrix of type '<class 'numpy.float64'>'\n",
       " \twith 641491 stored elements in COOrdinate format>,\n",
       " 'ium_matrix_w_bm25': <5001x2497 sparse matrix of type '<class 'numpy.float64'>'\n",
       " \twith 641491 stored elements in COOrdinate format>,\n",
       " 'ium_matrix_bm25': <5001x2497 sparse matrix of type '<class 'numpy.float64'>'\n",
       " \twith 641491 stored elements in COOrdinate format>}"
      ]
     },
     "execution_count": 10,
     "metadata": {},
     "output_type": "execute_result"
    }
   ],
   "source": [
    "my_recomender.make_data(agg_column=('quantity','count'),filtr=[4,1],full =False)"
   ]
  },
  {
   "cell_type": "code",
   "execution_count": 11,
   "metadata": {},
   "outputs": [
    {
     "data": {
      "application/vnd.jupyter.widget-view+json": {
       "model_id": "10f231cedf5549959b1622c5f14d4e65",
       "version_major": 2,
       "version_minor": 0
      },
      "text/plain": [
       "HBox(children=(HTML(value=''), FloatProgress(value=0.0, max=5001.0), HTML(value='')))"
      ]
     },
     "metadata": {},
     "output_type": "display_data"
    },
    {
     "name": "stdout",
     "output_type": "stream",
     "text": [
      "\n"
     ]
    },
    {
     "data": {
      "text/plain": [
       "<implicit.nearest_neighbours.ItemItemRecommender at 0x1e70dfc0340>"
      ]
     },
     "execution_count": 11,
     "metadata": {},
     "output_type": "execute_result"
    }
   ],
   "source": [
    "my_recomender.fit_own_recommender()"
   ]
  },
  {
   "cell_type": "code",
   "execution_count": 12,
   "metadata": {
    "scrolled": false
   },
   "outputs": [
    {
     "data": {
      "text/plain": [
       "0.23307013469576984"
      ]
     },
     "execution_count": 12,
     "metadata": {},
     "output_type": "execute_result"
    }
   ],
   "source": [
    "my_recomender.validation_own_recommender(N=5,params=params)"
   ]
  },
  {
   "cell_type": "code",
   "execution_count": 13,
   "metadata": {},
   "outputs": [
    {
     "data": {
      "application/vnd.jupyter.widget-view+json": {
       "model_id": "77a8d2b4245f49e3885048f4460a1bf4",
       "version_major": 2,
       "version_minor": 0
      },
      "text/plain": [
       "HBox(children=(HTML(value=''), FloatProgress(value=0.0, max=5001.0), HTML(value='')))"
      ]
     },
     "metadata": {},
     "output_type": "display_data"
    },
    {
     "name": "stdout",
     "output_type": "stream",
     "text": [
      "\n"
     ]
    },
    {
     "data": {
      "text/plain": [
       "0.2505341384115157"
      ]
     },
     "execution_count": 13,
     "metadata": {},
     "output_type": "execute_result"
    }
   ],
   "source": [
    "my_recomender.fit_own_recommender('tf_idf')\n",
    "my_recomender.validation_own_recommender(N=5,params=params)"
   ]
  },
  {
   "cell_type": "code",
   "execution_count": 14,
   "metadata": {},
   "outputs": [
    {
     "data": {
      "application/vnd.jupyter.widget-view+json": {
       "model_id": "6b5a2f61eeb348e496f101f3ef28acfb",
       "version_major": 2,
       "version_minor": 0
      },
      "text/plain": [
       "HBox(children=(HTML(value=''), FloatProgress(value=0.0, max=5001.0), HTML(value='')))"
      ]
     },
     "metadata": {},
     "output_type": "display_data"
    },
    {
     "name": "stdout",
     "output_type": "stream",
     "text": [
      "\n"
     ]
    },
    {
     "data": {
      "text/plain": [
       "0.07691593125870867"
      ]
     },
     "execution_count": 14,
     "metadata": {},
     "output_type": "execute_result"
    }
   ],
   "source": [
    "my_recomender.fit_own_recommender('bm25')\n",
    "my_recomender.validation_own_recommender(N=5,params=params)"
   ]
  },
  {
   "cell_type": "code",
   "execution_count": null,
   "metadata": {},
   "outputs": [],
   "source": []
  },
  {
   "cell_type": "code",
   "execution_count": 15,
   "metadata": {},
   "outputs": [
    {
     "name": "stderr",
     "output_type": "stream",
     "text": [
      "WARNING:root:OpenBLAS detected. Its highly recommend to set the environment variable 'export OPENBLAS_NUM_THREADS=1' to disable its internal multithreading\n"
     ]
    },
    {
     "data": {
      "application/vnd.jupyter.widget-view+json": {
       "model_id": "15c72994beb5427296c05160e775fd08",
       "version_major": 2,
       "version_minor": 0
      },
      "text/plain": [
       "HBox(children=(HTML(value=''), FloatProgress(value=0.0, max=20.0), HTML(value='')))"
      ]
     },
     "metadata": {},
     "output_type": "display_data"
    },
    {
     "name": "stdout",
     "output_type": "stream",
     "text": [
      "\n"
     ]
    },
    {
     "data": {
      "text/plain": [
       "<implicit.als.AlternatingLeastSquares at 0x1e72c7c7940>"
      ]
     },
     "execution_count": 15,
     "metadata": {},
     "output_type": "execute_result"
    }
   ],
   "source": [
    "my_recomender.fit_als(params=param_als,weighting ='bm25' )"
   ]
  },
  {
   "cell_type": "code",
   "execution_count": 16,
   "metadata": {},
   "outputs": [
    {
     "data": {
      "text/plain": [
       "0.4509986065954484"
      ]
     },
     "execution_count": 16,
     "metadata": {},
     "output_type": "execute_result"
    }
   ],
   "source": [
    "my_recomender.validation_similar_items_recommendation()"
   ]
  },
  {
   "cell_type": "code",
   "execution_count": 17,
   "metadata": {},
   "outputs": [],
   "source": [
    "# my_recomender.validation_als_recommender(params=params)"
   ]
  },
  {
   "cell_type": "code",
   "execution_count": 18,
   "metadata": {},
   "outputs": [],
   "source": [
    "result = my_recomender.data_validation['data'].drop(['full_train','predict'],axis=1)"
   ]
  },
  {
   "cell_type": "code",
   "execution_count": 19,
   "metadata": {},
   "outputs": [],
   "source": [
    "def add_items(x,n):\n",
    "    delta = n- len(x)\n",
    "    free = [i for i in top_popular_500 if i not in x]\n",
    "    if delta:\n",
    "        add = free[:delta]\n",
    "        x = x+add\n",
    "    return x    \n",
    "        "
   ]
  },
  {
   "cell_type": "code",
   "execution_count": 20,
   "metadata": {},
   "outputs": [],
   "source": [
    "users_lev_1 = result.user_id.tolist()"
   ]
  },
  {
   "cell_type": "code",
   "execution_count": null,
   "metadata": {},
   "outputs": [],
   "source": [
    "res_recall = pd.DataFrame()"
   ]
  },
  {
   "cell_type": "code",
   "execution_count": 69,
   "metadata": {},
   "outputs": [
    {
     "name": "stdout",
     "output_type": "stream",
     "text": [
      "Wall time: 8min 29s\n"
     ]
    }
   ],
   "source": [
    "%%time\n",
    "\n",
    "for i in [20, 50, 100, 200, 500]:\n",
    "    col = f'item_simular_{i}'\n",
    "    predict = my_recomender.get_similar_items_recommendation(users = users_lev_1,N=i)['similar_recommendation'].tolist()\n",
    "    result[col] = predict\n",
    "    result[col] = result[col].apply(lambda x: add_items (x,i))\n",
    "    res_recall.loc[col,'recall'] = result.apply(lambda row : recall_at_k(row[col],row['test'],k=i),axis = 1).mean()\n"
   ]
  },
  {
   "cell_type": "code",
   "execution_count": 67,
   "metadata": {},
   "outputs": [
    {
     "name": "stdout",
     "output_type": "stream",
     "text": [
      "Wall time: 2h 40min 30s\n"
     ]
    }
   ],
   "source": [
    "%%time\n",
    "\n",
    "for i in [20, 50, 100, 200, 500]:\n",
    "    col = f'als_{i}'\n",
    "    predict = my_recomender.predict_als(users=users_lev_1,N=i,params=params)['result'].tolist()\n",
    "    result[col] = predict\n",
    "    result[col] = result[col].apply(lambda x: add_items (x,i))\n",
    "    res_recall.loc[col,'recall'] = result.apply(lambda row : recall_at_k(row[col],row['test'],k=i),axis = 1).mean()"
   ]
  },
  {
   "cell_type": "code",
   "execution_count": null,
   "metadata": {},
   "outputs": [],
   "source": []
  },
  {
   "cell_type": "code",
   "execution_count": null,
   "metadata": {},
   "outputs": [],
   "source": []
  },
  {
   "cell_type": "code",
   "execution_count": 70,
   "metadata": {},
   "outputs": [
    {
     "data": {
      "text/html": [
       "<div>\n",
       "<style scoped>\n",
       "    .dataframe tbody tr th:only-of-type {\n",
       "        vertical-align: middle;\n",
       "    }\n",
       "\n",
       "    .dataframe tbody tr th {\n",
       "        vertical-align: top;\n",
       "    }\n",
       "\n",
       "    .dataframe thead th {\n",
       "        text-align: right;\n",
       "    }\n",
       "</style>\n",
       "<table border=\"1\" class=\"dataframe\">\n",
       "  <thead>\n",
       "    <tr style=\"text-align: right;\">\n",
       "      <th></th>\n",
       "      <th>recall</th>\n",
       "    </tr>\n",
       "  </thead>\n",
       "  <tbody>\n",
       "    <tr>\n",
       "      <th>als_20</th>\n",
       "      <td>0.107261</td>\n",
       "    </tr>\n",
       "    <tr>\n",
       "      <th>als_50</th>\n",
       "      <td>0.168085</td>\n",
       "    </tr>\n",
       "    <tr>\n",
       "      <th>als_100</th>\n",
       "      <td>0.225330</td>\n",
       "    </tr>\n",
       "    <tr>\n",
       "      <th>als_200</th>\n",
       "      <td>0.289185</td>\n",
       "    </tr>\n",
       "    <tr>\n",
       "      <th>als_500</th>\n",
       "      <td>0.373700</td>\n",
       "    </tr>\n",
       "    <tr>\n",
       "      <th>item_simular_20</th>\n",
       "      <td>0.112366</td>\n",
       "    </tr>\n",
       "    <tr>\n",
       "      <th>item_simular_50</th>\n",
       "      <td>0.167533</td>\n",
       "    </tr>\n",
       "    <tr>\n",
       "      <th>item_simular_100</th>\n",
       "      <td>0.216337</td>\n",
       "    </tr>\n",
       "    <tr>\n",
       "      <th>item_simular_200</th>\n",
       "      <td>0.262514</td>\n",
       "    </tr>\n",
       "    <tr>\n",
       "      <th>item_simular_500</th>\n",
       "      <td>0.300258</td>\n",
       "    </tr>\n",
       "  </tbody>\n",
       "</table>\n",
       "</div>"
      ],
      "text/plain": [
       "                    recall\n",
       "als_20            0.107261\n",
       "als_50            0.168085\n",
       "als_100           0.225330\n",
       "als_200           0.289185\n",
       "als_500           0.373700\n",
       "item_simular_20   0.112366\n",
       "item_simular_50   0.167533\n",
       "item_simular_100  0.216337\n",
       "item_simular_200  0.262514\n",
       "item_simular_500  0.300258"
      ]
     },
     "execution_count": 70,
     "metadata": {},
     "output_type": "execute_result"
    }
   ],
   "source": [
    "res_recall"
   ]
  },
  {
   "cell_type": "code",
   "execution_count": 72,
   "metadata": {},
   "outputs": [
    {
     "data": {
      "text/html": [
       "<div>\n",
       "<style scoped>\n",
       "    .dataframe tbody tr th:only-of-type {\n",
       "        vertical-align: middle;\n",
       "    }\n",
       "\n",
       "    .dataframe tbody tr th {\n",
       "        vertical-align: top;\n",
       "    }\n",
       "\n",
       "    .dataframe thead th {\n",
       "        text-align: right;\n",
       "    }\n",
       "</style>\n",
       "<table border=\"1\" class=\"dataframe\">\n",
       "  <thead>\n",
       "    <tr style=\"text-align: right;\">\n",
       "      <th></th>\n",
       "      <th>user_id</th>\n",
       "      <th>test</th>\n",
       "      <th>train</th>\n",
       "      <th>item_simular_20</th>\n",
       "      <th>item_simular_50</th>\n",
       "      <th>item_simular_100</th>\n",
       "      <th>item_simular_200</th>\n",
       "      <th>item_simular_500</th>\n",
       "      <th>lgb_clas</th>\n",
       "      <th>als_20</th>\n",
       "      <th>als_50</th>\n",
       "      <th>als_100</th>\n",
       "      <th>als_200</th>\n",
       "      <th>als_500</th>\n",
       "    </tr>\n",
       "  </thead>\n",
       "  <tbody>\n",
       "    <tr>\n",
       "      <th>0</th>\n",
       "      <td>1</td>\n",
       "      <td>[853529, 865456, 867607, 872137, 874905, 87524...</td>\n",
       "      <td>[825123, 831447, 840361, 845307, 852014, 85498...</td>\n",
       "      <td>[856942, 1082185, 995242, 9527290, 940947, 557...</td>\n",
       "      <td>[856942, 1082185, 995242, 9527290, 940947, 557...</td>\n",
       "      <td>[856942, 1082185, 995242, 9527290, 940947, 557...</td>\n",
       "      <td>[856942, 1082185, 995242, 9527290, 940947, 557...</td>\n",
       "      <td>[856942, 1082185, 995242, 9527290, 940947, 557...</td>\n",
       "      <td>[1082185, 9655212, 1075074, 931136, 5978648]</td>\n",
       "      <td>[1082185, 995242, 9527290, 856942, 940947, 934...</td>\n",
       "      <td>[1082185, 995242, 9527290, 856942, 940947, 934...</td>\n",
       "      <td>[1082185, 995242, 9527290, 856942, 940947, 934...</td>\n",
       "      <td>[1082185, 995242, 9527290, 856942, 940947, 934...</td>\n",
       "      <td>[1082185, 995242, 9527290, 856942, 940947, 934...</td>\n",
       "    </tr>\n",
       "    <tr>\n",
       "      <th>1</th>\n",
       "      <td>2</td>\n",
       "      <td>[15830248, 838136, 839656, 861272, 866211, 870...</td>\n",
       "      <td>[854852, 930118, 1077555, 1098066, 5567388, 55...</td>\n",
       "      <td>[8090521, 5569230, 1133018, 1106523, 1075368, ...</td>\n",
       "      <td>[8090521, 5569230, 1133018, 1106523, 1075368, ...</td>\n",
       "      <td>[8090521, 5569230, 1133018, 1106523, 1075368, ...</td>\n",
       "      <td>[8090521, 5569230, 1133018, 1106523, 1075368, ...</td>\n",
       "      <td>[8090521, 5569230, 1133018, 1106523, 1075368, ...</td>\n",
       "      <td>[1106523, 914190, 1053690, 1075368, 1133018]</td>\n",
       "      <td>[1133018, 5569230, 1082185, 1106523, 8090521, ...</td>\n",
       "      <td>[1133018, 5569230, 1082185, 1106523, 8090521, ...</td>\n",
       "      <td>[1133018, 5569230, 1082185, 1106523, 8090521, ...</td>\n",
       "      <td>[1133018, 5569230, 1082185, 1106523, 8090521, ...</td>\n",
       "      <td>[1133018, 5569230, 1082185, 1106523, 8090521, ...</td>\n",
       "    </tr>\n",
       "    <tr>\n",
       "      <th>2</th>\n",
       "      <td>4</td>\n",
       "      <td>[883932, 970760, 1035676, 1055863, 1097610, 67...</td>\n",
       "      <td>[836163, 857849, 877523, 878909, 883932, 89142...</td>\n",
       "      <td>[883932, 891423, 962229, 910109, 1121367, 1075...</td>\n",
       "      <td>[883932, 891423, 962229, 910109, 1121367, 1075...</td>\n",
       "      <td>[883932, 891423, 962229, 910109, 1121367, 1075...</td>\n",
       "      <td>[883932, 891423, 962229, 910109, 1121367, 1075...</td>\n",
       "      <td>[883932, 891423, 962229, 910109, 1121367, 1075...</td>\n",
       "      <td>[962229, 1029743, 1052294, 1075368, 944534]</td>\n",
       "      <td>[883932, 902172, 891423, 962229, 1075368, 9518...</td>\n",
       "      <td>[883932, 902172, 891423, 962229, 1075368, 9518...</td>\n",
       "      <td>[883932, 902172, 891423, 962229, 1075368, 9518...</td>\n",
       "      <td>[883932, 902172, 891423, 962229, 1075368, 9518...</td>\n",
       "      <td>[883932, 902172, 891423, 962229, 1075368, 9518...</td>\n",
       "    </tr>\n",
       "    <tr>\n",
       "      <th>3</th>\n",
       "      <td>6</td>\n",
       "      <td>[1024306, 1102949, 6548453, 835394, 940804, 96...</td>\n",
       "      <td>[840361, 851494, 851819, 851903, 863447, 87623...</td>\n",
       "      <td>[1082185, 840361, 1119051, 1037863, 863447, 55...</td>\n",
       "      <td>[1082185, 840361, 1119051, 1037863, 863447, 55...</td>\n",
       "      <td>[1082185, 840361, 1119051, 1037863, 863447, 55...</td>\n",
       "      <td>[1082185, 840361, 1119051, 1037863, 863447, 55...</td>\n",
       "      <td>[1082185, 840361, 1119051, 1037863, 863447, 55...</td>\n",
       "      <td>[1098844, 1082185, 1029743, 6534178, 981760]</td>\n",
       "      <td>[1082185, 878996, 1024306, 1037863, 1119051, 9...</td>\n",
       "      <td>[1082185, 878996, 1024306, 1037863, 1119051, 9...</td>\n",
       "      <td>[1082185, 878996, 1024306, 1037863, 1119051, 9...</td>\n",
       "      <td>[1082185, 878996, 1024306, 1037863, 1119051, 9...</td>\n",
       "      <td>[1082185, 878996, 1024306, 1037863, 1119051, 9...</td>\n",
       "    </tr>\n",
       "    <tr>\n",
       "      <th>4</th>\n",
       "      <td>7</td>\n",
       "      <td>[836281, 843306, 845294, 914190, 920456, 93886...</td>\n",
       "      <td>[865569, 886703, 889731, 893400, 995436, 10205...</td>\n",
       "      <td>[1082185, 1122358, 6944571, 1022003, 828867, 1...</td>\n",
       "      <td>[1082185, 1122358, 6944571, 1022003, 828867, 1...</td>\n",
       "      <td>[1082185, 1122358, 6944571, 1022003, 828867, 1...</td>\n",
       "      <td>[1082185, 1122358, 6944571, 1022003, 828867, 1...</td>\n",
       "      <td>[1082185, 1122358, 6944571, 1022003, 828867, 1...</td>\n",
       "      <td>[1082185, 1029743, 1126899, 1106523, 5978656]</td>\n",
       "      <td>[1082185, 1122358, 828867, 6944571, 1022003, 8...</td>\n",
       "      <td>[1082185, 1122358, 828867, 6944571, 1022003, 8...</td>\n",
       "      <td>[1082185, 1122358, 828867, 6944571, 1022003, 8...</td>\n",
       "      <td>[1082185, 1122358, 828867, 6944571, 1022003, 8...</td>\n",
       "      <td>[1082185, 1122358, 828867, 6944571, 1022003, 8...</td>\n",
       "    </tr>\n",
       "    <tr>\n",
       "      <th>...</th>\n",
       "      <td>...</td>\n",
       "      <td>...</td>\n",
       "      <td>...</td>\n",
       "      <td>...</td>\n",
       "      <td>...</td>\n",
       "      <td>...</td>\n",
       "      <td>...</td>\n",
       "      <td>...</td>\n",
       "      <td>...</td>\n",
       "      <td>...</td>\n",
       "      <td>...</td>\n",
       "      <td>...</td>\n",
       "      <td>...</td>\n",
       "      <td>...</td>\n",
       "    </tr>\n",
       "    <tr>\n",
       "      <th>2148</th>\n",
       "      <td>2496</td>\n",
       "      <td>[831509, 867188, 1013623, 1048851, 5592734, 16...</td>\n",
       "      <td>[840361, 852159, 871756, 886703, 899624, 91612...</td>\n",
       "      <td>[981760, 883404, 916122, 5569230, 1056509, 995...</td>\n",
       "      <td>[981760, 883404, 916122, 5569230, 1056509, 995...</td>\n",
       "      <td>[981760, 883404, 916122, 5569230, 1056509, 995...</td>\n",
       "      <td>[981760, 883404, 916122, 5569230, 1056509, 995...</td>\n",
       "      <td>[981760, 883404, 916122, 5569230, 1056509, 995...</td>\n",
       "      <td>[6534178, 1082185, 1106523, 10285187, 10285149]</td>\n",
       "      <td>[1133018, 914190, 981760, 916122, 995876, 1106...</td>\n",
       "      <td>[1133018, 914190, 981760, 916122, 995876, 1106...</td>\n",
       "      <td>[1133018, 914190, 981760, 916122, 995876, 1106...</td>\n",
       "      <td>[1133018, 914190, 981760, 916122, 995876, 1106...</td>\n",
       "      <td>[1133018, 914190, 981760, 916122, 995876, 1106...</td>\n",
       "    </tr>\n",
       "    <tr>\n",
       "      <th>2149</th>\n",
       "      <td>2497</td>\n",
       "      <td>[820291, 824759, 838797, 859010, 859075, 86077...</td>\n",
       "      <td>[838220, 1037840, 1052294, 5569230, 8090537, 1...</td>\n",
       "      <td>[860776, 995785, 1066685, 965719, 896938, 8705...</td>\n",
       "      <td>[860776, 995785, 1066685, 965719, 896938, 8705...</td>\n",
       "      <td>[860776, 995785, 1066685, 965719, 896938, 8705...</td>\n",
       "      <td>[860776, 995785, 1066685, 965719, 896938, 8705...</td>\n",
       "      <td>[860776, 995785, 1066685, 965719, 896938, 8705...</td>\n",
       "      <td>[1082185, 1029743, 1119089, 896938, 965719]</td>\n",
       "      <td>[995785, 904360, 860776, 845208, 5569230, 8996...</td>\n",
       "      <td>[995785, 904360, 860776, 845208, 5569230, 8996...</td>\n",
       "      <td>[995785, 904360, 860776, 845208, 5569230, 8996...</td>\n",
       "      <td>[995785, 904360, 860776, 845208, 5569230, 8996...</td>\n",
       "      <td>[995785, 904360, 860776, 845208, 5569230, 8996...</td>\n",
       "    </tr>\n",
       "    <tr>\n",
       "      <th>2150</th>\n",
       "      <td>2498</td>\n",
       "      <td>[865511, 962991, 1076374, 1102358, 5564901, 15...</td>\n",
       "      <td>[824555, 835576, 901776, 904023, 911215, 91749...</td>\n",
       "      <td>[1070820, 1126899, 1082185, 961554, 1053690, 8...</td>\n",
       "      <td>[1070820, 1126899, 1082185, 961554, 1053690, 8...</td>\n",
       "      <td>[1070820, 1126899, 1082185, 961554, 1053690, 8...</td>\n",
       "      <td>[1070820, 1126899, 1082185, 961554, 1053690, 8...</td>\n",
       "      <td>[1070820, 1126899, 1082185, 961554, 1053690, 8...</td>\n",
       "      <td>[1070820, 1106523, 1126899, 1082185, 1053690]</td>\n",
       "      <td>[1082185, 1070820, 861272, 1053690, 1126899, 8...</td>\n",
       "      <td>[1082185, 1070820, 861272, 1053690, 1126899, 8...</td>\n",
       "      <td>[1082185, 1070820, 861272, 1053690, 1126899, 8...</td>\n",
       "      <td>[1082185, 1070820, 861272, 1053690, 1126899, 8...</td>\n",
       "      <td>[1082185, 1070820, 861272, 1053690, 1126899, 8...</td>\n",
       "    </tr>\n",
       "    <tr>\n",
       "      <th>2151</th>\n",
       "      <td>2499</td>\n",
       "      <td>[861282, 921744, 1050968, 13842089, 828837, 86...</td>\n",
       "      <td>[838186, 853197, 864143, 883665, 932949, 93383...</td>\n",
       "      <td>[1070820, 826249, 5570048, 944317, 1074405, 99...</td>\n",
       "      <td>[1070820, 826249, 5570048, 944317, 1074405, 99...</td>\n",
       "      <td>[1070820, 826249, 5570048, 944317, 1074405, 99...</td>\n",
       "      <td>[1070820, 826249, 5570048, 944317, 1074405, 99...</td>\n",
       "      <td>[1070820, 826249, 5570048, 944317, 1074405, 99...</td>\n",
       "      <td>[1070820, 1082185, 6534178, 6533889, 866528]</td>\n",
       "      <td>[826249, 883404, 1070820, 1098066, 965766, 999...</td>\n",
       "      <td>[826249, 883404, 1070820, 1098066, 965766, 999...</td>\n",
       "      <td>[826249, 883404, 1070820, 1098066, 965766, 999...</td>\n",
       "      <td>[826249, 883404, 1070820, 1098066, 965766, 999...</td>\n",
       "      <td>[826249, 883404, 1070820, 1098066, 965766, 999...</td>\n",
       "    </tr>\n",
       "    <tr>\n",
       "      <th>2152</th>\n",
       "      <td>2500</td>\n",
       "      <td>[856455, 902192, 903476, 931672, 936634, 95170...</td>\n",
       "      <td>[856455, 903476, 834102, 837751, 880797, 89301...</td>\n",
       "      <td>[1082185, 859237, 6534178, 1063739, 1058997, 1...</td>\n",
       "      <td>[1082185, 859237, 6534178, 1063739, 1058997, 1...</td>\n",
       "      <td>[1082185, 859237, 6534178, 1063739, 1058997, 1...</td>\n",
       "      <td>[1082185, 859237, 6534178, 1063739, 1058997, 1...</td>\n",
       "      <td>[1082185, 859237, 6534178, 1063739, 1058997, 1...</td>\n",
       "      <td>[1082185, 6534178, 1126899, 981760, 1058997]</td>\n",
       "      <td>[1082185, 1058997, 5978656, 6534178, 995242, 8...</td>\n",
       "      <td>[1082185, 1058997, 5978656, 6534178, 995242, 8...</td>\n",
       "      <td>[1082185, 1058997, 5978656, 6534178, 995242, 8...</td>\n",
       "      <td>[1082185, 1058997, 5978656, 6534178, 995242, 8...</td>\n",
       "      <td>[1082185, 1058997, 5978656, 6534178, 995242, 8...</td>\n",
       "    </tr>\n",
       "  </tbody>\n",
       "</table>\n",
       "<p>2153 rows × 14 columns</p>\n",
       "</div>"
      ],
      "text/plain": [
       "      user_id                                               test  \\\n",
       "0           1  [853529, 865456, 867607, 872137, 874905, 87524...   \n",
       "1           2  [15830248, 838136, 839656, 861272, 866211, 870...   \n",
       "2           4  [883932, 970760, 1035676, 1055863, 1097610, 67...   \n",
       "3           6  [1024306, 1102949, 6548453, 835394, 940804, 96...   \n",
       "4           7  [836281, 843306, 845294, 914190, 920456, 93886...   \n",
       "...       ...                                                ...   \n",
       "2148     2496  [831509, 867188, 1013623, 1048851, 5592734, 16...   \n",
       "2149     2497  [820291, 824759, 838797, 859010, 859075, 86077...   \n",
       "2150     2498  [865511, 962991, 1076374, 1102358, 5564901, 15...   \n",
       "2151     2499  [861282, 921744, 1050968, 13842089, 828837, 86...   \n",
       "2152     2500  [856455, 902192, 903476, 931672, 936634, 95170...   \n",
       "\n",
       "                                                  train  \\\n",
       "0     [825123, 831447, 840361, 845307, 852014, 85498...   \n",
       "1     [854852, 930118, 1077555, 1098066, 5567388, 55...   \n",
       "2     [836163, 857849, 877523, 878909, 883932, 89142...   \n",
       "3     [840361, 851494, 851819, 851903, 863447, 87623...   \n",
       "4     [865569, 886703, 889731, 893400, 995436, 10205...   \n",
       "...                                                 ...   \n",
       "2148  [840361, 852159, 871756, 886703, 899624, 91612...   \n",
       "2149  [838220, 1037840, 1052294, 5569230, 8090537, 1...   \n",
       "2150  [824555, 835576, 901776, 904023, 911215, 91749...   \n",
       "2151  [838186, 853197, 864143, 883665, 932949, 93383...   \n",
       "2152  [856455, 903476, 834102, 837751, 880797, 89301...   \n",
       "\n",
       "                                        item_simular_20  \\\n",
       "0     [856942, 1082185, 995242, 9527290, 940947, 557...   \n",
       "1     [8090521, 5569230, 1133018, 1106523, 1075368, ...   \n",
       "2     [883932, 891423, 962229, 910109, 1121367, 1075...   \n",
       "3     [1082185, 840361, 1119051, 1037863, 863447, 55...   \n",
       "4     [1082185, 1122358, 6944571, 1022003, 828867, 1...   \n",
       "...                                                 ...   \n",
       "2148  [981760, 883404, 916122, 5569230, 1056509, 995...   \n",
       "2149  [860776, 995785, 1066685, 965719, 896938, 8705...   \n",
       "2150  [1070820, 1126899, 1082185, 961554, 1053690, 8...   \n",
       "2151  [1070820, 826249, 5570048, 944317, 1074405, 99...   \n",
       "2152  [1082185, 859237, 6534178, 1063739, 1058997, 1...   \n",
       "\n",
       "                                        item_simular_50  \\\n",
       "0     [856942, 1082185, 995242, 9527290, 940947, 557...   \n",
       "1     [8090521, 5569230, 1133018, 1106523, 1075368, ...   \n",
       "2     [883932, 891423, 962229, 910109, 1121367, 1075...   \n",
       "3     [1082185, 840361, 1119051, 1037863, 863447, 55...   \n",
       "4     [1082185, 1122358, 6944571, 1022003, 828867, 1...   \n",
       "...                                                 ...   \n",
       "2148  [981760, 883404, 916122, 5569230, 1056509, 995...   \n",
       "2149  [860776, 995785, 1066685, 965719, 896938, 8705...   \n",
       "2150  [1070820, 1126899, 1082185, 961554, 1053690, 8...   \n",
       "2151  [1070820, 826249, 5570048, 944317, 1074405, 99...   \n",
       "2152  [1082185, 859237, 6534178, 1063739, 1058997, 1...   \n",
       "\n",
       "                                       item_simular_100  \\\n",
       "0     [856942, 1082185, 995242, 9527290, 940947, 557...   \n",
       "1     [8090521, 5569230, 1133018, 1106523, 1075368, ...   \n",
       "2     [883932, 891423, 962229, 910109, 1121367, 1075...   \n",
       "3     [1082185, 840361, 1119051, 1037863, 863447, 55...   \n",
       "4     [1082185, 1122358, 6944571, 1022003, 828867, 1...   \n",
       "...                                                 ...   \n",
       "2148  [981760, 883404, 916122, 5569230, 1056509, 995...   \n",
       "2149  [860776, 995785, 1066685, 965719, 896938, 8705...   \n",
       "2150  [1070820, 1126899, 1082185, 961554, 1053690, 8...   \n",
       "2151  [1070820, 826249, 5570048, 944317, 1074405, 99...   \n",
       "2152  [1082185, 859237, 6534178, 1063739, 1058997, 1...   \n",
       "\n",
       "                                       item_simular_200  \\\n",
       "0     [856942, 1082185, 995242, 9527290, 940947, 557...   \n",
       "1     [8090521, 5569230, 1133018, 1106523, 1075368, ...   \n",
       "2     [883932, 891423, 962229, 910109, 1121367, 1075...   \n",
       "3     [1082185, 840361, 1119051, 1037863, 863447, 55...   \n",
       "4     [1082185, 1122358, 6944571, 1022003, 828867, 1...   \n",
       "...                                                 ...   \n",
       "2148  [981760, 883404, 916122, 5569230, 1056509, 995...   \n",
       "2149  [860776, 995785, 1066685, 965719, 896938, 8705...   \n",
       "2150  [1070820, 1126899, 1082185, 961554, 1053690, 8...   \n",
       "2151  [1070820, 826249, 5570048, 944317, 1074405, 99...   \n",
       "2152  [1082185, 859237, 6534178, 1063739, 1058997, 1...   \n",
       "\n",
       "                                       item_simular_500  \\\n",
       "0     [856942, 1082185, 995242, 9527290, 940947, 557...   \n",
       "1     [8090521, 5569230, 1133018, 1106523, 1075368, ...   \n",
       "2     [883932, 891423, 962229, 910109, 1121367, 1075...   \n",
       "3     [1082185, 840361, 1119051, 1037863, 863447, 55...   \n",
       "4     [1082185, 1122358, 6944571, 1022003, 828867, 1...   \n",
       "...                                                 ...   \n",
       "2148  [981760, 883404, 916122, 5569230, 1056509, 995...   \n",
       "2149  [860776, 995785, 1066685, 965719, 896938, 8705...   \n",
       "2150  [1070820, 1126899, 1082185, 961554, 1053690, 8...   \n",
       "2151  [1070820, 826249, 5570048, 944317, 1074405, 99...   \n",
       "2152  [1082185, 859237, 6534178, 1063739, 1058997, 1...   \n",
       "\n",
       "                                             lgb_clas  \\\n",
       "0        [1082185, 9655212, 1075074, 931136, 5978648]   \n",
       "1        [1106523, 914190, 1053690, 1075368, 1133018]   \n",
       "2         [962229, 1029743, 1052294, 1075368, 944534]   \n",
       "3        [1098844, 1082185, 1029743, 6534178, 981760]   \n",
       "4       [1082185, 1029743, 1126899, 1106523, 5978656]   \n",
       "...                                               ...   \n",
       "2148  [6534178, 1082185, 1106523, 10285187, 10285149]   \n",
       "2149      [1082185, 1029743, 1119089, 896938, 965719]   \n",
       "2150    [1070820, 1106523, 1126899, 1082185, 1053690]   \n",
       "2151     [1070820, 1082185, 6534178, 6533889, 866528]   \n",
       "2152     [1082185, 6534178, 1126899, 981760, 1058997]   \n",
       "\n",
       "                                                 als_20  \\\n",
       "0     [1082185, 995242, 9527290, 856942, 940947, 934...   \n",
       "1     [1133018, 5569230, 1082185, 1106523, 8090521, ...   \n",
       "2     [883932, 902172, 891423, 962229, 1075368, 9518...   \n",
       "3     [1082185, 878996, 1024306, 1037863, 1119051, 9...   \n",
       "4     [1082185, 1122358, 828867, 6944571, 1022003, 8...   \n",
       "...                                                 ...   \n",
       "2148  [1133018, 914190, 981760, 916122, 995876, 1106...   \n",
       "2149  [995785, 904360, 860776, 845208, 5569230, 8996...   \n",
       "2150  [1082185, 1070820, 861272, 1053690, 1126899, 8...   \n",
       "2151  [826249, 883404, 1070820, 1098066, 965766, 999...   \n",
       "2152  [1082185, 1058997, 5978656, 6534178, 995242, 8...   \n",
       "\n",
       "                                                 als_50  \\\n",
       "0     [1082185, 995242, 9527290, 856942, 940947, 934...   \n",
       "1     [1133018, 5569230, 1082185, 1106523, 8090521, ...   \n",
       "2     [883932, 902172, 891423, 962229, 1075368, 9518...   \n",
       "3     [1082185, 878996, 1024306, 1037863, 1119051, 9...   \n",
       "4     [1082185, 1122358, 828867, 6944571, 1022003, 8...   \n",
       "...                                                 ...   \n",
       "2148  [1133018, 914190, 981760, 916122, 995876, 1106...   \n",
       "2149  [995785, 904360, 860776, 845208, 5569230, 8996...   \n",
       "2150  [1082185, 1070820, 861272, 1053690, 1126899, 8...   \n",
       "2151  [826249, 883404, 1070820, 1098066, 965766, 999...   \n",
       "2152  [1082185, 1058997, 5978656, 6534178, 995242, 8...   \n",
       "\n",
       "                                                als_100  \\\n",
       "0     [1082185, 995242, 9527290, 856942, 940947, 934...   \n",
       "1     [1133018, 5569230, 1082185, 1106523, 8090521, ...   \n",
       "2     [883932, 902172, 891423, 962229, 1075368, 9518...   \n",
       "3     [1082185, 878996, 1024306, 1037863, 1119051, 9...   \n",
       "4     [1082185, 1122358, 828867, 6944571, 1022003, 8...   \n",
       "...                                                 ...   \n",
       "2148  [1133018, 914190, 981760, 916122, 995876, 1106...   \n",
       "2149  [995785, 904360, 860776, 845208, 5569230, 8996...   \n",
       "2150  [1082185, 1070820, 861272, 1053690, 1126899, 8...   \n",
       "2151  [826249, 883404, 1070820, 1098066, 965766, 999...   \n",
       "2152  [1082185, 1058997, 5978656, 6534178, 995242, 8...   \n",
       "\n",
       "                                                als_200  \\\n",
       "0     [1082185, 995242, 9527290, 856942, 940947, 934...   \n",
       "1     [1133018, 5569230, 1082185, 1106523, 8090521, ...   \n",
       "2     [883932, 902172, 891423, 962229, 1075368, 9518...   \n",
       "3     [1082185, 878996, 1024306, 1037863, 1119051, 9...   \n",
       "4     [1082185, 1122358, 828867, 6944571, 1022003, 8...   \n",
       "...                                                 ...   \n",
       "2148  [1133018, 914190, 981760, 916122, 995876, 1106...   \n",
       "2149  [995785, 904360, 860776, 845208, 5569230, 8996...   \n",
       "2150  [1082185, 1070820, 861272, 1053690, 1126899, 8...   \n",
       "2151  [826249, 883404, 1070820, 1098066, 965766, 999...   \n",
       "2152  [1082185, 1058997, 5978656, 6534178, 995242, 8...   \n",
       "\n",
       "                                                als_500  \n",
       "0     [1082185, 995242, 9527290, 856942, 940947, 934...  \n",
       "1     [1133018, 5569230, 1082185, 1106523, 8090521, ...  \n",
       "2     [883932, 902172, 891423, 962229, 1075368, 9518...  \n",
       "3     [1082185, 878996, 1024306, 1037863, 1119051, 9...  \n",
       "4     [1082185, 1122358, 828867, 6944571, 1022003, 8...  \n",
       "...                                                 ...  \n",
       "2148  [1133018, 914190, 981760, 916122, 995876, 1106...  \n",
       "2149  [995785, 904360, 860776, 845208, 5569230, 8996...  \n",
       "2150  [1082185, 1070820, 861272, 1053690, 1126899, 8...  \n",
       "2151  [826249, 883404, 1070820, 1098066, 965766, 999...  \n",
       "2152  [1082185, 1058997, 5978656, 6534178, 995242, 8...  \n",
       "\n",
       "[2153 rows x 14 columns]"
      ]
     },
     "execution_count": 72,
     "metadata": {},
     "output_type": "execute_result"
    }
   ],
   "source": [
    "result"
   ]
  },
  {
   "cell_type": "markdown",
   "metadata": {},
   "source": [
    "### Задание 2.\n",
    "\n",
    "Обучите модель 2-ого уровня, при этом:\n",
    "    - Добавьте минимум по 2 фичи для юзера, товара и пары юзер-товар\n",
    "    - Измерьте отдельно precision@5 модели 1-ого уровня и двухуровневой модели на data_val_lvl_2\n",
    "    - Вырос ли precision@5 при использовании двухуровневой модели?"
   ]
  },
  {
   "cell_type": "code",
   "execution_count": 24,
   "metadata": {},
   "outputs": [],
   "source": [
    "df = pd.DataFrame({'user_id':result.user_id.values.repeat(50),\n",
    "                 'item_id':np.concatenate(result.item_simular_50.values)})"
   ]
  },
  {
   "cell_type": "code",
   "execution_count": 283,
   "metadata": {},
   "outputs": [],
   "source": [
    "df_als = pd.DataFrame({'user_id':result.user_id.values.repeat(50),\n",
    "                 'item_id':np.concatenate(result.als_50.values)})"
   ]
  },
  {
   "cell_type": "code",
   "execution_count": 284,
   "metadata": {},
   "outputs": [],
   "source": [
    "targets_lvl_2 = data_train_lvl_2[['user_id', 'item_id']].copy()\n",
    "targets_lvl_2= targets_lvl_2.groupby(['user_id', 'item_id']).head(1)\n",
    "targets_lvl_2['target'] = 1  # тут только покупки \n",
    "\n",
    "targets_lvl_2 = df.merge(targets_lvl_2, on=['user_id', 'item_id'], how='left')\n",
    "targets_lvl_2_als = df_als.merge(targets_lvl_2, on=['user_id', 'item_id'], how='left')\n",
    "targets_lvl_2['target'].fillna(0, inplace= True)\n",
    "targets_lvl_2_als['target'].fillna(0, inplace= True)"
   ]
  },
  {
   "cell_type": "code",
   "execution_count": 285,
   "metadata": {},
   "outputs": [
    {
     "data": {
      "text/plain": [
       "(0.19505805852299118, 0.15119368323269855)"
      ]
     },
     "execution_count": 285,
     "metadata": {},
     "output_type": "execute_result"
    }
   ],
   "source": [
    "targets_lvl_2.target.mean(),targets_lvl_2_als.target.mean()"
   ]
  },
  {
   "cell_type": "code",
   "execution_count": null,
   "metadata": {},
   "outputs": [],
   "source": []
  },
  {
   "cell_type": "code",
   "execution_count": 29,
   "metadata": {},
   "outputs": [
    {
     "data": {
      "text/html": [
       "<div>\n",
       "<style scoped>\n",
       "    .dataframe tbody tr th:only-of-type {\n",
       "        vertical-align: middle;\n",
       "    }\n",
       "\n",
       "    .dataframe tbody tr th {\n",
       "        vertical-align: top;\n",
       "    }\n",
       "\n",
       "    .dataframe thead th {\n",
       "        text-align: right;\n",
       "    }\n",
       "</style>\n",
       "<table border=\"1\" class=\"dataframe\">\n",
       "  <thead>\n",
       "    <tr style=\"text-align: right;\">\n",
       "      <th></th>\n",
       "      <th>item_id</th>\n",
       "      <th>manufacturer</th>\n",
       "      <th>department</th>\n",
       "      <th>brand</th>\n",
       "      <th>commodity_desc</th>\n",
       "      <th>sub_commodity_desc</th>\n",
       "      <th>curr_size_of_product</th>\n",
       "    </tr>\n",
       "  </thead>\n",
       "  <tbody>\n",
       "    <tr>\n",
       "      <th>0</th>\n",
       "      <td>25671</td>\n",
       "      <td>2</td>\n",
       "      <td>GROCERY</td>\n",
       "      <td>National</td>\n",
       "      <td>FRZN ICE</td>\n",
       "      <td>ICE - CRUSHED/CUBED</td>\n",
       "      <td>22 LB</td>\n",
       "    </tr>\n",
       "    <tr>\n",
       "      <th>1</th>\n",
       "      <td>26081</td>\n",
       "      <td>2</td>\n",
       "      <td>MISC. TRANS.</td>\n",
       "      <td>National</td>\n",
       "      <td>NO COMMODITY DESCRIPTION</td>\n",
       "      <td>NO SUBCOMMODITY DESCRIPTION</td>\n",
       "      <td></td>\n",
       "    </tr>\n",
       "    <tr>\n",
       "      <th>2</th>\n",
       "      <td>26093</td>\n",
       "      <td>69</td>\n",
       "      <td>PASTRY</td>\n",
       "      <td>Private</td>\n",
       "      <td>BREAD</td>\n",
       "      <td>BREAD:ITALIAN/FRENCH</td>\n",
       "      <td></td>\n",
       "    </tr>\n",
       "    <tr>\n",
       "      <th>3</th>\n",
       "      <td>26190</td>\n",
       "      <td>69</td>\n",
       "      <td>GROCERY</td>\n",
       "      <td>Private</td>\n",
       "      <td>FRUIT - SHELF STABLE</td>\n",
       "      <td>APPLE SAUCE</td>\n",
       "      <td>50 OZ</td>\n",
       "    </tr>\n",
       "    <tr>\n",
       "      <th>4</th>\n",
       "      <td>26355</td>\n",
       "      <td>69</td>\n",
       "      <td>GROCERY</td>\n",
       "      <td>Private</td>\n",
       "      <td>COOKIES/CONES</td>\n",
       "      <td>SPECIALTY COOKIES</td>\n",
       "      <td>14 OZ</td>\n",
       "    </tr>\n",
       "    <tr>\n",
       "      <th>...</th>\n",
       "      <td>...</td>\n",
       "      <td>...</td>\n",
       "      <td>...</td>\n",
       "      <td>...</td>\n",
       "      <td>...</td>\n",
       "      <td>...</td>\n",
       "      <td>...</td>\n",
       "    </tr>\n",
       "    <tr>\n",
       "      <th>92348</th>\n",
       "      <td>18293142</td>\n",
       "      <td>6384</td>\n",
       "      <td>DRUG GM</td>\n",
       "      <td>National</td>\n",
       "      <td>BOOKSTORE</td>\n",
       "      <td>PAPERBACK BOOKS</td>\n",
       "      <td></td>\n",
       "    </tr>\n",
       "    <tr>\n",
       "      <th>92349</th>\n",
       "      <td>18293439</td>\n",
       "      <td>6393</td>\n",
       "      <td>DRUG GM</td>\n",
       "      <td>National</td>\n",
       "      <td>BOOKSTORE</td>\n",
       "      <td>CHILDRENS LOW END</td>\n",
       "      <td></td>\n",
       "    </tr>\n",
       "    <tr>\n",
       "      <th>92350</th>\n",
       "      <td>18293696</td>\n",
       "      <td>6406</td>\n",
       "      <td>DRUG GM</td>\n",
       "      <td>National</td>\n",
       "      <td>BOOKSTORE</td>\n",
       "      <td>PAPERBACK BEST SELLER</td>\n",
       "      <td></td>\n",
       "    </tr>\n",
       "    <tr>\n",
       "      <th>92351</th>\n",
       "      <td>18294080</td>\n",
       "      <td>6442</td>\n",
       "      <td>DRUG GM</td>\n",
       "      <td>National</td>\n",
       "      <td>BOOKSTORE</td>\n",
       "      <td>PAPERBACK BOOKS</td>\n",
       "      <td></td>\n",
       "    </tr>\n",
       "    <tr>\n",
       "      <th>92352</th>\n",
       "      <td>18316298</td>\n",
       "      <td>764</td>\n",
       "      <td>GROCERY</td>\n",
       "      <td>National</td>\n",
       "      <td>PAPER TOWELS</td>\n",
       "      <td>PAPER TOWELS &amp; HOLDERS</td>\n",
       "      <td></td>\n",
       "    </tr>\n",
       "  </tbody>\n",
       "</table>\n",
       "<p>92353 rows × 7 columns</p>\n",
       "</div>"
      ],
      "text/plain": [
       "        item_id  manufacturer    department     brand  \\\n",
       "0         25671             2       GROCERY  National   \n",
       "1         26081             2  MISC. TRANS.  National   \n",
       "2         26093            69        PASTRY   Private   \n",
       "3         26190            69       GROCERY   Private   \n",
       "4         26355            69       GROCERY   Private   \n",
       "...         ...           ...           ...       ...   \n",
       "92348  18293142          6384       DRUG GM  National   \n",
       "92349  18293439          6393       DRUG GM  National   \n",
       "92350  18293696          6406       DRUG GM  National   \n",
       "92351  18294080          6442       DRUG GM  National   \n",
       "92352  18316298           764       GROCERY  National   \n",
       "\n",
       "                 commodity_desc           sub_commodity_desc  \\\n",
       "0                      FRZN ICE          ICE - CRUSHED/CUBED   \n",
       "1      NO COMMODITY DESCRIPTION  NO SUBCOMMODITY DESCRIPTION   \n",
       "2                         BREAD         BREAD:ITALIAN/FRENCH   \n",
       "3          FRUIT - SHELF STABLE                  APPLE SAUCE   \n",
       "4                 COOKIES/CONES            SPECIALTY COOKIES   \n",
       "...                         ...                          ...   \n",
       "92348                 BOOKSTORE              PAPERBACK BOOKS   \n",
       "92349                 BOOKSTORE            CHILDRENS LOW END   \n",
       "92350                 BOOKSTORE        PAPERBACK BEST SELLER   \n",
       "92351                 BOOKSTORE              PAPERBACK BOOKS   \n",
       "92352              PAPER TOWELS       PAPER TOWELS & HOLDERS   \n",
       "\n",
       "      curr_size_of_product  \n",
       "0                    22 LB  \n",
       "1                           \n",
       "2                           \n",
       "3                    50 OZ  \n",
       "4                    14 OZ  \n",
       "...                    ...  \n",
       "92348                       \n",
       "92349                       \n",
       "92350                       \n",
       "92351                       \n",
       "92352                       \n",
       "\n",
       "[92353 rows x 7 columns]"
      ]
     },
     "execution_count": 29,
     "metadata": {},
     "output_type": "execute_result"
    }
   ],
   "source": [
    "item_features"
   ]
  },
  {
   "cell_type": "code",
   "execution_count": 30,
   "metadata": {},
   "outputs": [
    {
     "data": {
      "text/html": [
       "<div>\n",
       "<style scoped>\n",
       "    .dataframe tbody tr th:only-of-type {\n",
       "        vertical-align: middle;\n",
       "    }\n",
       "\n",
       "    .dataframe tbody tr th {\n",
       "        vertical-align: top;\n",
       "    }\n",
       "\n",
       "    .dataframe thead th {\n",
       "        text-align: right;\n",
       "    }\n",
       "</style>\n",
       "<table border=\"1\" class=\"dataframe\">\n",
       "  <thead>\n",
       "    <tr style=\"text-align: right;\">\n",
       "      <th></th>\n",
       "      <th>age_desc</th>\n",
       "      <th>marital_status_code</th>\n",
       "      <th>income_desc</th>\n",
       "      <th>homeowner_desc</th>\n",
       "      <th>hh_comp_desc</th>\n",
       "      <th>household_size_desc</th>\n",
       "      <th>kid_category_desc</th>\n",
       "      <th>user_id</th>\n",
       "    </tr>\n",
       "  </thead>\n",
       "  <tbody>\n",
       "    <tr>\n",
       "      <th>0</th>\n",
       "      <td>65+</td>\n",
       "      <td>A</td>\n",
       "      <td>35-49K</td>\n",
       "      <td>Homeowner</td>\n",
       "      <td>2 Adults No Kids</td>\n",
       "      <td>2</td>\n",
       "      <td>None/Unknown</td>\n",
       "      <td>1</td>\n",
       "    </tr>\n",
       "    <tr>\n",
       "      <th>1</th>\n",
       "      <td>45-54</td>\n",
       "      <td>A</td>\n",
       "      <td>50-74K</td>\n",
       "      <td>Homeowner</td>\n",
       "      <td>2 Adults No Kids</td>\n",
       "      <td>2</td>\n",
       "      <td>None/Unknown</td>\n",
       "      <td>7</td>\n",
       "    </tr>\n",
       "    <tr>\n",
       "      <th>2</th>\n",
       "      <td>25-34</td>\n",
       "      <td>U</td>\n",
       "      <td>25-34K</td>\n",
       "      <td>Unknown</td>\n",
       "      <td>2 Adults Kids</td>\n",
       "      <td>3</td>\n",
       "      <td>1</td>\n",
       "      <td>8</td>\n",
       "    </tr>\n",
       "    <tr>\n",
       "      <th>3</th>\n",
       "      <td>25-34</td>\n",
       "      <td>U</td>\n",
       "      <td>75-99K</td>\n",
       "      <td>Homeowner</td>\n",
       "      <td>2 Adults Kids</td>\n",
       "      <td>4</td>\n",
       "      <td>2</td>\n",
       "      <td>13</td>\n",
       "    </tr>\n",
       "    <tr>\n",
       "      <th>4</th>\n",
       "      <td>45-54</td>\n",
       "      <td>B</td>\n",
       "      <td>50-74K</td>\n",
       "      <td>Homeowner</td>\n",
       "      <td>Single Female</td>\n",
       "      <td>1</td>\n",
       "      <td>None/Unknown</td>\n",
       "      <td>16</td>\n",
       "    </tr>\n",
       "    <tr>\n",
       "      <th>...</th>\n",
       "      <td>...</td>\n",
       "      <td>...</td>\n",
       "      <td>...</td>\n",
       "      <td>...</td>\n",
       "      <td>...</td>\n",
       "      <td>...</td>\n",
       "      <td>...</td>\n",
       "      <td>...</td>\n",
       "    </tr>\n",
       "    <tr>\n",
       "      <th>796</th>\n",
       "      <td>35-44</td>\n",
       "      <td>U</td>\n",
       "      <td>50-74K</td>\n",
       "      <td>Homeowner</td>\n",
       "      <td>2 Adults No Kids</td>\n",
       "      <td>2</td>\n",
       "      <td>None/Unknown</td>\n",
       "      <td>2494</td>\n",
       "    </tr>\n",
       "    <tr>\n",
       "      <th>797</th>\n",
       "      <td>45-54</td>\n",
       "      <td>A</td>\n",
       "      <td>75-99K</td>\n",
       "      <td>Homeowner</td>\n",
       "      <td>Unknown</td>\n",
       "      <td>3</td>\n",
       "      <td>1</td>\n",
       "      <td>2496</td>\n",
       "    </tr>\n",
       "    <tr>\n",
       "      <th>798</th>\n",
       "      <td>45-54</td>\n",
       "      <td>U</td>\n",
       "      <td>35-49K</td>\n",
       "      <td>Unknown</td>\n",
       "      <td>Single Male</td>\n",
       "      <td>1</td>\n",
       "      <td>None/Unknown</td>\n",
       "      <td>2497</td>\n",
       "    </tr>\n",
       "    <tr>\n",
       "      <th>799</th>\n",
       "      <td>25-34</td>\n",
       "      <td>U</td>\n",
       "      <td>50-74K</td>\n",
       "      <td>Homeowner</td>\n",
       "      <td>2 Adults No Kids</td>\n",
       "      <td>2</td>\n",
       "      <td>None/Unknown</td>\n",
       "      <td>2498</td>\n",
       "    </tr>\n",
       "    <tr>\n",
       "      <th>800</th>\n",
       "      <td>25-34</td>\n",
       "      <td>U</td>\n",
       "      <td>Under 15K</td>\n",
       "      <td>Unknown</td>\n",
       "      <td>2 Adults Kids</td>\n",
       "      <td>3</td>\n",
       "      <td>1</td>\n",
       "      <td>2499</td>\n",
       "    </tr>\n",
       "  </tbody>\n",
       "</table>\n",
       "<p>801 rows × 8 columns</p>\n",
       "</div>"
      ],
      "text/plain": [
       "    age_desc marital_status_code income_desc homeowner_desc      hh_comp_desc  \\\n",
       "0        65+                   A      35-49K      Homeowner  2 Adults No Kids   \n",
       "1      45-54                   A      50-74K      Homeowner  2 Adults No Kids   \n",
       "2      25-34                   U      25-34K        Unknown     2 Adults Kids   \n",
       "3      25-34                   U      75-99K      Homeowner     2 Adults Kids   \n",
       "4      45-54                   B      50-74K      Homeowner     Single Female   \n",
       "..       ...                 ...         ...            ...               ...   \n",
       "796    35-44                   U      50-74K      Homeowner  2 Adults No Kids   \n",
       "797    45-54                   A      75-99K      Homeowner           Unknown   \n",
       "798    45-54                   U      35-49K        Unknown       Single Male   \n",
       "799    25-34                   U      50-74K      Homeowner  2 Adults No Kids   \n",
       "800    25-34                   U   Under 15K        Unknown     2 Adults Kids   \n",
       "\n",
       "    household_size_desc kid_category_desc  user_id  \n",
       "0                     2      None/Unknown        1  \n",
       "1                     2      None/Unknown        7  \n",
       "2                     3                 1        8  \n",
       "3                     4                 2       13  \n",
       "4                     1      None/Unknown       16  \n",
       "..                  ...               ...      ...  \n",
       "796                   2      None/Unknown     2494  \n",
       "797                   3                 1     2496  \n",
       "798                   1      None/Unknown     2497  \n",
       "799                   2      None/Unknown     2498  \n",
       "800                   3                 1     2499  \n",
       "\n",
       "[801 rows x 8 columns]"
      ]
     },
     "execution_count": 30,
     "metadata": {},
     "output_type": "execute_result"
    }
   ],
   "source": [
    "user_features"
   ]
  },
  {
   "cell_type": "code",
   "execution_count": 286,
   "metadata": {},
   "outputs": [],
   "source": [
    "targets_lvl_2 = targets_lvl_2.merge(item_features, on='item_id', how='left')\n",
    "targets_lvl_2 = targets_lvl_2.merge(user_features, on='user_id', how='left')\n",
    "\n",
    "targets_lvl_2_als = targets_lvl_2_als.merge(item_features, on='item_id', how='left')\n",
    "targets_lvl_2_als = targets_lvl_2_als.merge(user_features, on='user_id', how='left')"
   ]
  },
  {
   "cell_type": "code",
   "execution_count": 32,
   "metadata": {},
   "outputs": [],
   "source": [
    "data_for_featch= data[data.week_no<(data.week_no.max()-val_lvl_2_size_weeks)]"
   ]
  },
  {
   "cell_type": "code",
   "execution_count": 33,
   "metadata": {},
   "outputs": [
    {
     "data": {
      "text/html": [
       "<div>\n",
       "<style scoped>\n",
       "    .dataframe tbody tr th:only-of-type {\n",
       "        vertical-align: middle;\n",
       "    }\n",
       "\n",
       "    .dataframe tbody tr th {\n",
       "        vertical-align: top;\n",
       "    }\n",
       "\n",
       "    .dataframe thead th {\n",
       "        text-align: right;\n",
       "    }\n",
       "</style>\n",
       "<table border=\"1\" class=\"dataframe\">\n",
       "  <thead>\n",
       "    <tr style=\"text-align: right;\">\n",
       "      <th></th>\n",
       "      <th>user_id</th>\n",
       "      <th>basket_id</th>\n",
       "      <th>day</th>\n",
       "      <th>item_id</th>\n",
       "      <th>quantity</th>\n",
       "      <th>sales_value</th>\n",
       "      <th>store_id</th>\n",
       "      <th>retail_disc</th>\n",
       "      <th>trans_time</th>\n",
       "      <th>week_no</th>\n",
       "      <th>coupon_disc</th>\n",
       "      <th>coupon_match_disc</th>\n",
       "    </tr>\n",
       "  </thead>\n",
       "  <tbody>\n",
       "    <tr>\n",
       "      <th>0</th>\n",
       "      <td>2375</td>\n",
       "      <td>26984851472</td>\n",
       "      <td>1</td>\n",
       "      <td>1004906</td>\n",
       "      <td>1</td>\n",
       "      <td>1.39</td>\n",
       "      <td>364</td>\n",
       "      <td>-0.60</td>\n",
       "      <td>1631</td>\n",
       "      <td>1</td>\n",
       "      <td>0.0</td>\n",
       "      <td>0.0</td>\n",
       "    </tr>\n",
       "    <tr>\n",
       "      <th>1</th>\n",
       "      <td>2375</td>\n",
       "      <td>26984851472</td>\n",
       "      <td>1</td>\n",
       "      <td>1033142</td>\n",
       "      <td>1</td>\n",
       "      <td>0.82</td>\n",
       "      <td>364</td>\n",
       "      <td>0.00</td>\n",
       "      <td>1631</td>\n",
       "      <td>1</td>\n",
       "      <td>0.0</td>\n",
       "      <td>0.0</td>\n",
       "    </tr>\n",
       "    <tr>\n",
       "      <th>2</th>\n",
       "      <td>2375</td>\n",
       "      <td>26984851472</td>\n",
       "      <td>1</td>\n",
       "      <td>1036325</td>\n",
       "      <td>1</td>\n",
       "      <td>0.99</td>\n",
       "      <td>364</td>\n",
       "      <td>-0.30</td>\n",
       "      <td>1631</td>\n",
       "      <td>1</td>\n",
       "      <td>0.0</td>\n",
       "      <td>0.0</td>\n",
       "    </tr>\n",
       "    <tr>\n",
       "      <th>3</th>\n",
       "      <td>2375</td>\n",
       "      <td>26984851472</td>\n",
       "      <td>1</td>\n",
       "      <td>1082185</td>\n",
       "      <td>1</td>\n",
       "      <td>1.21</td>\n",
       "      <td>364</td>\n",
       "      <td>0.00</td>\n",
       "      <td>1631</td>\n",
       "      <td>1</td>\n",
       "      <td>0.0</td>\n",
       "      <td>0.0</td>\n",
       "    </tr>\n",
       "    <tr>\n",
       "      <th>4</th>\n",
       "      <td>2375</td>\n",
       "      <td>26984851472</td>\n",
       "      <td>1</td>\n",
       "      <td>8160430</td>\n",
       "      <td>1</td>\n",
       "      <td>1.50</td>\n",
       "      <td>364</td>\n",
       "      <td>-0.39</td>\n",
       "      <td>1631</td>\n",
       "      <td>1</td>\n",
       "      <td>0.0</td>\n",
       "      <td>0.0</td>\n",
       "    </tr>\n",
       "    <tr>\n",
       "      <th>...</th>\n",
       "      <td>...</td>\n",
       "      <td>...</td>\n",
       "      <td>...</td>\n",
       "      <td>...</td>\n",
       "      <td>...</td>\n",
       "      <td>...</td>\n",
       "      <td>...</td>\n",
       "      <td>...</td>\n",
       "      <td>...</td>\n",
       "      <td>...</td>\n",
       "      <td>...</td>\n",
       "      <td>...</td>\n",
       "    </tr>\n",
       "    <tr>\n",
       "      <th>2282320</th>\n",
       "      <td>222</td>\n",
       "      <td>41297772783</td>\n",
       "      <td>635</td>\n",
       "      <td>1120741</td>\n",
       "      <td>1</td>\n",
       "      <td>0.59</td>\n",
       "      <td>304</td>\n",
       "      <td>0.00</td>\n",
       "      <td>1716</td>\n",
       "      <td>91</td>\n",
       "      <td>0.0</td>\n",
       "      <td>0.0</td>\n",
       "    </tr>\n",
       "    <tr>\n",
       "      <th>2282321</th>\n",
       "      <td>462</td>\n",
       "      <td>41297773713</td>\n",
       "      <td>635</td>\n",
       "      <td>993339</td>\n",
       "      <td>1</td>\n",
       "      <td>1.99</td>\n",
       "      <td>304</td>\n",
       "      <td>0.00</td>\n",
       "      <td>2040</td>\n",
       "      <td>91</td>\n",
       "      <td>0.0</td>\n",
       "      <td>0.0</td>\n",
       "    </tr>\n",
       "    <tr>\n",
       "      <th>2282322</th>\n",
       "      <td>462</td>\n",
       "      <td>41297773713</td>\n",
       "      <td>635</td>\n",
       "      <td>995242</td>\n",
       "      <td>1</td>\n",
       "      <td>1.00</td>\n",
       "      <td>304</td>\n",
       "      <td>-0.89</td>\n",
       "      <td>2040</td>\n",
       "      <td>91</td>\n",
       "      <td>0.0</td>\n",
       "      <td>0.0</td>\n",
       "    </tr>\n",
       "    <tr>\n",
       "      <th>2282323</th>\n",
       "      <td>462</td>\n",
       "      <td>41297773713</td>\n",
       "      <td>635</td>\n",
       "      <td>10180324</td>\n",
       "      <td>1</td>\n",
       "      <td>3.00</td>\n",
       "      <td>304</td>\n",
       "      <td>-0.29</td>\n",
       "      <td>2040</td>\n",
       "      <td>91</td>\n",
       "      <td>0.0</td>\n",
       "      <td>0.0</td>\n",
       "    </tr>\n",
       "    <tr>\n",
       "      <th>2282324</th>\n",
       "      <td>462</td>\n",
       "      <td>41297773713</td>\n",
       "      <td>635</td>\n",
       "      <td>12731714</td>\n",
       "      <td>1</td>\n",
       "      <td>4.08</td>\n",
       "      <td>304</td>\n",
       "      <td>0.00</td>\n",
       "      <td>2040</td>\n",
       "      <td>91</td>\n",
       "      <td>0.0</td>\n",
       "      <td>0.0</td>\n",
       "    </tr>\n",
       "  </tbody>\n",
       "</table>\n",
       "<p>2278490 rows × 12 columns</p>\n",
       "</div>"
      ],
      "text/plain": [
       "         user_id    basket_id  day   item_id  quantity  sales_value  store_id  \\\n",
       "0           2375  26984851472    1   1004906         1         1.39       364   \n",
       "1           2375  26984851472    1   1033142         1         0.82       364   \n",
       "2           2375  26984851472    1   1036325         1         0.99       364   \n",
       "3           2375  26984851472    1   1082185         1         1.21       364   \n",
       "4           2375  26984851472    1   8160430         1         1.50       364   \n",
       "...          ...          ...  ...       ...       ...          ...       ...   \n",
       "2282320      222  41297772783  635   1120741         1         0.59       304   \n",
       "2282321      462  41297773713  635    993339         1         1.99       304   \n",
       "2282322      462  41297773713  635    995242         1         1.00       304   \n",
       "2282323      462  41297773713  635  10180324         1         3.00       304   \n",
       "2282324      462  41297773713  635  12731714         1         4.08       304   \n",
       "\n",
       "         retail_disc  trans_time  week_no  coupon_disc  coupon_match_disc  \n",
       "0              -0.60        1631        1          0.0                0.0  \n",
       "1               0.00        1631        1          0.0                0.0  \n",
       "2              -0.30        1631        1          0.0                0.0  \n",
       "3               0.00        1631        1          0.0                0.0  \n",
       "4              -0.39        1631        1          0.0                0.0  \n",
       "...              ...         ...      ...          ...                ...  \n",
       "2282320         0.00        1716       91          0.0                0.0  \n",
       "2282321         0.00        2040       91          0.0                0.0  \n",
       "2282322        -0.89        2040       91          0.0                0.0  \n",
       "2282323        -0.29        2040       91          0.0                0.0  \n",
       "2282324         0.00        2040       91          0.0                0.0  \n",
       "\n",
       "[2278490 rows x 12 columns]"
      ]
     },
     "execution_count": 33,
     "metadata": {},
     "output_type": "execute_result"
    }
   ],
   "source": [
    "data_for_featch"
   ]
  },
  {
   "cell_type": "code",
   "execution_count": 34,
   "metadata": {},
   "outputs": [],
   "source": [
    "total_user_purchase = data_for_featch.groupby('user_id').user_id.count()\n",
    "total_item_purchase = data_for_featch.groupby('item_id').item_id.count()"
   ]
  },
  {
   "cell_type": "code",
   "execution_count": 35,
   "metadata": {},
   "outputs": [],
   "source": [
    "user_average_check = data_for_featch.groupby(['user_id','basket_id'])['sales_value'].mean()\n",
    "user_average_check = user_average_check.groupby('user_id').mean()\n",
    "user_average_check = dict(user_average_check)"
   ]
  },
  {
   "cell_type": "code",
   "execution_count": 36,
   "metadata": {},
   "outputs": [],
   "source": [
    "number_of_baskets_per_week = data_for_featch.groupby(['user_id','week_no'])['user_id'].count()\n",
    "number_of_baskets_per_week = number_of_baskets_per_week.groupby('user_id').mean()\n",
    "number_of_baskets_per_week = dict(number_of_baskets_per_week)"
   ]
  },
  {
   "cell_type": "code",
   "execution_count": 37,
   "metadata": {},
   "outputs": [],
   "source": [
    "user_average_basket_count = data_for_featch.groupby(['user_id','basket_id'])['sales_value'].count()\n",
    "user_average_basket_count = user_average_basket_count.groupby('user_id').mean()\n",
    "user_average_basket_count = dict(user_average_check)"
   ]
  },
  {
   "cell_type": "code",
   "execution_count": 38,
   "metadata": {},
   "outputs": [],
   "source": [
    "days_of_purchase = data_for_featch[['user_id','day']].copy()\n",
    "days_of_purchase['week_day'] = days_of_purchase.day%7\n",
    "days_of_purchase.loc[days_of_purchase.week_day==0,'week_day'] = 7\n",
    "days_of_purchase = pd.pivot_table(days_of_purchase,index='user_id',columns='week_day',values = 'day',\n",
    "                           aggfunc='count',   fill_value=0)\n",
    "days_of_purchase['total'] = total_user_purchase"
   ]
  },
  {
   "cell_type": "code",
   "execution_count": 39,
   "metadata": {},
   "outputs": [
    {
     "data": {
      "text/html": [
       "<div>\n",
       "<style scoped>\n",
       "    .dataframe tbody tr th:only-of-type {\n",
       "        vertical-align: middle;\n",
       "    }\n",
       "\n",
       "    .dataframe tbody tr th {\n",
       "        vertical-align: top;\n",
       "    }\n",
       "\n",
       "    .dataframe thead th {\n",
       "        text-align: right;\n",
       "    }\n",
       "</style>\n",
       "<table border=\"1\" class=\"dataframe\">\n",
       "  <thead>\n",
       "    <tr style=\"text-align: right;\">\n",
       "      <th>week_day</th>\n",
       "      <th>1</th>\n",
       "      <th>2</th>\n",
       "      <th>3</th>\n",
       "      <th>4</th>\n",
       "      <th>5</th>\n",
       "      <th>6</th>\n",
       "      <th>7</th>\n",
       "      <th>total</th>\n",
       "    </tr>\n",
       "    <tr>\n",
       "      <th>user_id</th>\n",
       "      <th></th>\n",
       "      <th></th>\n",
       "      <th></th>\n",
       "      <th></th>\n",
       "      <th></th>\n",
       "      <th></th>\n",
       "      <th></th>\n",
       "      <th></th>\n",
       "    </tr>\n",
       "  </thead>\n",
       "  <tbody>\n",
       "    <tr>\n",
       "      <th>1</th>\n",
       "      <td>315</td>\n",
       "      <td>381</td>\n",
       "      <td>179</td>\n",
       "      <td>356</td>\n",
       "      <td>43</td>\n",
       "      <td>106</td>\n",
       "      <td>127</td>\n",
       "      <td>1507</td>\n",
       "    </tr>\n",
       "    <tr>\n",
       "      <th>2</th>\n",
       "      <td>21</td>\n",
       "      <td>99</td>\n",
       "      <td>116</td>\n",
       "      <td>86</td>\n",
       "      <td>101</td>\n",
       "      <td>187</td>\n",
       "      <td>45</td>\n",
       "      <td>655</td>\n",
       "    </tr>\n",
       "    <tr>\n",
       "      <th>3</th>\n",
       "      <td>199</td>\n",
       "      <td>98</td>\n",
       "      <td>125</td>\n",
       "      <td>66</td>\n",
       "      <td>258</td>\n",
       "      <td>5</td>\n",
       "      <td>119</td>\n",
       "      <td>870</td>\n",
       "    </tr>\n",
       "    <tr>\n",
       "      <th>4</th>\n",
       "      <td>41</td>\n",
       "      <td>0</td>\n",
       "      <td>58</td>\n",
       "      <td>7</td>\n",
       "      <td>32</td>\n",
       "      <td>110</td>\n",
       "      <td>53</td>\n",
       "      <td>301</td>\n",
       "    </tr>\n",
       "    <tr>\n",
       "      <th>5</th>\n",
       "      <td>9</td>\n",
       "      <td>2</td>\n",
       "      <td>29</td>\n",
       "      <td>14</td>\n",
       "      <td>39</td>\n",
       "      <td>90</td>\n",
       "      <td>36</td>\n",
       "      <td>219</td>\n",
       "    </tr>\n",
       "    <tr>\n",
       "      <th>...</th>\n",
       "      <td>...</td>\n",
       "      <td>...</td>\n",
       "      <td>...</td>\n",
       "      <td>...</td>\n",
       "      <td>...</td>\n",
       "      <td>...</td>\n",
       "      <td>...</td>\n",
       "      <td>...</td>\n",
       "    </tr>\n",
       "    <tr>\n",
       "      <th>2496</th>\n",
       "      <td>197</td>\n",
       "      <td>148</td>\n",
       "      <td>71</td>\n",
       "      <td>495</td>\n",
       "      <td>399</td>\n",
       "      <td>68</td>\n",
       "      <td>41</td>\n",
       "      <td>1419</td>\n",
       "    </tr>\n",
       "    <tr>\n",
       "      <th>2497</th>\n",
       "      <td>270</td>\n",
       "      <td>292</td>\n",
       "      <td>254</td>\n",
       "      <td>221</td>\n",
       "      <td>208</td>\n",
       "      <td>229</td>\n",
       "      <td>302</td>\n",
       "      <td>1776</td>\n",
       "    </tr>\n",
       "    <tr>\n",
       "      <th>2498</th>\n",
       "      <td>75</td>\n",
       "      <td>116</td>\n",
       "      <td>100</td>\n",
       "      <td>114</td>\n",
       "      <td>156</td>\n",
       "      <td>130</td>\n",
       "      <td>102</td>\n",
       "      <td>793</td>\n",
       "    </tr>\n",
       "    <tr>\n",
       "      <th>2499</th>\n",
       "      <td>184</td>\n",
       "      <td>31</td>\n",
       "      <td>167</td>\n",
       "      <td>307</td>\n",
       "      <td>170</td>\n",
       "      <td>46</td>\n",
       "      <td>38</td>\n",
       "      <td>943</td>\n",
       "    </tr>\n",
       "    <tr>\n",
       "      <th>2500</th>\n",
       "      <td>181</td>\n",
       "      <td>229</td>\n",
       "      <td>200</td>\n",
       "      <td>139</td>\n",
       "      <td>124</td>\n",
       "      <td>156</td>\n",
       "      <td>196</td>\n",
       "      <td>1225</td>\n",
       "    </tr>\n",
       "  </tbody>\n",
       "</table>\n",
       "<p>2499 rows × 8 columns</p>\n",
       "</div>"
      ],
      "text/plain": [
       "week_day    1    2    3    4    5    6    7  total\n",
       "user_id                                           \n",
       "1         315  381  179  356   43  106  127   1507\n",
       "2          21   99  116   86  101  187   45    655\n",
       "3         199   98  125   66  258    5  119    870\n",
       "4          41    0   58    7   32  110   53    301\n",
       "5           9    2   29   14   39   90   36    219\n",
       "...       ...  ...  ...  ...  ...  ...  ...    ...\n",
       "2496      197  148   71  495  399   68   41   1419\n",
       "2497      270  292  254  221  208  229  302   1776\n",
       "2498       75  116  100  114  156  130  102    793\n",
       "2499      184   31  167  307  170   46   38    943\n",
       "2500      181  229  200  139  124  156  196   1225\n",
       "\n",
       "[2499 rows x 8 columns]"
      ]
     },
     "execution_count": 39,
     "metadata": {},
     "output_type": "execute_result"
    }
   ],
   "source": [
    "days_of_purchase"
   ]
  },
  {
   "cell_type": "code",
   "execution_count": 287,
   "metadata": {},
   "outputs": [],
   "source": [
    "targets_lvl_2['user_average_check']=targets_lvl_2.user_id.map(user_average_check)\n",
    "targets_lvl_2_als['user_average_check']=targets_lvl_2_als.user_id.map(user_average_check)"
   ]
  },
  {
   "cell_type": "code",
   "execution_count": 288,
   "metadata": {},
   "outputs": [],
   "source": [
    "targets_lvl_2['number_of_baskets_per_week']=targets_lvl_2.user_id.map(number_of_baskets_per_week)\n",
    "targets_lvl_2_als['number_of_baskets_per_week']=targets_lvl_2_als.user_id.map(number_of_baskets_per_week)"
   ]
  },
  {
   "cell_type": "code",
   "execution_count": 289,
   "metadata": {},
   "outputs": [],
   "source": [
    "targets_lvl_2['user_average_basket_count']=targets_lvl_2.user_id.map(user_average_basket_count)\n",
    "targets_lvl_2_als['user_average_basket_count']=targets_lvl_2_als.user_id.map(user_average_basket_count)"
   ]
  },
  {
   "cell_type": "code",
   "execution_count": 290,
   "metadata": {},
   "outputs": [],
   "source": [
    "for i in range(1,8):\n",
    "    targets_lvl_2[f'week_day{i}']= targets_lvl_2.user_id.map(days_of_purchase[i]/days_of_purchase['total'])\n",
    "    targets_lvl_2_als[f'week_day{i}']= targets_lvl_2_als.user_id.map(days_of_purchase[i]/days_of_purchase['total'])"
   ]
  },
  {
   "cell_type": "code",
   "execution_count": null,
   "metadata": {},
   "outputs": [],
   "source": []
  },
  {
   "cell_type": "code",
   "execution_count": 45,
   "metadata": {},
   "outputs": [],
   "source": [
    "item_average_basket_count = data_for_featch.groupby(['item_id','basket_id'])['sales_value'].count()\n",
    "item_average_basket_count = item_average_basket_count.groupby('item_id').mean()\n"
   ]
  },
  {
   "cell_type": "code",
   "execution_count": 46,
   "metadata": {},
   "outputs": [],
   "source": [
    "days_of_purchase_item = data_for_featch[['item_id','day']].copy()\n",
    "days_of_purchase_item['week_day'] = days_of_purchase_item.day%7\n",
    "days_of_purchase_item.loc[days_of_purchase_item.week_day==0,'week_day'] = 7\n",
    "days_of_purchase_item = pd.pivot_table(days_of_purchase_item,index='item_id',columns='week_day',values = 'day',\n",
    "                           aggfunc='count',   fill_value=0)\n",
    "days_of_purchase_item['total'] = total_item_purchase"
   ]
  },
  {
   "cell_type": "code",
   "execution_count": 47,
   "metadata": {},
   "outputs": [],
   "source": [
    "item_price = data_for_featch[['item_id','quantity','sales_value']].copy()\n",
    "item_price['price'] = item_price.sales_value/item_price.quantity\n",
    "item_price = item_price.groupby('item_id')['price'].max()"
   ]
  },
  {
   "cell_type": "code",
   "execution_count": 291,
   "metadata": {},
   "outputs": [],
   "source": [
    "targets_lvl_2['item_average_basket_count']=targets_lvl_2.item_id.map(item_average_basket_count)\n",
    "targets_lvl_2_als['item_average_basket_count']=targets_lvl_2_als.item_id.map(item_average_basket_count)"
   ]
  },
  {
   "cell_type": "code",
   "execution_count": 292,
   "metadata": {},
   "outputs": [],
   "source": [
    "targets_lvl_2['item_price']=targets_lvl_2.item_id.map(item_price)\n",
    "targets_lvl_2_als['item_price']=targets_lvl_2_als.item_id.map(item_price)"
   ]
  },
  {
   "cell_type": "code",
   "execution_count": 293,
   "metadata": {},
   "outputs": [],
   "source": [
    "for i in range(1,8):\n",
    "    targets_lvl_2[f'week_day_{i}_item']= targets_lvl_2.item_id.map(days_of_purchase_item[i]/days_of_purchase_item['total'])\n",
    "    targets_lvl_2_als[f'week_day_{i}_item']= targets_lvl_2_als.item_id.map(days_of_purchase_item[i]/days_of_purchase_item['total'])"
   ]
  },
  {
   "cell_type": "code",
   "execution_count": 294,
   "metadata": {},
   "outputs": [],
   "source": [
    "targets_lvl_2.loc[targets_lvl_2.item_price==np.inf,'item_price']=0\n",
    "targets_lvl_2_als.loc[targets_lvl_2_als.item_price==np.inf,'item_price']=0"
   ]
  },
  {
   "cell_type": "code",
   "execution_count": 295,
   "metadata": {},
   "outputs": [],
   "source": [
    "X_train = targets_lvl_2.drop('target', axis=1)\n",
    "y_train = targets_lvl_2['target']\n",
    "X_train_als = targets_lvl_2_als.drop('target', axis=1)\n",
    "y_train_als = targets_lvl_2_als['target']"
   ]
  },
  {
   "cell_type": "code",
   "execution_count": 76,
   "metadata": {},
   "outputs": [],
   "source": [
    "train_users = result['user_id'].unique()\n",
    "result_lvl_2 = data_val_lvl_2.groupby('user_id')['item_id'].unique().reset_index()\n",
    "result_lvl_2.columns=['user_id', 'actual']\n",
    "result_lvl_2 = result_lvl_2[result_lvl_2['user_id'].isin(train_users)]\n",
    "users_lev_2 = result_lvl_2.user_id.tolist()"
   ]
  },
  {
   "cell_type": "code",
   "execution_count": 78,
   "metadata": {},
   "outputs": [],
   "source": [
    "result_lvl_2['item_sim'] =\\\n",
    "    my_recomender.get_similar_items_recommendation(users = users_lev_2,N=5)['similar_recommendation'].tolist()"
   ]
  },
  {
   "cell_type": "code",
   "execution_count": 455,
   "metadata": {},
   "outputs": [],
   "source": [
    "score = pd.DataFrame()"
   ]
  },
  {
   "cell_type": "code",
   "execution_count": 456,
   "metadata": {},
   "outputs": [],
   "source": [
    "score.loc['1_level_item_simular','precision@5'] =\\\n",
    "        result_lvl_2.apply(lambda row : precision_at_k(row['item_sim'],row['actual'],k=5),axis = 1).mean()"
   ]
  },
  {
   "cell_type": "code",
   "execution_count": 457,
   "metadata": {},
   "outputs": [
    {
     "data": {
      "text/html": [
       "<div>\n",
       "<style scoped>\n",
       "    .dataframe tbody tr th:only-of-type {\n",
       "        vertical-align: middle;\n",
       "    }\n",
       "\n",
       "    .dataframe tbody tr th {\n",
       "        vertical-align: top;\n",
       "    }\n",
       "\n",
       "    .dataframe thead th {\n",
       "        text-align: right;\n",
       "    }\n",
       "</style>\n",
       "<table border=\"1\" class=\"dataframe\">\n",
       "  <thead>\n",
       "    <tr style=\"text-align: right;\">\n",
       "      <th></th>\n",
       "      <th>precision@5</th>\n",
       "    </tr>\n",
       "  </thead>\n",
       "  <tbody>\n",
       "    <tr>\n",
       "      <th>1_level_item_simular</th>\n",
       "      <td>0.399896</td>\n",
       "    </tr>\n",
       "  </tbody>\n",
       "</table>\n",
       "</div>"
      ],
      "text/plain": [
       "                      precision@5\n",
       "1_level_item_simular     0.399896"
      ]
     },
     "execution_count": 457,
     "metadata": {},
     "output_type": "execute_result"
    }
   ],
   "source": [
    "score"
   ]
  },
  {
   "cell_type": "markdown",
   "metadata": {},
   "source": [
    "### Применим бустинг"
   ]
  },
  {
   "cell_type": "code",
   "execution_count": 458,
   "metadata": {},
   "outputs": [],
   "source": [
    "cat_feats = ['manufacturer', 'department', 'brand',\n",
    "       'commodity_desc', 'sub_commodity_desc', 'curr_size_of_product',\n",
    "       'age_desc', 'marital_status_code', 'income_desc', 'homeowner_desc',\n",
    "       'hh_comp_desc', 'household_size_desc', 'kid_category_desc']\n",
    "X_train[cat_feats] = X_train[cat_feats].astype('category')\n",
    "X_train_als[cat_feats] = X_train_als[cat_feats].astype('category')"
   ]
  },
  {
   "cell_type": "code",
   "execution_count": null,
   "metadata": {},
   "outputs": [],
   "source": []
  },
  {
   "cell_type": "code",
   "execution_count": 459,
   "metadata": {},
   "outputs": [],
   "source": [
    "params_lgb = {\n",
    "    \"boosting_type\": \"gbdt\",\n",
    "    \"objective\": \"binary\",\n",
    "    \"metric\": \"auc\",\n",
    "    \"learning_rate\": 0.1}\n",
    "\n",
    "params_tune={    \n",
    "    \"n_estimators\": 2000,\n",
    "    \"n_jobs\": 15,\n",
    "    \"seed\": 27,\n",
    "    'reg_alpha': 0,\n",
    "    'reg_lambda': 500,\n",
    "    'max_depth': 4,\n",
    "    'min_child_samples':6,\n",
    "    'num_leaves':6\n",
    "}"
   ]
  },
  {
   "cell_type": "code",
   "execution_count": 460,
   "metadata": {},
   "outputs": [
    {
     "name": "stdout",
     "output_type": "stream",
     "text": [
      "Wall time: 12.5 s\n"
     ]
    }
   ],
   "source": [
    "%%time\n",
    "params_lgb.update(params_tune)\n",
    "lgb = LGBMClassifier(**params_lgb)\n",
    "lgb.fit(X_train, y_train,early_stopping_rounds = 90, eval_set=[(X_train, y_train)], eval_metric=['auc'],verbose=False)\n",
    "\n",
    "train_preds = lgb.predict_proba(X_train)[:,1]\n",
    "\n",
    "res_lgb_clas = pd.DataFrame({'user_id':X_train.user_id,'item_id':X_train.item_id,'predict':train_preds})\n",
    "res_lgb_clas = res_lgb_clas.sort_values(by=['user_id','predict'],ascending=[True,False])\n",
    "res_lgb_clas = res_lgb_clas.groupby('user_id').head(5)\n",
    "result_lvl_2['lgb_clas'] = result_lvl_2.user_id.apply(lambda x : res_lgb_clas[res_lgb_clas.user_id==x]['item_id'].tolist())\n",
    "score.loc['boost_sim_item','precision@5'] =\\\n",
    "        result_lvl_2.apply(lambda row : precision_at_k(row['lgb_clas'],row['actual'],k=5),axis = 1).mean()"
   ]
  },
  {
   "cell_type": "code",
   "execution_count": 461,
   "metadata": {},
   "outputs": [
    {
     "data": {
      "text/html": [
       "<div>\n",
       "<style scoped>\n",
       "    .dataframe tbody tr th:only-of-type {\n",
       "        vertical-align: middle;\n",
       "    }\n",
       "\n",
       "    .dataframe tbody tr th {\n",
       "        vertical-align: top;\n",
       "    }\n",
       "\n",
       "    .dataframe thead th {\n",
       "        text-align: right;\n",
       "    }\n",
       "</style>\n",
       "<table border=\"1\" class=\"dataframe\">\n",
       "  <thead>\n",
       "    <tr style=\"text-align: right;\">\n",
       "      <th></th>\n",
       "      <th>precision@5</th>\n",
       "    </tr>\n",
       "  </thead>\n",
       "  <tbody>\n",
       "    <tr>\n",
       "      <th>1_level_item_simular</th>\n",
       "      <td>0.399896</td>\n",
       "    </tr>\n",
       "    <tr>\n",
       "      <th>boost_sim_item</th>\n",
       "      <td>0.335770</td>\n",
       "    </tr>\n",
       "  </tbody>\n",
       "</table>\n",
       "</div>"
      ],
      "text/plain": [
       "                      precision@5\n",
       "1_level_item_simular     0.399896\n",
       "boost_sim_item           0.335770"
      ]
     },
     "execution_count": 461,
     "metadata": {},
     "output_type": "execute_result"
    }
   ],
   "source": [
    "score"
   ]
  },
  {
   "cell_type": "code",
   "execution_count": 462,
   "metadata": {},
   "outputs": [
    {
     "name": "stdout",
     "output_type": "stream",
     "text": [
      "Wall time: 12.8 s\n"
     ]
    }
   ],
   "source": [
    "%%time\n",
    "params_lgb.update(params_tune)\n",
    "lgb = LGBMClassifier(**params_lgb)\n",
    "lgb.fit(X_train_als, y_train_als,early_stopping_rounds = 90,eval_metric  = 'auc',eval_set=[(X_train_als,y_train_als)],verbose=False)\n",
    "\n",
    "train_preds = lgb.predict_proba(X_train_als)[:,1]\n",
    "\n",
    "res_lgb_clas = pd.DataFrame({'user_id':X_train_als.user_id,'item_id':X_train_als.item_id,'predict':train_preds})\n",
    "res_lgb_clas = res_lgb_clas.sort_values(by=['user_id','predict'],ascending=[True,False])\n",
    "res_lgb_clas = res_lgb_clas.groupby('user_id').head(5)\n",
    "result_lvl_2['lgb_clas'] = result_lvl_2.user_id.apply(lambda x : res_lgb_clas[res_lgb_clas.user_id==x]['item_id'].tolist())\n",
    "score.loc['boost_als','precision@5'] =\\\n",
    "        result_lvl_2.apply(lambda row : precision_at_k(row['lgb_clas'],row['actual'],k=5),axis = 1).mean()"
   ]
  },
  {
   "cell_type": "code",
   "execution_count": 463,
   "metadata": {},
   "outputs": [
    {
     "data": {
      "text/html": [
       "<div>\n",
       "<style scoped>\n",
       "    .dataframe tbody tr th:only-of-type {\n",
       "        vertical-align: middle;\n",
       "    }\n",
       "\n",
       "    .dataframe tbody tr th {\n",
       "        vertical-align: top;\n",
       "    }\n",
       "\n",
       "    .dataframe thead th {\n",
       "        text-align: right;\n",
       "    }\n",
       "</style>\n",
       "<table border=\"1\" class=\"dataframe\">\n",
       "  <thead>\n",
       "    <tr style=\"text-align: right;\">\n",
       "      <th></th>\n",
       "      <th>precision@5</th>\n",
       "    </tr>\n",
       "  </thead>\n",
       "  <tbody>\n",
       "    <tr>\n",
       "      <th>1_level_item_simular</th>\n",
       "      <td>0.399896</td>\n",
       "    </tr>\n",
       "    <tr>\n",
       "      <th>boost_sim_item</th>\n",
       "      <td>0.335770</td>\n",
       "    </tr>\n",
       "    <tr>\n",
       "      <th>boost_als</th>\n",
       "      <td>0.328251</td>\n",
       "    </tr>\n",
       "  </tbody>\n",
       "</table>\n",
       "</div>"
      ],
      "text/plain": [
       "                      precision@5\n",
       "1_level_item_simular     0.399896\n",
       "boost_sim_item           0.335770\n",
       "boost_als                0.328251"
      ]
     },
     "execution_count": 463,
     "metadata": {},
     "output_type": "execute_result"
    }
   ],
   "source": [
    "score"
   ]
  },
  {
   "cell_type": "code",
   "execution_count": 464,
   "metadata": {},
   "outputs": [],
   "source": [
    "grs = X_train.groupby(['user_id'], sort=False)['item_id'].count().to_numpy()"
   ]
  },
  {
   "cell_type": "code",
   "execution_count": 465,
   "metadata": {},
   "outputs": [],
   "source": [
    "lgb_params = { \n",
    "    'objective':'lambdarank',\n",
    "    'boosting_type': 'gbdt',\n",
    "    'n_estimators': 3000,\n",
    "    'learning_rate': 0.1,\n",
    "    'max_depth': 4,\n",
    "    'verbose': 1,\n",
    "    'is_unbalance': True,\n",
    "    \"n_jobs\": 15,\n",
    "    \"seed\": 27,\n",
    "    'reg_alpha': 0,\n",
    "    'reg_lambda': 0,\n",
    "    'max_depth':6,\n",
    "    'min_child_samples':10,\n",
    "    'num_leaves':8\n",
    "}"
   ]
  },
  {
   "cell_type": "code",
   "execution_count": 466,
   "metadata": {},
   "outputs": [],
   "source": [
    "lgb = LGBMRanker(**lgb_params, silent=False)\n",
    "lgb.fit(X_train, y_train, group=grs,\n",
    "        eval_set=[(X_train, y_train)], eval_group=[grs],  \n",
    "        eval_metric=['ndcg'],\n",
    "        eval_at=[5, 10 ], early_stopping_rounds=50,verbose=False)\n",
    "train_preds = lgb.predict(X_train)\n",
    "\n",
    "res_lgb_clas = pd.DataFrame({'user_id':X_train.user_id,'item_id':X_train.item_id,'predict':train_preds})\n",
    "res_lgb_clas = res_lgb_clas.sort_values(by=['user_id','predict'],ascending=[True,False])\n",
    "res_lgb_clas = res_lgb_clas.groupby('user_id').head(5)\n",
    "result_lvl_2['lgb_ranker'] = result_lvl_2.user_id.apply(lambda x : res_lgb_clas[res_lgb_clas.user_id==x]['item_id'].tolist())\n",
    "score.loc['lgb_ranker','precision@5'] =\\\n",
    "        result_lvl_2.apply(lambda row : precision_at_k(row['lgb_ranker'],row['actual'],k=5),axis = 1).mean()"
   ]
  },
  {
   "cell_type": "code",
   "execution_count": 467,
   "metadata": {},
   "outputs": [
    {
     "data": {
      "text/html": [
       "<div>\n",
       "<style scoped>\n",
       "    .dataframe tbody tr th:only-of-type {\n",
       "        vertical-align: middle;\n",
       "    }\n",
       "\n",
       "    .dataframe tbody tr th {\n",
       "        vertical-align: top;\n",
       "    }\n",
       "\n",
       "    .dataframe thead th {\n",
       "        text-align: right;\n",
       "    }\n",
       "</style>\n",
       "<table border=\"1\" class=\"dataframe\">\n",
       "  <thead>\n",
       "    <tr style=\"text-align: right;\">\n",
       "      <th></th>\n",
       "      <th>precision@5</th>\n",
       "    </tr>\n",
       "  </thead>\n",
       "  <tbody>\n",
       "    <tr>\n",
       "      <th>1_level_item_simular</th>\n",
       "      <td>0.399896</td>\n",
       "    </tr>\n",
       "    <tr>\n",
       "      <th>boost_sim_item</th>\n",
       "      <td>0.335770</td>\n",
       "    </tr>\n",
       "    <tr>\n",
       "      <th>boost_als</th>\n",
       "      <td>0.328251</td>\n",
       "    </tr>\n",
       "    <tr>\n",
       "      <th>lgb_ranker</th>\n",
       "      <td>0.353420</td>\n",
       "    </tr>\n",
       "  </tbody>\n",
       "</table>\n",
       "</div>"
      ],
      "text/plain": [
       "                      precision@5\n",
       "1_level_item_simular     0.399896\n",
       "boost_sim_item           0.335770\n",
       "boost_als                0.328251\n",
       "lgb_ranker               0.353420"
      ]
     },
     "execution_count": 467,
     "metadata": {},
     "output_type": "execute_result"
    }
   ],
   "source": [
    "score"
   ]
  },
  {
   "cell_type": "code",
   "execution_count": 468,
   "metadata": {},
   "outputs": [],
   "source": [
    "grs = X_train_als.groupby(['user_id'], sort=False)['item_id'].count().to_numpy()"
   ]
  },
  {
   "cell_type": "code",
   "execution_count": 469,
   "metadata": {},
   "outputs": [],
   "source": [
    "lgb = LGBMRanker(**lgb_params, silent=False)\n",
    "lgb.fit(X_train_als, y_train_als, group=grs,\n",
    "        eval_set=[(X_train_als, y_train_als)], eval_group=[grs],  \n",
    "        eval_metric=['ndcg'],\n",
    "        eval_at=[5, 10 ], early_stopping_rounds=50,verbose=False)\n",
    "train_preds = lgb.predict(X_train_als)\n",
    "\n",
    "res_lgb_clas = pd.DataFrame({'user_id':X_train_als.user_id,'item_id':X_train_als.item_id,'predict':train_preds})\n",
    "res_lgb_clas = res_lgb_clas.sort_values(by=['user_id','predict'],ascending=[True,False])\n",
    "res_lgb_clas = res_lgb_clas.groupby('user_id').head(5)\n",
    "result_lvl_2['lgb_ranker_als'] = result_lvl_2.user_id.apply(lambda x : res_lgb_clas[res_lgb_clas.user_id==x]['item_id'].tolist())\n",
    "score.loc['lgb_ranker_als','precision@5'] =\\\n",
    "        result_lvl_2.apply(lambda row : precision_at_k(row['lgb_ranker_als'],row['actual'],k=5),axis = 1).mean()"
   ]
  },
  {
   "cell_type": "code",
   "execution_count": 471,
   "metadata": {},
   "outputs": [
    {
     "data": {
      "text/html": [
       "<div>\n",
       "<style scoped>\n",
       "    .dataframe tbody tr th:only-of-type {\n",
       "        vertical-align: middle;\n",
       "    }\n",
       "\n",
       "    .dataframe tbody tr th {\n",
       "        vertical-align: top;\n",
       "    }\n",
       "\n",
       "    .dataframe thead th {\n",
       "        text-align: right;\n",
       "    }\n",
       "</style>\n",
       "<table border=\"1\" class=\"dataframe\">\n",
       "  <thead>\n",
       "    <tr style=\"text-align: right;\">\n",
       "      <th></th>\n",
       "      <th>precision@5</th>\n",
       "    </tr>\n",
       "  </thead>\n",
       "  <tbody>\n",
       "    <tr>\n",
       "      <th>1_level_item_simular</th>\n",
       "      <td>0.399896</td>\n",
       "    </tr>\n",
       "    <tr>\n",
       "      <th>lgb_ranker_als</th>\n",
       "      <td>0.357493</td>\n",
       "    </tr>\n",
       "    <tr>\n",
       "      <th>lgb_ranker</th>\n",
       "      <td>0.353420</td>\n",
       "    </tr>\n",
       "    <tr>\n",
       "      <th>boost_sim_item</th>\n",
       "      <td>0.335770</td>\n",
       "    </tr>\n",
       "    <tr>\n",
       "      <th>boost_als</th>\n",
       "      <td>0.328251</td>\n",
       "    </tr>\n",
       "  </tbody>\n",
       "</table>\n",
       "</div>"
      ],
      "text/plain": [
       "                      precision@5\n",
       "1_level_item_simular     0.399896\n",
       "lgb_ranker_als           0.357493\n",
       "lgb_ranker               0.353420\n",
       "boost_sim_item           0.335770\n",
       "boost_als                0.328251"
      ]
     },
     "execution_count": 471,
     "metadata": {},
     "output_type": "execute_result"
    }
   ],
   "source": [
    "score.sort_values(by='precision@5',ascending=False)"
   ]
  },
  {
   "cell_type": "markdown",
   "metadata": {},
   "source": [
    "### Финальный проект\n",
    "\n",
    "Мы уже прошли всю необходимуб теорию для финального проекта. Проект осуществляется на данных из вебинара (данные считаны в начале ДЗ).\n",
    "Рекомендуем вам **начать делать проект сразу после этого домашнего задания**\n",
    "- Целевая метрика - precision@5. Порог для уcпешной сдачи проекта precision@5 > 0.27%\n",
    "- Будет public тестовый датасет, на котором вы сможете измерять метрику\n",
    "- Также будет private тестовый датасет для измерения финального качества\n",
    "- НЕ обязательно, но крайне желательно использовать 2-ух уровневые рекоммендательные системы в проекте\n",
    "- Вы сдаете код проекта в виде github репозитория и csv файл с рекомендациями "
   ]
  },
  {
   "cell_type": "code",
   "execution_count": null,
   "metadata": {},
   "outputs": [],
   "source": []
  },
  {
   "cell_type": "code",
   "execution_count": null,
   "metadata": {},
   "outputs": [],
   "source": []
  }
 ],
 "metadata": {
  "kernelspec": {
   "display_name": "Python 3",
   "language": "python",
   "name": "python3"
  },
  "language_info": {
   "codemirror_mode": {
    "name": "ipython",
    "version": 3
   },
   "file_extension": ".py",
   "mimetype": "text/x-python",
   "name": "python",
   "nbconvert_exporter": "python",
   "pygments_lexer": "ipython3",
   "version": "3.8.3"
  }
 },
 "nbformat": 4,
 "nbformat_minor": 2
}
