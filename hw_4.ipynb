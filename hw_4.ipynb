{
 "cells": [
  {
   "cell_type": "markdown",
   "metadata": {},
   "source": [
    "# Вебинар 5. Домашнее задание"
   ]
  },
  {
   "cell_type": "markdown",
   "metadata": {},
   "source": [
    "Само домашнее задание нахожится в конце ноутбука"
   ]
  },
  {
   "cell_type": "markdown",
   "metadata": {},
   "source": [
    "---"
   ]
  },
  {
   "cell_type": "code",
   "execution_count": 1,
   "metadata": {},
   "outputs": [],
   "source": [
    "import pandas as pd\n",
    "import numpy as np\n",
    "import matplotlib.pyplot as plt\n",
    "%matplotlib inline\n",
    "\n",
    "# Для работы с матрицами\n",
    "from scipy.sparse import csr_matrix\n",
    "\n",
    "# Матричная факторизация\n",
    "from implicit.als import AlternatingLeastSquares\n",
    "from implicit.nearest_neighbours import ItemItemRecommender  # нужен для одного трюка\n",
    "from implicit.nearest_neighbours import bm25_weight, tfidf_weight\n",
    "\n",
    "# Функции из 1-ого вебинара\n",
    "import os, sys\n",
    "\n",
    "module_path = os.path.abspath(os.path.join(os.pardir))\n",
    "if module_path not in sys.path:\n",
    "    sys.path.append(module_path)\n",
    "    \n",
    "from src.metrics import precision_at_k, recall_at_k\n",
    "# from src.utils import prefilter_items"
   ]
  },
  {
   "cell_type": "code",
   "execution_count": null,
   "metadata": {},
   "outputs": [],
   "source": []
  },
  {
   "cell_type": "code",
   "execution_count": 2,
   "metadata": {},
   "outputs": [],
   "source": [
    "data = pd.read_csv('../data/retail_train.csv')\n",
    "\n"
   ]
  },
  {
   "cell_type": "markdown",
   "metadata": {},
   "source": [
    "-----"
   ]
  },
  {
   "cell_type": "markdown",
   "metadata": {},
   "source": [
    "# Домашнее задание"
   ]
  },
  {
   "cell_type": "markdown",
   "metadata": {},
   "source": [
    "1. Изучите структуру модуля src\n",
    "2. Перенесите функции prefilter_items и postfilter_items в модуль src.utils.py\n",
    "3. Реализуйте функции get_similar_items_recommendation, get_similar_users_recommendation (они разбирались на вебинаре) и переместите в src.utils.py.  \n",
    "postfilter можно пока оставить пустой (или как-то бороться с товаром 999999) - на Ваше усмотрение.  \n",
    "В prefilter нужно реализовать закомментированные ограничения.\n",
    "4. Создайте модуль src.recommenders.py. Напишите код для класса ниже и положите его в src.recommenders.py  \n",
    "get_similar_items_recommendation и get_similar_users_recommendation - реализуйте их в качетсве методов класса.  \n",
    "Посчитайте с помощью них рекоменадции и найдите precision@5\n",
    "5. Проверьте, что все модули корректно импортируются\n",
    "6. Если вы еще не прочитали [статью](https://habr.com/ru/company/hh/blog/347276/) о рекомендательных системах и поиске в hh.ru, то обязательно прочитайте\n",
    "\n",
    "**Внимание!** модуль для вашего удобства - дополняйте его теми функциями, которые Вам пригодятся.  \n",
    "Формальное задание только на prefiletr_items "
   ]
  },
  {
   "cell_type": "code",
   "execution_count": 3,
   "metadata": {},
   "outputs": [],
   "source": [
    "def prefilter_items_top_n_999999(data_train,n=5000):\n",
    "    \"\"\"Оставим только n самых популярных товаров, остальные переименуем в 999999\"\"\"\n",
    "    df = data_train.copy()\n",
    "    popularity = df.groupby('item_id')['quantity'].count().reset_index()\n",
    "    popularity.rename(columns={'quantity': 'n_sold'}, inplace=True)\n",
    "    top_n = popularity.sort_values('n_sold', ascending=False).head(n).item_id.tolist()\n",
    "    df.loc[~df['item_id'].isin(top_n), 'item_id'] = 999999 \n",
    "    return df\n",
    "    \n",
    "    \n",
    "def prefilter_items_top_n_del(data_train,n=5000):\n",
    "    \"\"\"Оставим только n самых популярных товаров, транзакции с остальными товрами удалим\"\"\"\n",
    "    df = data_train.copy()\n",
    "    popularity = df.groupby('item_id')['quantity'].count().reset_index()\n",
    "    popularity.rename(columns={'quantity': 'n_sold'}, inplace=True)\n",
    "    top_n = popularity.sort_values('n_sold', ascending=False).head(n).item_id.tolist()\n",
    "    df = df.loc[df['item_id'].isin(top_n)]  \n",
    "    return df\n",
    "    \n",
    "    \n",
    "def prefilter_items_not_top_n_del(data_train,n=5000):\n",
    "    \"\"\"транзакции с самыми не популярными n товрами удалим\"\"\"\n",
    "    df = data_train.copy()\n",
    "    not_popularity = df.groupby('item_id')['quantity'].count().reset_index()\n",
    "    not_popularity.rename(columns={'quantity': 'n_sold'}, inplace=True)\n",
    "    not_top_n = not_popularity.sort_values('n_sold').head(n).item_id.tolist()\n",
    "    df = df.loc[~df['item_id'].isin(not_top_n)]  \n",
    "    return df    \n",
    " \n",
    "\n",
    "def prefilter_items_old_weeks_n_del(data_train,weeks = 52):\n",
    "    \"\"\"Удалим транзакции с товарами, которые не покупали более n недель\"\"\"\n",
    "    df = data_train.copy()\n",
    "    old_item = df.groupby('item_id')['week_no'].max().reset_index()\n",
    "    old_item = old_item.loc[old_item['week_no']>weeks,'item_id'].tolist()\n",
    "    df = df.loc[df['item_id'].isin(old_item)]  \n",
    "    return df\n",
    "\n",
    "\n",
    "    \n",
    "    # Уберем товары, которые не продавались за последние 12 месяцев\n",
    "    \n",
    "    # Уберем не интересные для рекоммендаций категории (department)\n",
    "    \n",
    "    # Уберем слишком дешевые товары (на них не заработаем). 1 покупка из рассылок стоит 60 руб. \n",
    "    \n",
    "    # Уберем слишком дорогие товары\n",
    "    \n",
    "\n",
    "\n",
    "def postfilter_items():\n",
    "    pass"
   ]
  },
  {
   "cell_type": "code",
   "execution_count": 4,
   "metadata": {},
   "outputs": [],
   "source": [
    "def train_test_split(data,test_size_num,split_column):\n",
    "    data_train = data[data[split_column] < data[split_column].max() - test_size_num]\n",
    "    data_test = data[data[split_column] >= data[split_column].max() - test_size_num]\n",
    "    return data_train, data_test"
   ]
  },
  {
   "cell_type": "code",
   "execution_count": 5,
   "metadata": {},
   "outputs": [],
   "source": [
    "def get_similar_items_recommendation(df,users,model,not_my=0, N=5):\n",
    "\n",
    "    \"\"\"Рекомендуем товары, похожие на топ-N купленных юзером товаров\n",
    "            not_my =1 если хотим предсказать поекупку собственных товаров (вроде own_recomender), 0 - обратно\n",
    "    \"\"\"\n",
    "\n",
    "    assert  type(users)==list,'параметр users должен быть list'\n",
    "    assert  not_my in [0,1],'параметр not_my должен быть равен 0 или 1'\n",
    "\n",
    "    def get_recs(model,user,popularity,not_my=0):\n",
    "        result = []\n",
    "        for item in popularity[popularity['user_id']==user]['item_id'].to_list():\n",
    "            recs_ = model.similar_items(itemid_to_id[item], N=3)\n",
    "            recs = [id_to_itemid[i[0]] for i in recs_]\n",
    "            if 999999 in recs:\n",
    "                recs.remove(999999)\n",
    "            result.append(recs[not_my])\n",
    "        return  result\n",
    "\n",
    "\n",
    "\n",
    "    my_data = df.copy()     \n",
    "    my_data = my_data[my_data['user_id'].isin(users)]    \n",
    "    popularity = my_data.groupby(['user_id', 'item_id'])['quantity'].count().reset_index()\n",
    "    popularity.sort_values('quantity', ascending=False, inplace=True)\n",
    "    popularity = popularity[popularity['item_id'] != 999999]\n",
    "    popularity =popularity.groupby('user_id').head(N)\n",
    "    popularity.sort_values(['user_id','quantity'], ascending=False, inplace=True)\n",
    "    result = pd.DataFrame()\n",
    "    result['user_id'] = users\n",
    "    result['similar_recommendation'] = result['user_id'].apply(\\\n",
    "                            lambda x: get_recs(model=model,user=x,popularity = popularity,not_my=not_my))\n",
    "\n",
    "    return result"
   ]
  },
  {
   "cell_type": "code",
   "execution_count": 6,
   "metadata": {},
   "outputs": [],
   "source": [
    "   \n",
    "def get_similar_users_recommendation(model,uim,users, params={'filter_already_liked_items':False, \n",
    "                        'filter_items':[999999], \n",
    "                        \"recalculate_user\":True}, N=5):\n",
    "    \"\"\"Рекомендуем топ-N товаров, среди купленных похожими юзерами\"\"\"\n",
    "    \n",
    "    assert  type(users)==list,'параметр users должен быть list'\n",
    "    \n",
    "    def get_user(user):\n",
    "        users = model.similar_users(userid_to_id[user], N=2)\n",
    "        \n",
    "        return  id_to_userid[users[1][0]]\n",
    "    \n",
    "    \n",
    "    def predict_als(users,N=5):\n",
    "        \n",
    "        param = params.copy()\n",
    "        assert type(users) == list, 'users - должен быть списком'\n",
    "        param['user_items'] = uim\n",
    "        param['N'] = N\n",
    "        answer = pd.DataFrame()\n",
    "        answer['user_id']=users\n",
    "        if param['filter_items']:\n",
    "            param['filter_items']=[itemid_to_id[i] for i in params['filter_items']]\n",
    "        rec=[]\n",
    "        for user in users:\n",
    "            param['userid'] = userid_to_id[user]\n",
    "            rec.append( [id_to_itemid[i[0]] for i in model.recommend(**param)])\n",
    "        answer['result']  = rec\n",
    "        return answer\n",
    "\n",
    "    \n",
    "    result = pd.DataFrame()\n",
    "    result['user_id'] = users\n",
    "    result['simular_user_id'] = result['user_id'].apply(get_user)\n",
    "    result['similar_recommendation'] = predict_als(result['simular_user_id'].to_list(),N=5)['result']\n",
    "\n",
    "    return result"
   ]
  },
  {
   "cell_type": "code",
   "execution_count": 7,
   "metadata": {},
   "outputs": [
    {
     "data": {
      "text/html": [
       "<div>\n",
       "<style scoped>\n",
       "    .dataframe tbody tr th:only-of-type {\n",
       "        vertical-align: middle;\n",
       "    }\n",
       "\n",
       "    .dataframe tbody tr th {\n",
       "        vertical-align: top;\n",
       "    }\n",
       "\n",
       "    .dataframe thead th {\n",
       "        text-align: right;\n",
       "    }\n",
       "</style>\n",
       "<table border=\"1\" class=\"dataframe\">\n",
       "  <thead>\n",
       "    <tr style=\"text-align: right;\">\n",
       "      <th></th>\n",
       "      <th>user_id</th>\n",
       "      <th>basket_id</th>\n",
       "      <th>day</th>\n",
       "      <th>item_id</th>\n",
       "      <th>quantity</th>\n",
       "      <th>sales_value</th>\n",
       "      <th>store_id</th>\n",
       "      <th>retail_disc</th>\n",
       "      <th>trans_time</th>\n",
       "      <th>week_no</th>\n",
       "      <th>coupon_disc</th>\n",
       "      <th>coupon_match_disc</th>\n",
       "    </tr>\n",
       "  </thead>\n",
       "  <tbody>\n",
       "    <tr>\n",
       "      <th>2396801</th>\n",
       "      <td>1001</td>\n",
       "      <td>41655829421</td>\n",
       "      <td>663</td>\n",
       "      <td>13217800</td>\n",
       "      <td>1</td>\n",
       "      <td>1.69</td>\n",
       "      <td>3131</td>\n",
       "      <td>0.00</td>\n",
       "      <td>2231</td>\n",
       "      <td>95</td>\n",
       "      <td>0.0</td>\n",
       "      <td>0.0</td>\n",
       "    </tr>\n",
       "    <tr>\n",
       "      <th>2396802</th>\n",
       "      <td>1167</td>\n",
       "      <td>41656790510</td>\n",
       "      <td>663</td>\n",
       "      <td>6410462</td>\n",
       "      <td>22451</td>\n",
       "      <td>43.98</td>\n",
       "      <td>3385</td>\n",
       "      <td>-0.65</td>\n",
       "      <td>1059</td>\n",
       "      <td>95</td>\n",
       "      <td>0.0</td>\n",
       "      <td>0.0</td>\n",
       "    </tr>\n",
       "    <tr>\n",
       "      <th>2396803</th>\n",
       "      <td>1167</td>\n",
       "      <td>41656790510</td>\n",
       "      <td>663</td>\n",
       "      <td>6430664</td>\n",
       "      <td>1</td>\n",
       "      <td>8.00</td>\n",
       "      <td>3385</td>\n",
       "      <td>0.00</td>\n",
       "      <td>1059</td>\n",
       "      <td>95</td>\n",
       "      <td>0.0</td>\n",
       "      <td>0.0</td>\n",
       "    </tr>\n",
       "  </tbody>\n",
       "</table>\n",
       "</div>"
      ],
      "text/plain": [
       "         user_id    basket_id  day   item_id  quantity  sales_value  store_id  \\\n",
       "2396801     1001  41655829421  663  13217800         1         1.69      3131   \n",
       "2396802     1167  41656790510  663   6410462     22451        43.98      3385   \n",
       "2396803     1167  41656790510  663   6430664         1         8.00      3385   \n",
       "\n",
       "         retail_disc  trans_time  week_no  coupon_disc  coupon_match_disc  \n",
       "2396801         0.00        2231       95          0.0                0.0  \n",
       "2396802        -0.65        1059       95          0.0                0.0  \n",
       "2396803         0.00        1059       95          0.0                0.0  "
      ]
     },
     "execution_count": 7,
     "metadata": {},
     "output_type": "execute_result"
    }
   ],
   "source": [
    "data.tail(3)"
   ]
  },
  {
   "cell_type": "code",
   "execution_count": 8,
   "metadata": {},
   "outputs": [
    {
     "name": "stderr",
     "output_type": "stream",
     "text": [
      "WARNING:root:OpenBLAS detected. Its highly recommend to set the environment variable 'export OPENBLAS_NUM_THREADS=1' to disable its internal multithreading\n"
     ]
    },
    {
     "data": {
      "application/vnd.jupyter.widget-view+json": {
       "model_id": "d184303504e341408440b085a178e1f1",
       "version_major": 2,
       "version_minor": 0
      },
      "text/plain": [
       "HBox(children=(HTML(value=''), FloatProgress(value=0.0, max=15.0), HTML(value='')))"
      ]
     },
     "metadata": {},
     "output_type": "display_data"
    },
    {
     "name": "stdout",
     "output_type": "stream",
     "text": [
      "\n",
      "Wall time: 7.75 s\n"
     ]
    }
   ],
   "source": [
    "%%time\n",
    "data_train,data_test = train_test_split(data,3,'week_no')\n",
    "test_size_weeks = 3\n",
    "data_train=prefilter_items_top_n_999999(data_train)\n",
    "user_item_matrix = pd.pivot_table(data_train, \n",
    "                                  index='user_id', columns='item_id', \n",
    "                                  values='quantity',\n",
    "                                  aggfunc='count', \n",
    "                                  fill_value=0\n",
    "                                 )\n",
    "\n",
    "user_item_matrix = user_item_matrix.astype(float)\n",
    "userids = user_item_matrix.index.values\n",
    "itemids = user_item_matrix.columns.values\n",
    "\n",
    "matrix_userids = np.arange(len(userids))\n",
    "matrix_itemids = np.arange(len(itemids))\n",
    "\n",
    "id_to_itemid = dict(zip(matrix_itemids, itemids))\n",
    "id_to_userid = dict(zip(matrix_userids, userids))\n",
    "\n",
    "itemid_to_id = dict(zip(itemids, matrix_itemids))\n",
    "userid_to_id = dict(zip(userids, matrix_userids))\n",
    "user_item_matrix = bm25_weight(user_item_matrix.T).T\n",
    "model = AlternatingLeastSquares(factors=100, \n",
    "                                regularization=35,\n",
    "                                iterations=15, \n",
    "                                calculate_training_loss=True, \n",
    "                                num_threads=-1)\n",
    "\n",
    "model.fit(csr_matrix(user_item_matrix).T.tocsr(),  # На вход item-user matrix\n",
    "          show_progress=True)\n",
    "result = data_test.groupby('user_id')['item_id'].unique().reset_index()\n",
    "result.columns=['user_id', 'actual']\n"
   ]
  },
  {
   "cell_type": "code",
   "execution_count": 9,
   "metadata": {},
   "outputs": [
    {
     "name": "stdout",
     "output_type": "stream",
     "text": [
      "Wall time: 110 ms\n"
     ]
    },
    {
     "data": {
      "text/html": [
       "<div>\n",
       "<style scoped>\n",
       "    .dataframe tbody tr th:only-of-type {\n",
       "        vertical-align: middle;\n",
       "    }\n",
       "\n",
       "    .dataframe tbody tr th {\n",
       "        vertical-align: top;\n",
       "    }\n",
       "\n",
       "    .dataframe thead th {\n",
       "        text-align: right;\n",
       "    }\n",
       "</style>\n",
       "<table border=\"1\" class=\"dataframe\">\n",
       "  <thead>\n",
       "    <tr style=\"text-align: right;\">\n",
       "      <th></th>\n",
       "      <th>user_id</th>\n",
       "      <th>similar_recommendation</th>\n",
       "    </tr>\n",
       "  </thead>\n",
       "  <tbody>\n",
       "    <tr>\n",
       "      <th>0</th>\n",
       "      <td>1</td>\n",
       "      <td>[957164, 981760, 1029743, 1007512, 9526411]</td>\n",
       "    </tr>\n",
       "    <tr>\n",
       "      <th>1</th>\n",
       "      <td>2</td>\n",
       "      <td>[1106523, 1133018, 8090537, 5569845, 985999]</td>\n",
       "    </tr>\n",
       "    <tr>\n",
       "      <th>2</th>\n",
       "      <td>3</td>\n",
       "      <td>[1053690, 1092026, 883932, 1075979, 951590]</td>\n",
       "    </tr>\n",
       "    <tr>\n",
       "      <th>3</th>\n",
       "      <td>4</td>\n",
       "      <td>[951590, 847066, 1048462, 1111786, 1075368]</td>\n",
       "    </tr>\n",
       "    <tr>\n",
       "      <th>4</th>\n",
       "      <td>5</td>\n",
       "      <td>[1058997, 1070702, 5995503, 5569327, 1103618]</td>\n",
       "    </tr>\n",
       "    <tr>\n",
       "      <th>5</th>\n",
       "      <td>6</td>\n",
       "      <td>[981760, 825541, 1082185, 845208, 948650]</td>\n",
       "    </tr>\n",
       "    <tr>\n",
       "      <th>6</th>\n",
       "      <td>7</td>\n",
       "      <td>[981760, 1019247, 1015247, 1050229, 5583595]</td>\n",
       "    </tr>\n",
       "    <tr>\n",
       "      <th>7</th>\n",
       "      <td>8</td>\n",
       "      <td>[981760, 1106523, 1037863, 1110843, 5569845]</td>\n",
       "    </tr>\n",
       "    <tr>\n",
       "      <th>8</th>\n",
       "      <td>9</td>\n",
       "      <td>[995242, 882489, 1098066, 826249, 862799]</td>\n",
       "    </tr>\n",
       "    <tr>\n",
       "      <th>9</th>\n",
       "      <td>10</td>\n",
       "      <td>[1133018, 1012873, 1012873, 1138443, 930917]</td>\n",
       "    </tr>\n",
       "  </tbody>\n",
       "</table>\n",
       "</div>"
      ],
      "text/plain": [
       "   user_id                         similar_recommendation\n",
       "0        1    [957164, 981760, 1029743, 1007512, 9526411]\n",
       "1        2   [1106523, 1133018, 8090537, 5569845, 985999]\n",
       "2        3    [1053690, 1092026, 883932, 1075979, 951590]\n",
       "3        4    [951590, 847066, 1048462, 1111786, 1075368]\n",
       "4        5  [1058997, 1070702, 5995503, 5569327, 1103618]\n",
       "5        6      [981760, 825541, 1082185, 845208, 948650]\n",
       "6        7   [981760, 1019247, 1015247, 1050229, 5583595]\n",
       "7        8   [981760, 1106523, 1037863, 1110843, 5569845]\n",
       "8        9      [995242, 882489, 1098066, 826249, 862799]\n",
       "9       10   [1133018, 1012873, 1012873, 1138443, 930917]"
      ]
     },
     "execution_count": 9,
     "metadata": {},
     "output_type": "execute_result"
    }
   ],
   "source": [
    "%%time\n",
    "get_similar_items_recommendation(data_train,[1,2,3,4,5,6,7,8,9,10],model,not_my=1)"
   ]
  },
  {
   "cell_type": "code",
   "execution_count": 10,
   "metadata": {},
   "outputs": [
    {
     "name": "stdout",
     "output_type": "stream",
     "text": [
      "Wall time: 3.24 s\n"
     ]
    },
    {
     "data": {
      "text/plain": [
       "0.14084231145935228"
      ]
     },
     "execution_count": 10,
     "metadata": {},
     "output_type": "execute_result"
    }
   ],
   "source": [
    "%%time\n",
    "users = result['user_id'].to_list()\n",
    "result['item_similar_recommendation'] = get_similar_items_recommendation(data_train,users,model,not_my=1)['similar_recommendation']\n",
    "result.apply(lambda row: precision_at_k(row['item_similar_recommendation'], row['actual']), axis=1).mean()\n"
   ]
  },
  {
   "cell_type": "code",
   "execution_count": null,
   "metadata": {},
   "outputs": [],
   "source": []
  },
  {
   "cell_type": "code",
   "execution_count": 11,
   "metadata": {},
   "outputs": [
    {
     "data": {
      "text/html": [
       "<div>\n",
       "<style scoped>\n",
       "    .dataframe tbody tr th:only-of-type {\n",
       "        vertical-align: middle;\n",
       "    }\n",
       "\n",
       "    .dataframe tbody tr th {\n",
       "        vertical-align: top;\n",
       "    }\n",
       "\n",
       "    .dataframe thead th {\n",
       "        text-align: right;\n",
       "    }\n",
       "</style>\n",
       "<table border=\"1\" class=\"dataframe\">\n",
       "  <thead>\n",
       "    <tr style=\"text-align: right;\">\n",
       "      <th></th>\n",
       "      <th>user_id</th>\n",
       "      <th>simular_user_id</th>\n",
       "      <th>similar_recommendation</th>\n",
       "    </tr>\n",
       "  </thead>\n",
       "  <tbody>\n",
       "    <tr>\n",
       "      <th>0</th>\n",
       "      <td>1</td>\n",
       "      <td>2171</td>\n",
       "      <td>[861272, 1005186, 970619, 976214, 1115576]</td>\n",
       "    </tr>\n",
       "    <tr>\n",
       "      <th>1</th>\n",
       "      <td>2</td>\n",
       "      <td>475</td>\n",
       "      <td>[855356, 1092040, 1053690, 968146, 1036936]</td>\n",
       "    </tr>\n",
       "    <tr>\n",
       "      <th>2</th>\n",
       "      <td>3</td>\n",
       "      <td>490</td>\n",
       "      <td>[944466, 872417, 5568378, 1074754, 822407]</td>\n",
       "    </tr>\n",
       "    <tr>\n",
       "      <th>3</th>\n",
       "      <td>4</td>\n",
       "      <td>662</td>\n",
       "      <td>[1115098, 6773204, 1070272, 1003836, 1045220]</td>\n",
       "    </tr>\n",
       "    <tr>\n",
       "      <th>4</th>\n",
       "      <td>5</td>\n",
       "      <td>2495</td>\n",
       "      <td>[5995609, 1067419, 9420336, 9573206, 867931]</td>\n",
       "    </tr>\n",
       "    <tr>\n",
       "      <th>5</th>\n",
       "      <td>6</td>\n",
       "      <td>521</td>\n",
       "      <td>[848071, 1028816, 819840, 1025650, 962274]</td>\n",
       "    </tr>\n",
       "    <tr>\n",
       "      <th>6</th>\n",
       "      <td>7</td>\n",
       "      <td>1512</td>\n",
       "      <td>[1404121, 9802540, 1136988, 912553, 900698]</td>\n",
       "    </tr>\n",
       "    <tr>\n",
       "      <th>7</th>\n",
       "      <td>8</td>\n",
       "      <td>2468</td>\n",
       "      <td>[860703, 1082185, 1021116, 1130944, 1121367]</td>\n",
       "    </tr>\n",
       "    <tr>\n",
       "      <th>8</th>\n",
       "      <td>9</td>\n",
       "      <td>1952</td>\n",
       "      <td>[887962, 1066893, 995502, 1085256, 8359154]</td>\n",
       "    </tr>\n",
       "    <tr>\n",
       "      <th>9</th>\n",
       "      <td>10</td>\n",
       "      <td>2101</td>\n",
       "      <td>[902192, 968057, 872702, 1041476, 9526313]</td>\n",
       "    </tr>\n",
       "  </tbody>\n",
       "</table>\n",
       "</div>"
      ],
      "text/plain": [
       "   user_id  simular_user_id                         similar_recommendation\n",
       "0        1             2171     [861272, 1005186, 970619, 976214, 1115576]\n",
       "1        2              475    [855356, 1092040, 1053690, 968146, 1036936]\n",
       "2        3              490     [944466, 872417, 5568378, 1074754, 822407]\n",
       "3        4              662  [1115098, 6773204, 1070272, 1003836, 1045220]\n",
       "4        5             2495   [5995609, 1067419, 9420336, 9573206, 867931]\n",
       "5        6              521     [848071, 1028816, 819840, 1025650, 962274]\n",
       "6        7             1512    [1404121, 9802540, 1136988, 912553, 900698]\n",
       "7        8             2468   [860703, 1082185, 1021116, 1130944, 1121367]\n",
       "8        9             1952    [887962, 1066893, 995502, 1085256, 8359154]\n",
       "9       10             2101     [902192, 968057, 872702, 1041476, 9526313]"
      ]
     },
     "execution_count": 11,
     "metadata": {},
     "output_type": "execute_result"
    }
   ],
   "source": [
    "uim = csr_matrix(user_item_matrix).tocsr()\n",
    "get_similar_users_recommendation(model,uim,[1,2,3,4,5,6,7,8,9,10],  N=5)"
   ]
  },
  {
   "cell_type": "code",
   "execution_count": 12,
   "metadata": {},
   "outputs": [
    {
     "name": "stdout",
     "output_type": "stream",
     "text": [
      "Wall time: 26 s\n"
     ]
    },
    {
     "data": {
      "text/plain": [
       "0.08393731635651303"
      ]
     },
     "execution_count": 12,
     "metadata": {},
     "output_type": "execute_result"
    }
   ],
   "source": [
    "%%time\n",
    "users = result['user_id'].to_list()\n",
    "result['users_similar_recommendation'] = get_similar_users_recommendation(model,uim,users)['similar_recommendation']\n",
    "result.apply(lambda row: precision_at_k(row['users_similar_recommendation'], row['actual']), axis=1).mean()"
   ]
  },
  {
   "cell_type": "code",
   "execution_count": null,
   "metadata": {},
   "outputs": [],
   "source": []
  },
  {
   "cell_type": "code",
   "execution_count": null,
   "metadata": {},
   "outputs": [],
   "source": []
  },
  {
   "cell_type": "code",
   "execution_count": 13,
   "metadata": {},
   "outputs": [
    {
     "data": {
      "text/plain": [
       "(2499, 89051)"
      ]
     },
     "execution_count": 13,
     "metadata": {},
     "output_type": "execute_result"
    }
   ],
   "source": [
    "data.user_id.nunique(),data.item_id.nunique()"
   ]
  },
  {
   "cell_type": "code",
   "execution_count": 14,
   "metadata": {},
   "outputs": [
    {
     "data": {
      "text/plain": [
       "(2499, 5001)"
      ]
     },
     "execution_count": 14,
     "metadata": {},
     "output_type": "execute_result"
    }
   ],
   "source": [
    "a=prefilter_items_top_n_999999(data)\n",
    "a.user_id.nunique(),a.item_id.nunique()"
   ]
  },
  {
   "cell_type": "code",
   "execution_count": 15,
   "metadata": {},
   "outputs": [
    {
     "data": {
      "text/plain": [
       "(2483, 5000)"
      ]
     },
     "execution_count": 15,
     "metadata": {},
     "output_type": "execute_result"
    }
   ],
   "source": [
    "a=prefilter_items_top_n_del(data)\n",
    "a.user_id.nunique(),a.item_id.nunique()"
   ]
  },
  {
   "cell_type": "code",
   "execution_count": 16,
   "metadata": {},
   "outputs": [
    {
     "data": {
      "text/plain": [
       "(2498, 19051)"
      ]
     },
     "execution_count": 16,
     "metadata": {},
     "output_type": "execute_result"
    }
   ],
   "source": [
    "a=prefilter_items_not_top_n_del(data,n=70000)\n",
    "a.user_id.nunique(),a.item_id.nunique()"
   ]
  },
  {
   "cell_type": "code",
   "execution_count": 17,
   "metadata": {},
   "outputs": [
    {
     "data": {
      "text/plain": [
       "(2498, 61908)"
      ]
     },
     "execution_count": 17,
     "metadata": {},
     "output_type": "execute_result"
    }
   ],
   "source": [
    "a=prefilter_items_old_weeks_n_del(data)\n",
    "a.user_id.nunique(),a.item_id.nunique()"
   ]
  },
  {
   "cell_type": "code",
   "execution_count": null,
   "metadata": {},
   "outputs": [],
   "source": []
  },
  {
   "cell_type": "code",
   "execution_count": null,
   "metadata": {},
   "outputs": [],
   "source": [
    "\n"
   ]
  },
  {
   "cell_type": "code",
   "execution_count": 18,
   "metadata": {},
   "outputs": [],
   "source": [
    "import pandas as pd\n",
    "import numpy as np\n",
    "\n",
    "# Для работы с матрицами\n",
    "from scipy.sparse import csr_matrix\n",
    "\n",
    "# Матричная факторизация\n",
    "from implicit.als import AlternatingLeastSquares\n",
    "from implicit.nearest_neighbours import ItemItemRecommender  # нужен для одного трюка\n",
    "from implicit.nearest_neighbours import bm25_weight, tfidf_weight\n",
    "\n",
    "\n",
    "class MainRecommender:\n",
    "    \n",
    "    \n",
    "    \n",
    "    \n",
    "    own_recomender_defult_param = {'filter_already_liked_items':False, \n",
    "                        'filter_items':False, \n",
    "                        \"recalculate_user\":True}\n",
    "    \n",
    "    model_als_defult_param ={'factors':50, 'regularization':15, 'iterations':15, \n",
    "                             'num_threads':-1,'calculate_training_loss':False}\n",
    "    \n",
    "    def __init__(self, data,data_test=None,split_info=None):\n",
    "        \"\"\" data - dataframe c данными\n",
    "            data_test - даные для валидации, если нет и есть split_info то создаем\n",
    "            split_info кортеж с инфрмацией как создать data_test (размер, поле деления) рассматривается только в слуяае отсутвя \n",
    "            data_test\n",
    "        \"\"\"     \n",
    "        \n",
    "        self.data_validation={}\n",
    "        self.data_validation['status'] = False\n",
    "        self.user_item_matrix = {'status':False,'matrix':None,'params':None}\n",
    "        self.own_recommender_is_fit= {'status':False,'params':None}\n",
    "        self.als_recommender_is_fit= {'status':False,'params':None}\n",
    "        self.data = data.copy()\n",
    "        self.full_data_train = data.copy() #Оставим полный объем данный , если нужно будет предсказывать по полному объему данных\n",
    "        self.data_train = data.copy()\n",
    "        if data_test is not None:\n",
    "            self.data_test = data_test.copy()\n",
    "        else:\n",
    "            self.data_test = None\n",
    "            if split_info:\n",
    "                self.data_train,self.data_test = self.train_test_split(test_size_num = split_info[0],split_column =split_info[1])\n",
    "        if  self.data_test is not None:\n",
    "            self.data_validation['data'] = self.get_validation_data()\n",
    "            self.data_validation['status'] = True\n",
    "\n",
    "\n",
    " \n",
    "    def prefiltr_1(self,my_data,n=5000):\n",
    "        df = my_data.copy()\n",
    "        \"\"\"Оставим только 5000 самых популярных товаров остальные переименуем в 999999\"\"\"\n",
    "        popularity = my_data.groupby('item_id')['quantity'].count().reset_index()\n",
    "        popularity.rename(columns={'quantity': 'n_sold'}, inplace=True)\n",
    "        top_5000 = popularity.sort_values('n_sold', ascending=False).head(n).item_id.tolist()\n",
    "        df.loc[~df['item_id'].isin(top_5000), 'item_id'] = 999999 \n",
    "        return df\n",
    "    \n",
    "    \n",
    "    def prefiltr_2(self,data_train,n=5000):\n",
    "        \"\"\"Оставим только n самых популярных товаров, транзакции с остальными товрами удалим\"\"\"\n",
    "        df = data_train.copy()\n",
    "        popularity = df.groupby('item_id')['quantity'].count().reset_index()\n",
    "        popularity.rename(columns={'quantity': 'n_sold'}, inplace=True)\n",
    "        top_n = popularity.sort_values('n_sold', ascending=False).head(n).item_id.tolist()\n",
    "        df = df.loc[df['item_id'].isin(top_n)]  \n",
    "        return df\n",
    "    \n",
    "    \n",
    "    def prefiltr_3(self,data_train,n=5000):\n",
    "        \"\"\"транзакции с самыми не популярными n товрами удалим\"\"\"\n",
    "        df = data_train.copy()\n",
    "        not_popularity = df.groupby('item_id')['quantity'].count().reset_index()\n",
    "        not_popularity.rename(columns={'quantity': 'n_sold'}, inplace=True)\n",
    "        not_top_n = not_popularity.sort_values('n_sold').head(n).item_id.tolist()\n",
    "        df = df.loc[~df['item_id'].isin(not_top_n)]  \n",
    "        return df   \n",
    "    \n",
    "    \n",
    "    def prefiltr_4(self,data_train,weeks = 52):\n",
    "        \"\"\"Удалим транзакции с товарами, которые не покупали более n недель\"\"\"\n",
    "        df = data_train.copy()\n",
    "        old_item = df.groupby('item_id')['week_no'].max().reset_index()\n",
    "        old_item = old_item.loc[old_item['week_no']>weeks,'item_id'].tolist()\n",
    "        df = df.loc[df['item_id'].isin(old_item)]  \n",
    "        return df\n",
    "    \n",
    "\n",
    "\n",
    "  \n",
    "    def train_test_split(self,test_size_num,split_column):\n",
    "        data_train = self.data[self.data[split_column] < self.data[split_column].max() - test_size_num]\n",
    "        data_test = self.data[self.data[split_column] >= self.data[split_column].max() - test_size_num]\n",
    "        return data_train, data_test\n",
    "    \n",
    "    \n",
    "   \n",
    "    def get_validation_data(self):\n",
    "        result = self.data_test.groupby('user_id')['item_id'].unique().reset_index()\n",
    "        result['train'] = result['user_id'].map(self.data_train.groupby('user_id')['item_id'].unique())\n",
    "        result['full_train'] = result['user_id'].map(self.full_data_train.groupby('user_id')['item_id'].unique())\n",
    "        result.rename(columns={'item_id':'test'},inplace=True)\n",
    "        return result\n",
    "\n",
    " \n",
    "    def prepare_matrix(self,agg_column,full=None,filtr=None):\n",
    "        my_data = self.data_train.copy()\n",
    "        if full:\n",
    "            my_data = self.full_data_train.copy()\n",
    "        if  filtr:\n",
    "            for i in filtr:\n",
    "                prefiltr = 'self.prefiltr_'+str(i)+'(my_data)'\n",
    "                my_data = eval(prefiltr)\n",
    "            \n",
    "        user_item_matrix = pd.pivot_table(my_data, \n",
    "                              index='user_id', columns='item_id', \n",
    "                              values=agg_column[0], \n",
    "                              aggfunc=agg_column[1], \n",
    "                              fill_value=0\n",
    "                             )\n",
    "        \n",
    "        user_item_matrix = user_item_matrix.astype(float) \n",
    "        self.prepare_dicts(user_item_matrix)\n",
    "        self.current_working_data = my_data.copy()\n",
    "\n",
    "        return user_item_matrix\n",
    "        \n",
    "\n",
    "        return user_item_matrix\n",
    "            \n",
    "\n",
    "\n",
    "    def prepare_dicts(self,user_item_matrix):\n",
    "        \"\"\"Подготавливает вспомогательные словари\"\"\"\n",
    "        \n",
    "        userids = user_item_matrix.index.values\n",
    "        itemids = user_item_matrix.columns.values\n",
    "\n",
    "        matrix_userids = np.arange(len(userids))\n",
    "        matrix_itemids = np.arange(len(itemids))\n",
    "\n",
    "        self.id_to_itemid = dict(zip(matrix_itemids, itemids))\n",
    "        self.id_to_userid = dict(zip(matrix_userids, userids))\n",
    "\n",
    "        self.itemid_to_id = dict(zip(itemids, matrix_itemids))\n",
    "        self.userid_to_id = dict(zip(userids, matrix_userids))\n",
    "        \n",
    "        return  self.id_to_itemid,  self.id_to_userid,  self.itemid_to_id,  self.userid_to_id\n",
    "    \n",
    "    \n",
    "     \n",
    "    def make_data(self,agg_column,filtr=None,full =False):\n",
    "        self.full = full\n",
    "        uim = self.prepare_matrix(agg_column=agg_column,full=full,filtr=filtr)\n",
    "        uim_w = uim.copy()\n",
    "        self.user_item_matrix['uim_matrix_w'] = csr_matrix(uim_w).tocsr()\n",
    "        uim[uim>0]=1\n",
    "        self.user_item_matrix['uim_matrix'] = csr_matrix(uim).tocsr()\n",
    "        \n",
    "        self.user_item_matrix['ium_matrix_w_tfidf'] = tfidf_weight(csr_matrix(uim_w.T).tocsr())\n",
    "        self.user_item_matrix['ium_matrix_tfidf'] = tfidf_weight(csr_matrix(uim.T).tocsr())\n",
    "        self.user_item_matrix['ium_matrix_w_bm25'] = bm25_weight(csr_matrix(uim_w.T).tocsr())\n",
    "        self.user_item_matrix['ium_matrix_bm25'] = bm25_weight(csr_matrix(uim.T).tocsr())\n",
    "\n",
    "        self.user_item_matrix['status'] = True\n",
    "        self.user_item_matrix['params'] = {'agg_column':agg_column,'filtr':filtr,'full':full}\n",
    "        return self.user_item_matrix\n",
    "            \n",
    "        \n",
    "    def precision_at_k(x, k=5):\n",
    "    \n",
    "        bought_list = np.array(x['test'])\n",
    "        recommended_list = np.array(x['predict'])[:k]\n",
    "        if len(recommended_list) == 0:\n",
    "            return 0\n",
    "\n",
    "\n",
    "        flags = np.isin(bought_list, recommended_list)\n",
    "        precision = flags.sum() / len(recommended_list)\n",
    "\n",
    "\n",
    "        return precision\n",
    "        \n",
    "        \n",
    "    \n",
    "    def fit_own_recommender(self,weighting=False):\n",
    "        \"\"\"Обучает модель, которая рекомендует товары, среди товаров, купленных юзером\"\"\"\n",
    "        \n",
    "        assert self.user_item_matrix['status'], 'необходимо сначала выполнить метод make_data(self,agg_column,filtr=None,weighting=None,full =False)'\n",
    "        ium = self.user_item_matrix['uim_matrix'].T\n",
    "        if weighting:\n",
    "            assert (weighting == 'tf_idf' or weighting == 'bm25'), 'необходимо указать weighting: tf_idf или bm25 или None'\n",
    "            if  weighting == 'tf_idf':\n",
    "                ium = self.user_item_matrix['ium_matrix_tfidf']\n",
    "            else:\n",
    "                ium = self.user_item_matrix['ium_matrix_bm25']   \n",
    "        self.own_recommender = ItemItemRecommender(K=1, num_threads=-1)\n",
    "        self.own_recommender.fit(ium)      \n",
    "        self.own_recommender_is_fit['status'] =True\n",
    "        self.own_recommender_is_fit['params'] ={'model':'ItemItemRecommender(K=1, num_threads=-1)','weighting':weighting}\n",
    "        self.own_recommender_is_fit['ium']=ium\n",
    "        \n",
    "        return self.own_recommender\n",
    "    \n",
    "    \n",
    "    def predict_own_recommender(self,users,N=5,params=own_recomender_defult_param):\n",
    "        \n",
    "        param = params.copy()\n",
    "        assert self.own_recommender_is_fit['status'], 'необходимо сначала выполнить метод fit_own_recommender()'\n",
    "        assert type(users) == list, 'users - должен быть списком'\n",
    "        uim = self.user_item_matrix['uim_matrix']\n",
    "        param['user_items'] = uim\n",
    "        param['N'] = N\n",
    "        answer = pd.DataFrame()\n",
    "        answer['user_id']=users\n",
    "        if param['filter_items']:\n",
    "            param['filter_items']=[self.itemid_to_id[i] for i in params['filter_items']]\n",
    "        rec=[]\n",
    "        for user in users:\n",
    "            param['userid'] = self.userid_to_id[user]\n",
    "            rec.append( [self.id_to_itemid[i[0]] for i in self.own_recommender.recommend(**param)])\n",
    "        answer['result']  = rec\n",
    "        return answer\n",
    "\n",
    "    \n",
    "    \n",
    "    def validation_own_recommender(self,metric=precision_at_k,N=5,params=own_recomender_defult_param):\n",
    "        assert self.data_validation['status'], 'тестовые данные не созданы'\n",
    "        assert self.own_recommender_is_fit['status'], 'необходимо сначала выполнить метод fit_own_recommender()'\n",
    "        df = self.data_validation['data']\n",
    "        users = df['user_id'].to_list()\n",
    "        predict = self.predict_own_recommender(users = users,N=N,params=params)\n",
    "        df['predict'] = predict['result']\n",
    "        \n",
    "        return df.apply(metric,axis=1).mean()\n",
    "            \n",
    "        \n",
    "  \n",
    "    def fit_als(self, params = model_als_defult_param,weighting=False):\n",
    "        \"\"\"Обучает ALS\"\"\"\n",
    "        \n",
    "        assert self.user_item_matrix['status'], 'необходимо сначала выполнить метод make_data(self,agg_column,filtr=None,weighting=None,full =False)'\n",
    "        ium = self.user_item_matrix['uim_matrix_w'].T\n",
    "        if weighting:\n",
    "            assert (weighting == 'tf_idf' or weighting == 'bm25'), 'необходимо указать weighting: tf_idf или bm25 или None'\n",
    "            if  weighting == 'tf_idf':\n",
    "                ium = self.user_item_matrix['ium_matrix_w_tfidf']\n",
    "            else:\n",
    "                ium = self.user_item_matrix['ium_matrix_w_bm25']\n",
    "        \n",
    "        self.model_als = AlternatingLeastSquares(**params)\n",
    "        self.model_als.fit(ium)\n",
    "        self.als_recommender_is_fit['status'] = True\n",
    "        self.als_recommender_is_fit['params'] = {'model':params,'weighting':weighting}\n",
    "        self.als_recommender_is_fit['ium'] = ium\n",
    "        \n",
    "        return self.model_als\n",
    "    \n",
    "    \n",
    "    def predict_als(self,users,N=5,params=own_recomender_defult_param):\n",
    "        \n",
    "        param = params.copy()\n",
    "        assert self.als_recommender_is_fit['status'], 'необходимо сначала выполнить метод fit_als()'\n",
    "        assert type(users) == list, 'users - должен быть списком'\n",
    "        uim = self.user_item_matrix['uim_matrix_w']\n",
    "        param['user_items'] = uim\n",
    "        param['N'] = N\n",
    "        answer = pd.DataFrame()\n",
    "        answer['user_id']=users\n",
    "        if param['filter_items']:\n",
    "            param['filter_items']=[self.itemid_to_id[i] for i in params['filter_items']]\n",
    "        rec=[]\n",
    "        for user in users:\n",
    "            param['userid'] = self.userid_to_id[user]\n",
    "            rec.append( [self.id_to_itemid[i[0]] for i in self.model_als.recommend(**param)])\n",
    "        answer['result']  = rec\n",
    "        return answer\n",
    "    \n",
    "    \n",
    "    def validation_als_recommender(self,metric=precision_at_k,N=5,params=own_recomender_defult_param):\n",
    "        assert self.data_validation['status'], 'тестовые данные не созданы'\n",
    "        assert self.als_recommender_is_fit['status'], 'необходимо сначала выполнить метод fit_als()'\n",
    "        df = self.data_validation['data'].copy()\n",
    "        users = df['user_id'].to_list()\n",
    "        predict = self.predict_als(users = users,N=N,params=params)\n",
    "        df['predict'] = predict['result']\n",
    "\n",
    "        return df.apply(metric,axis=1).mean()  \n",
    "    \n",
    "    \n",
    "    def get_recs(self,user,popularity,not_my=0):\n",
    "        result = []\n",
    "        for item in popularity[popularity['user_id']==user]['item_id'].to_list():\n",
    "            recs_ = self.model_als.similar_items(self.itemid_to_id[item], N=3)\n",
    "            recs = [self.id_to_itemid[i[0]] for i in recs_]\n",
    "            if 999999 in recs:\n",
    "                recs.remove(999999)\n",
    "            result.append(recs[not_my])\n",
    "        return  result      \n",
    "\n",
    "\n",
    "    def get_similar_items_recommendation(self, users,not_my=0, N=5):\n",
    "        \n",
    "        \"\"\"Рекомендуем товары, похожие на топ-N купленных юзером товаров\n",
    "        not_my =1 если хотим предсказать поекупку собственных товаров (вроде own_recomender), 0 - обратно\"\"\"\n",
    "        assert  self.als_recommender_is_fit['status'],'Модель als не обучена, используйте fit_als()'\n",
    "        assert  type(users)==list,'параметр users должен быть list'\n",
    "        assert  not_my in [0,1],'параметр not_my должен быть равен 0 или 1'\n",
    "        my_data = self.current_working_data.copy()\n",
    "        my_data = my_data[my_data['user_id'].isin(users)]    \n",
    "        popularity = my_data.groupby(['user_id', 'item_id'])['quantity'].count().reset_index()\n",
    "        popularity.sort_values('quantity', ascending=False, inplace=True)\n",
    "        popularity = popularity[popularity['item_id'] != 999999]\n",
    "        popularity =popularity.groupby('user_id').head(N)\n",
    "        popularity.sort_values(['user_id','quantity'], ascending=False, inplace=True)\n",
    "        result = pd.DataFrame()\n",
    "        result['user_id'] = users\n",
    "        result['similar_recommendation'] = result['user_id'].apply(\\\n",
    "                                            lambda x: self.get_recs(user = x,popularity = popularity,not_my=not_my))\n",
    "\n",
    "        return result\n",
    "    \n",
    "    \n",
    "    def validation_similar_items_recommendation(self,metric=precision_at_k,N=5,not_my=0):\n",
    "        assert self.data_validation['status'], 'тестовые данные не созданы'\n",
    "        assert self.als_recommender_is_fit['status'], 'необходимо сначала выполнить метод fit_als()'\n",
    "        assert  not_my in [0,1],'параметр not_my должен быть равен 0 или 1'\n",
    "        df = self.data_validation['data'].copy()\n",
    "        users = df['user_id'].to_list()\n",
    "        predict = self.get_similar_items_recommendation(users = users,N=N,not_my=not_my)\n",
    "        df['predict'] = predict['similar_recommendation']\n",
    "\n",
    "        return df.apply(metric,axis=1).mean() \n",
    "    \n",
    "    \n",
    "    \n",
    "    def get_user(self,user):\n",
    "        users = self.model_als.similar_users(self.userid_to_id[user], N=2)\n",
    "        \n",
    "        return  self.id_to_userid[users[1][0]]\n",
    "    \n",
    "    \n",
    "    def get_similar_users_recommendation(self, users, N=5,params=own_recomender_defult_param):\n",
    "        \"\"\"Рекомендуем топ-N товаров, среди купленных похожими юзерами\"\"\"\n",
    "        assert  self.als_recommender_is_fit['status'],'Модель als не обучена, используйте fit_als()'\n",
    "        assert  type(users)==list,'параметр users должен быть list'\n",
    "        result = pd.DataFrame()\n",
    "        result['user_id'] = users\n",
    "        result['simular_user_id'] = result['user_id'].apply(self.get_user)\n",
    "        result['similar_recommendation'] = self.predict_als(result['simular_user_id'].to_list(),N=5,params=params)['result']\n",
    "\n",
    "        return result    \n",
    "            \n",
    "    def validation_similar_users_recommendation(self,metric=precision_at_k,N=5):\n",
    "        assert self.data_validation['status'], 'тестовые данные не созданы'\n",
    "        assert self.als_recommender_is_fit['status'], 'необходимо сначала выполнить метод fit_als()'\n",
    "        df = self.data_validation['data'].copy()\n",
    "        users = df['user_id'].to_list()\n",
    "        predict = self.get_similar_users_recommendation(users = users,N=N)\n",
    "        df['predict'] = predict['similar_recommendation']\n",
    "\n",
    "        return df.apply(metric,axis=1).mean()     \n",
    "    \n"
   ]
  },
  {
   "cell_type": "code",
   "execution_count": null,
   "metadata": {},
   "outputs": [],
   "source": []
  },
  {
   "cell_type": "code",
   "execution_count": null,
   "metadata": {},
   "outputs": [],
   "source": []
  },
  {
   "cell_type": "markdown",
   "metadata": {},
   "source": [
    "Работа класса"
   ]
  },
  {
   "cell_type": "code",
   "execution_count": 19,
   "metadata": {},
   "outputs": [
    {
     "name": "stdout",
     "output_type": "stream",
     "text": [
      "Wall time: 1.01 s\n"
     ]
    }
   ],
   "source": [
    "%%time\n",
    "# создаем объект класса. data  - полный набор данных,  \n",
    "# split_info - кортеж, как разбить данные на трайн и тест, если нужно. \n",
    "# Если есть тестовые данные их можно передать в парамаетр data_test \n",
    "# week_no - поле по которому делим трейн и тест, 3 значение отсечения\n",
    "\n",
    "my_recomender = MainRecommender(data=data,split_info=(3,'week_no'))"
   ]
  },
  {
   "cell_type": "code",
   "execution_count": 20,
   "metadata": {},
   "outputs": [
    {
     "name": "stdout",
     "output_type": "stream",
     "text": [
      "Wall time: 3.44 s\n"
     ]
    },
    {
     "data": {
      "text/plain": [
       "{'status': True,\n",
       " 'matrix': None,\n",
       " 'params': {'agg_column': ('quantity', 'count'), 'filtr': [1], 'full': False},\n",
       " 'uim_matrix_w': <2499x5001 sparse matrix of type '<class 'numpy.float64'>'\n",
       " \twith 679365 stored elements in Compressed Sparse Row format>,\n",
       " 'uim_matrix': <2499x5001 sparse matrix of type '<class 'numpy.float64'>'\n",
       " \twith 679365 stored elements in Compressed Sparse Row format>,\n",
       " 'ium_matrix_w_tfidf': <5001x2499 sparse matrix of type '<class 'numpy.float64'>'\n",
       " \twith 679365 stored elements in COOrdinate format>,\n",
       " 'ium_matrix_tfidf': <5001x2499 sparse matrix of type '<class 'numpy.float64'>'\n",
       " \twith 679365 stored elements in COOrdinate format>,\n",
       " 'ium_matrix_w_bm25': <5001x2499 sparse matrix of type '<class 'numpy.float64'>'\n",
       " \twith 679365 stored elements in COOrdinate format>,\n",
       " 'ium_matrix_bm25': <5001x2499 sparse matrix of type '<class 'numpy.float64'>'\n",
       " \twith 679365 stored elements in COOrdinate format>}"
      ]
     },
     "execution_count": 20,
     "metadata": {},
     "output_type": "execute_result"
    }
   ],
   "source": [
    "%%time\n",
    "# создадим все маттрицы для работы\n",
    "# agg_column - поле агрегации и тип агрегации для сводной таблицы\n",
    "# filtr - указываем каким префильтрам подвергнуть матрицу при создании.Это список. Пока имеется только префильтр _1 отбор 5000 \n",
    "# самых популярных товаров. Замена остальных на 999999\n",
    "# full - если нужно сдлеать матицу из полного набьора данных, если Fals то делает из тренировочного,\n",
    "# полученого делением полного на трайн и тест\n",
    "my_recomender.make_data(agg_column=('quantity','count'),filtr=[1],full =False)"
   ]
  },
  {
   "cell_type": "code",
   "execution_count": 21,
   "metadata": {},
   "outputs": [],
   "source": [
    "# Посмотрим что теперь имеется в классе\n",
    "my_recomender.data # - полный наьор данных\n",
    "my_recomender.data_test #- тестовый набор данных\n",
    "my_recomender.data_train #- набор данных для обучения\n",
    "my_recomender.userid_to_id\n",
    "my_recomender.itemid_to_id\n",
    "my_recomender.id_to_itemid\n",
    "my_recomender.id_to_userid\n",
    "None\n"
   ]
  },
  {
   "cell_type": "code",
   "execution_count": 22,
   "metadata": {},
   "outputs": [
    {
     "data": {
      "text/html": [
       "<div>\n",
       "<style scoped>\n",
       "    .dataframe tbody tr th:only-of-type {\n",
       "        vertical-align: middle;\n",
       "    }\n",
       "\n",
       "    .dataframe tbody tr th {\n",
       "        vertical-align: top;\n",
       "    }\n",
       "\n",
       "    .dataframe thead th {\n",
       "        text-align: right;\n",
       "    }\n",
       "</style>\n",
       "<table border=\"1\" class=\"dataframe\">\n",
       "  <thead>\n",
       "    <tr style=\"text-align: right;\">\n",
       "      <th></th>\n",
       "      <th>user_id</th>\n",
       "      <th>test</th>\n",
       "      <th>train</th>\n",
       "      <th>full_train</th>\n",
       "    </tr>\n",
       "  </thead>\n",
       "  <tbody>\n",
       "    <tr>\n",
       "      <th>0</th>\n",
       "      <td>1</td>\n",
       "      <td>[821867, 834484, 856942, 865456, 889248, 90795...</td>\n",
       "      <td>[825123, 831447, 840361, 845307, 852014, 85498...</td>\n",
       "      <td>[825123, 831447, 840361, 845307, 852014, 85498...</td>\n",
       "    </tr>\n",
       "    <tr>\n",
       "      <th>1</th>\n",
       "      <td>3</td>\n",
       "      <td>[835476, 851057, 872021, 878302, 879948, 90963...</td>\n",
       "      <td>[866211, 878996, 882830, 904360, 921345, 93194...</td>\n",
       "      <td>[866211, 878996, 882830, 904360, 921345, 93194...</td>\n",
       "    </tr>\n",
       "    <tr>\n",
       "      <th>2</th>\n",
       "      <td>6</td>\n",
       "      <td>[920308, 926804, 946489, 1006718, 1017061, 107...</td>\n",
       "      <td>[840361, 851494, 851819, 851903, 863447, 87623...</td>\n",
       "      <td>[840361, 851494, 851819, 851903, 863447, 87623...</td>\n",
       "    </tr>\n",
       "    <tr>\n",
       "      <th>3</th>\n",
       "      <td>7</td>\n",
       "      <td>[840386, 889774, 898068, 909714, 929067, 95347...</td>\n",
       "      <td>[865569, 886703, 889731, 893400, 995436, 10205...</td>\n",
       "      <td>[865569, 886703, 889731, 893400, 995436, 10205...</td>\n",
       "    </tr>\n",
       "    <tr>\n",
       "      <th>4</th>\n",
       "      <td>8</td>\n",
       "      <td>[835098, 872137, 910439, 924610, 992977, 10412...</td>\n",
       "      <td>[824550, 824555, 826578, 835576, 841220, 84798...</td>\n",
       "      <td>[824550, 824555, 826578, 835576, 841220, 84798...</td>\n",
       "    </tr>\n",
       "    <tr>\n",
       "      <th>...</th>\n",
       "      <td>...</td>\n",
       "      <td>...</td>\n",
       "      <td>...</td>\n",
       "      <td>...</td>\n",
       "    </tr>\n",
       "    <tr>\n",
       "      <th>2037</th>\n",
       "      <td>2496</td>\n",
       "      <td>[6534178]</td>\n",
       "      <td>[840361, 852159, 871756, 886703, 899624, 91612...</td>\n",
       "      <td>[840361, 852159, 871756, 886703, 899624, 91612...</td>\n",
       "    </tr>\n",
       "    <tr>\n",
       "      <th>2038</th>\n",
       "      <td>2497</td>\n",
       "      <td>[1016709, 9835695, 1132298, 16809501, 845294, ...</td>\n",
       "      <td>[838220, 1037840, 1052294, 5569230, 8090537, 1...</td>\n",
       "      <td>[838220, 1037840, 1052294, 5569230, 8090537, 1...</td>\n",
       "    </tr>\n",
       "    <tr>\n",
       "      <th>2039</th>\n",
       "      <td>2498</td>\n",
       "      <td>[15716530, 834484, 901776, 914190, 958382, 972...</td>\n",
       "      <td>[824555, 835576, 901776, 904023, 911215, 91749...</td>\n",
       "      <td>[824555, 835576, 901776, 904023, 911215, 91749...</td>\n",
       "    </tr>\n",
       "    <tr>\n",
       "      <th>2040</th>\n",
       "      <td>2499</td>\n",
       "      <td>[867188, 877580, 902396, 914190, 951590, 95813...</td>\n",
       "      <td>[838186, 853197, 864143, 883665, 932949, 93383...</td>\n",
       "      <td>[838186, 853197, 864143, 883665, 932949, 93383...</td>\n",
       "    </tr>\n",
       "    <tr>\n",
       "      <th>2041</th>\n",
       "      <td>2500</td>\n",
       "      <td>[852182, 856345, 923746, 948670, 1018007, 1044...</td>\n",
       "      <td>[856455, 903476, 834102, 837751, 880797, 89301...</td>\n",
       "      <td>[856455, 903476, 834102, 837751, 880797, 89301...</td>\n",
       "    </tr>\n",
       "  </tbody>\n",
       "</table>\n",
       "<p>2042 rows × 4 columns</p>\n",
       "</div>"
      ],
      "text/plain": [
       "      user_id                                               test  \\\n",
       "0           1  [821867, 834484, 856942, 865456, 889248, 90795...   \n",
       "1           3  [835476, 851057, 872021, 878302, 879948, 90963...   \n",
       "2           6  [920308, 926804, 946489, 1006718, 1017061, 107...   \n",
       "3           7  [840386, 889774, 898068, 909714, 929067, 95347...   \n",
       "4           8  [835098, 872137, 910439, 924610, 992977, 10412...   \n",
       "...       ...                                                ...   \n",
       "2037     2496                                          [6534178]   \n",
       "2038     2497  [1016709, 9835695, 1132298, 16809501, 845294, ...   \n",
       "2039     2498  [15716530, 834484, 901776, 914190, 958382, 972...   \n",
       "2040     2499  [867188, 877580, 902396, 914190, 951590, 95813...   \n",
       "2041     2500  [852182, 856345, 923746, 948670, 1018007, 1044...   \n",
       "\n",
       "                                                  train  \\\n",
       "0     [825123, 831447, 840361, 845307, 852014, 85498...   \n",
       "1     [866211, 878996, 882830, 904360, 921345, 93194...   \n",
       "2     [840361, 851494, 851819, 851903, 863447, 87623...   \n",
       "3     [865569, 886703, 889731, 893400, 995436, 10205...   \n",
       "4     [824550, 824555, 826578, 835576, 841220, 84798...   \n",
       "...                                                 ...   \n",
       "2037  [840361, 852159, 871756, 886703, 899624, 91612...   \n",
       "2038  [838220, 1037840, 1052294, 5569230, 8090537, 1...   \n",
       "2039  [824555, 835576, 901776, 904023, 911215, 91749...   \n",
       "2040  [838186, 853197, 864143, 883665, 932949, 93383...   \n",
       "2041  [856455, 903476, 834102, 837751, 880797, 89301...   \n",
       "\n",
       "                                             full_train  \n",
       "0     [825123, 831447, 840361, 845307, 852014, 85498...  \n",
       "1     [866211, 878996, 882830, 904360, 921345, 93194...  \n",
       "2     [840361, 851494, 851819, 851903, 863447, 87623...  \n",
       "3     [865569, 886703, 889731, 893400, 995436, 10205...  \n",
       "4     [824550, 824555, 826578, 835576, 841220, 84798...  \n",
       "...                                                 ...  \n",
       "2037  [840361, 852159, 871756, 886703, 899624, 91612...  \n",
       "2038  [838220, 1037840, 1052294, 5569230, 8090537, 1...  \n",
       "2039  [824555, 835576, 901776, 904023, 911215, 91749...  \n",
       "2040  [838186, 853197, 864143, 883665, 932949, 93383...  \n",
       "2041  [856455, 903476, 834102, 837751, 880797, 89301...  \n",
       "\n",
       "[2042 rows x 4 columns]"
      ]
     },
     "execution_count": 22,
     "metadata": {},
     "output_type": "execute_result"
    }
   ],
   "source": [
    "# Набор данных для валидации на тесте , трейне\n",
    "my_recomender.data_validation['data']"
   ]
  },
  {
   "cell_type": "code",
   "execution_count": 23,
   "metadata": {},
   "outputs": [
    {
     "data": {
      "text/plain": [
       "{'status': True,\n",
       " 'matrix': None,\n",
       " 'params': {'agg_column': ('quantity', 'count'), 'filtr': [1], 'full': False},\n",
       " 'uim_matrix_w': <2499x5001 sparse matrix of type '<class 'numpy.float64'>'\n",
       " \twith 679365 stored elements in Compressed Sparse Row format>,\n",
       " 'uim_matrix': <2499x5001 sparse matrix of type '<class 'numpy.float64'>'\n",
       " \twith 679365 stored elements in Compressed Sparse Row format>,\n",
       " 'ium_matrix_w_tfidf': <5001x2499 sparse matrix of type '<class 'numpy.float64'>'\n",
       " \twith 679365 stored elements in COOrdinate format>,\n",
       " 'ium_matrix_tfidf': <5001x2499 sparse matrix of type '<class 'numpy.float64'>'\n",
       " \twith 679365 stored elements in COOrdinate format>,\n",
       " 'ium_matrix_w_bm25': <5001x2499 sparse matrix of type '<class 'numpy.float64'>'\n",
       " \twith 679365 stored elements in COOrdinate format>,\n",
       " 'ium_matrix_bm25': <5001x2499 sparse matrix of type '<class 'numpy.float64'>'\n",
       " \twith 679365 stored elements in COOrdinate format>}"
      ]
     },
     "execution_count": 23,
     "metadata": {},
     "output_type": "execute_result"
    }
   ],
   "source": [
    "# 4 матрицы в наборе а так же указаны параметры агрегации и фильтрации\n",
    "my_recomender.user_item_matrix"
   ]
  },
  {
   "cell_type": "markdown",
   "metadata": {},
   "source": [
    "### fit_own_recommender"
   ]
  },
  {
   "cell_type": "code",
   "execution_count": 24,
   "metadata": {},
   "outputs": [
    {
     "data": {
      "application/vnd.jupyter.widget-view+json": {
       "model_id": "7fc69999147e4fd2a425c101b0aea0f2",
       "version_major": 2,
       "version_minor": 0
      },
      "text/plain": [
       "HBox(children=(HTML(value=''), FloatProgress(value=0.0, max=5001.0), HTML(value='')))"
      ]
     },
     "metadata": {},
     "output_type": "display_data"
    },
    {
     "name": "stdout",
     "output_type": "stream",
     "text": [
      "\n"
     ]
    },
    {
     "data": {
      "text/plain": [
       "<implicit.nearest_neighbours.ItemItemRecommender at 0x19206283490>"
      ]
     },
     "execution_count": 24,
     "metadata": {},
     "output_type": "execute_result"
    }
   ],
   "source": [
    "# Обучим own_recommender без взешивания\n",
    "my_recomender.fit_own_recommender()"
   ]
  },
  {
   "cell_type": "code",
   "execution_count": 25,
   "metadata": {},
   "outputs": [],
   "source": [
    "# параметры предсказаний\n",
    "params = {'filter_already_liked_items':False, \n",
    "                        'filter_items':[999999], \n",
    "                        \"recalculate_user\":True}"
   ]
  },
  {
   "cell_type": "code",
   "execution_count": 26,
   "metadata": {},
   "outputs": [
    {
     "data": {
      "text/html": [
       "<div>\n",
       "<style scoped>\n",
       "    .dataframe tbody tr th:only-of-type {\n",
       "        vertical-align: middle;\n",
       "    }\n",
       "\n",
       "    .dataframe tbody tr th {\n",
       "        vertical-align: top;\n",
       "    }\n",
       "\n",
       "    .dataframe thead th {\n",
       "        text-align: right;\n",
       "    }\n",
       "</style>\n",
       "<table border=\"1\" class=\"dataframe\">\n",
       "  <thead>\n",
       "    <tr style=\"text-align: right;\">\n",
       "      <th></th>\n",
       "      <th>user_id</th>\n",
       "      <th>result</th>\n",
       "    </tr>\n",
       "  </thead>\n",
       "  <tbody>\n",
       "    <tr>\n",
       "      <th>0</th>\n",
       "      <td>1</td>\n",
       "      <td>[1082185, 1029743, 1004906, 5978656, 1081177]</td>\n",
       "    </tr>\n",
       "    <tr>\n",
       "      <th>1</th>\n",
       "      <td>2</td>\n",
       "      <td>[1082185, 1098066, 1127831, 1004906, 1081177]</td>\n",
       "    </tr>\n",
       "  </tbody>\n",
       "</table>\n",
       "</div>"
      ],
      "text/plain": [
       "   user_id                                         result\n",
       "0        1  [1082185, 1029743, 1004906, 5978656, 1081177]\n",
       "1        2  [1082185, 1098066, 1127831, 1004906, 1081177]"
      ]
     },
     "execution_count": 26,
     "metadata": {},
     "output_type": "execute_result"
    }
   ],
   "source": [
    "# сделаем 5 предсказания для юзеров 1 и 2\n",
    "my_recomender.predict_own_recommender([1,2],5,params=params)"
   ]
  },
  {
   "cell_type": "code",
   "execution_count": 27,
   "metadata": {},
   "outputs": [
    {
     "data": {
      "text/plain": [
       "0.19711067580802874"
      ]
     },
     "execution_count": 27,
     "metadata": {},
     "output_type": "execute_result"
    }
   ],
   "source": [
    "# посмотрим  валидацию на тесте\n",
    "my_recomender.validation_own_recommender(params=params)"
   ]
  },
  {
   "cell_type": "code",
   "execution_count": 28,
   "metadata": {},
   "outputs": [
    {
     "data": {
      "application/vnd.jupyter.widget-view+json": {
       "model_id": "8bd68c73e1a24911a92070578ffea044",
       "version_major": 2,
       "version_minor": 0
      },
      "text/plain": [
       "HBox(children=(HTML(value=''), FloatProgress(value=0.0, max=5001.0), HTML(value='')))"
      ]
     },
     "metadata": {},
     "output_type": "display_data"
    },
    {
     "name": "stdout",
     "output_type": "stream",
     "text": [
      "\n"
     ]
    },
    {
     "data": {
      "text/plain": [
       "<implicit.nearest_neighbours.ItemItemRecommender at 0x192061e4bb0>"
      ]
     },
     "execution_count": 28,
     "metadata": {},
     "output_type": "execute_result"
    }
   ],
   "source": [
    "# Обучим own_recommender tf_idf\n",
    "my_recomender.fit_own_recommender(weighting ='tf_idf')"
   ]
  },
  {
   "cell_type": "code",
   "execution_count": 29,
   "metadata": {},
   "outputs": [
    {
     "data": {
      "text/plain": [
       "0.21101860920665738"
      ]
     },
     "execution_count": 29,
     "metadata": {},
     "output_type": "execute_result"
    }
   ],
   "source": [
    "# посмотрим  валидацию на тесте\n",
    "my_recomender.validation_own_recommender(params=params)"
   ]
  },
  {
   "cell_type": "code",
   "execution_count": 30,
   "metadata": {},
   "outputs": [
    {
     "data": {
      "application/vnd.jupyter.widget-view+json": {
       "model_id": "652ad2bae5f24d4687761cee97e1b4fd",
       "version_major": 2,
       "version_minor": 0
      },
      "text/plain": [
       "HBox(children=(HTML(value=''), FloatProgress(value=0.0, max=5001.0), HTML(value='')))"
      ]
     },
     "metadata": {},
     "output_type": "display_data"
    },
    {
     "name": "stdout",
     "output_type": "stream",
     "text": [
      "\n"
     ]
    },
    {
     "data": {
      "text/plain": [
       "<implicit.nearest_neighbours.ItemItemRecommender at 0x192061e4310>"
      ]
     },
     "execution_count": 30,
     "metadata": {},
     "output_type": "execute_result"
    }
   ],
   "source": [
    "# Обучим own_recommender bm25\n",
    "my_recomender.fit_own_recommender(weighting ='bm25')"
   ]
  },
  {
   "cell_type": "code",
   "execution_count": 31,
   "metadata": {},
   "outputs": [
    {
     "name": "stdout",
     "output_type": "stream",
     "text": [
      "Wall time: 146 ms\n"
     ]
    },
    {
     "data": {
      "text/plain": [
       "0.06520568070519137"
      ]
     },
     "execution_count": 31,
     "metadata": {},
     "output_type": "execute_result"
    }
   ],
   "source": [
    "%%time\n",
    "# посмотрим  валидацию на тесте\n",
    "my_recomender.validation_own_recommender(params=params)"
   ]
  },
  {
   "cell_type": "markdown",
   "metadata": {},
   "source": [
    "### als recomender"
   ]
  },
  {
   "cell_type": "code",
   "execution_count": 32,
   "metadata": {},
   "outputs": [],
   "source": [
    "# Обучим модель als\n",
    "param_als = {'factors':1100, 'regularization':35, 'iterations':20, \n",
    "                             'num_threads':-1,'calculate_training_loss':True}\n"
   ]
  },
  {
   "cell_type": "code",
   "execution_count": 33,
   "metadata": {},
   "outputs": [
    {
     "data": {
      "application/vnd.jupyter.widget-view+json": {
       "model_id": "c615b462309c496295a79618aa2e217a",
       "version_major": 2,
       "version_minor": 0
      },
      "text/plain": [
       "HBox(children=(HTML(value=''), FloatProgress(value=0.0, max=20.0), HTML(value='')))"
      ]
     },
     "metadata": {},
     "output_type": "display_data"
    },
    {
     "name": "stdout",
     "output_type": "stream",
     "text": [
      "\n",
      "Wall time: 15.5 s\n"
     ]
    },
    {
     "data": {
      "text/plain": [
       "<implicit.als.AlternatingLeastSquares at 0x19207728e80>"
      ]
     },
     "execution_count": 33,
     "metadata": {},
     "output_type": "execute_result"
    }
   ],
   "source": [
    "%%time\n",
    "my_recomender.fit_als(params=param_als,weighting ='tf_idf')"
   ]
  },
  {
   "cell_type": "code",
   "execution_count": 34,
   "metadata": {},
   "outputs": [
    {
     "name": "stdout",
     "output_type": "stream",
     "text": [
      "Wall time: 10.1 s\n"
     ]
    },
    {
     "data": {
      "text/html": [
       "<div>\n",
       "<style scoped>\n",
       "    .dataframe tbody tr th:only-of-type {\n",
       "        vertical-align: middle;\n",
       "    }\n",
       "\n",
       "    .dataframe tbody tr th {\n",
       "        vertical-align: top;\n",
       "    }\n",
       "\n",
       "    .dataframe thead th {\n",
       "        text-align: right;\n",
       "    }\n",
       "</style>\n",
       "<table border=\"1\" class=\"dataframe\">\n",
       "  <thead>\n",
       "    <tr style=\"text-align: right;\">\n",
       "      <th></th>\n",
       "      <th>user_id</th>\n",
       "      <th>result</th>\n",
       "    </tr>\n",
       "  </thead>\n",
       "  <tbody>\n",
       "    <tr>\n",
       "      <th>0</th>\n",
       "      <td>1</td>\n",
       "      <td>[995242, 1082185, 9527290, 840361, 940947]</td>\n",
       "    </tr>\n",
       "    <tr>\n",
       "      <th>1</th>\n",
       "      <td>2</td>\n",
       "      <td>[1133018, 1106523, 5569230, 1082185, 1098066]</td>\n",
       "    </tr>\n",
       "    <tr>\n",
       "      <th>2</th>\n",
       "      <td>3</td>\n",
       "      <td>[1106523, 951590, 1133018, 910032, 1092026]</td>\n",
       "    </tr>\n",
       "    <tr>\n",
       "      <th>3</th>\n",
       "      <td>4</td>\n",
       "      <td>[883932, 962229, 883404, 1075368, 5569230]</td>\n",
       "    </tr>\n",
       "    <tr>\n",
       "      <th>4</th>\n",
       "      <td>5</td>\n",
       "      <td>[1082185, 1126899, 1029743, 916122, 5568378]</td>\n",
       "    </tr>\n",
       "    <tr>\n",
       "      <th>5</th>\n",
       "      <td>6</td>\n",
       "      <td>[1082185, 878996, 1024306, 834484, 840361]</td>\n",
       "    </tr>\n",
       "    <tr>\n",
       "      <th>6</th>\n",
       "      <td>7</td>\n",
       "      <td>[1082185, 1106523, 1122358, 1127831, 1133018]</td>\n",
       "    </tr>\n",
       "    <tr>\n",
       "      <th>7</th>\n",
       "      <td>8</td>\n",
       "      <td>[1082185, 826249, 1133018, 1029743, 1004906]</td>\n",
       "    </tr>\n",
       "    <tr>\n",
       "      <th>8</th>\n",
       "      <td>9</td>\n",
       "      <td>[1029743, 1082185, 995242, 1098066, 826249]</td>\n",
       "    </tr>\n",
       "    <tr>\n",
       "      <th>9</th>\n",
       "      <td>10</td>\n",
       "      <td>[1106523, 1082185, 1133018, 1113588, 1005186]</td>\n",
       "    </tr>\n",
       "  </tbody>\n",
       "</table>\n",
       "</div>"
      ],
      "text/plain": [
       "   user_id                                         result\n",
       "0        1     [995242, 1082185, 9527290, 840361, 940947]\n",
       "1        2  [1133018, 1106523, 5569230, 1082185, 1098066]\n",
       "2        3    [1106523, 951590, 1133018, 910032, 1092026]\n",
       "3        4     [883932, 962229, 883404, 1075368, 5569230]\n",
       "4        5   [1082185, 1126899, 1029743, 916122, 5568378]\n",
       "5        6     [1082185, 878996, 1024306, 834484, 840361]\n",
       "6        7  [1082185, 1106523, 1122358, 1127831, 1133018]\n",
       "7        8   [1082185, 826249, 1133018, 1029743, 1004906]\n",
       "8        9    [1029743, 1082185, 995242, 1098066, 826249]\n",
       "9       10  [1106523, 1082185, 1133018, 1113588, 1005186]"
      ]
     },
     "execution_count": 34,
     "metadata": {},
     "output_type": "execute_result"
    }
   ],
   "source": [
    "%%time\n",
    "# предикт als\n",
    "my_recomender.predict_als(users = [1,2,3,4,5,6,7,8,9,10],N=5,params=params)"
   ]
  },
  {
   "cell_type": "code",
   "execution_count": 35,
   "metadata": {},
   "outputs": [
    {
     "name": "stdout",
     "output_type": "stream",
     "text": [
      "Wall time: 38min 31s\n"
     ]
    },
    {
     "data": {
      "text/plain": [
       "0.30293829578844245"
      ]
     },
     "execution_count": 35,
     "metadata": {},
     "output_type": "execute_result"
    }
   ],
   "source": [
    "%%time\n",
    "# oценка валидации als на тесте precision@5 tf_idf\n",
    "my_recomender.validation_als_recommender(params=params)"
   ]
  },
  {
   "cell_type": "code",
   "execution_count": 36,
   "metadata": {},
   "outputs": [
    {
     "data": {
      "application/vnd.jupyter.widget-view+json": {
       "model_id": "1db747a606454f999708593cbdf3ba27",
       "version_major": 2,
       "version_minor": 0
      },
      "text/plain": [
       "HBox(children=(HTML(value=''), FloatProgress(value=0.0, max=20.0), HTML(value='')))"
      ]
     },
     "metadata": {},
     "output_type": "display_data"
    },
    {
     "name": "stdout",
     "output_type": "stream",
     "text": [
      "\n"
     ]
    },
    {
     "data": {
      "text/plain": [
       "<implicit.als.AlternatingLeastSquares at 0x192077396d0>"
      ]
     },
     "execution_count": 36,
     "metadata": {},
     "output_type": "execute_result"
    }
   ],
   "source": [
    "# обучим als без взвешивания\n",
    "my_recomender.fit_als(params=param_als)"
   ]
  },
  {
   "cell_type": "code",
   "execution_count": 37,
   "metadata": {},
   "outputs": [
    {
     "name": "stdout",
     "output_type": "stream",
     "text": [
      "Wall time: 31min 44s\n"
     ]
    },
    {
     "data": {
      "text/plain": [
       "0.2791380999020556"
      ]
     },
     "execution_count": 37,
     "metadata": {},
     "output_type": "execute_result"
    }
   ],
   "source": [
    "%%time\n",
    "# oценка валидации als на тесте precision@5 без взвешивания\n",
    "my_recomender.validation_als_recommender(params=params)"
   ]
  },
  {
   "cell_type": "code",
   "execution_count": 38,
   "metadata": {},
   "outputs": [
    {
     "data": {
      "application/vnd.jupyter.widget-view+json": {
       "model_id": "e0ec708dc0214faf99ca23a136e66e4c",
       "version_major": 2,
       "version_minor": 0
      },
      "text/plain": [
       "HBox(children=(HTML(value=''), FloatProgress(value=0.0, max=20.0), HTML(value='')))"
      ]
     },
     "metadata": {},
     "output_type": "display_data"
    },
    {
     "name": "stdout",
     "output_type": "stream",
     "text": [
      "\n"
     ]
    },
    {
     "data": {
      "text/plain": [
       "<implicit.als.AlternatingLeastSquares at 0x192076ad370>"
      ]
     },
     "execution_count": 38,
     "metadata": {},
     "output_type": "execute_result"
    }
   ],
   "source": [
    "# обучим als bm25\n",
    "my_recomender.fit_als(params=param_als,weighting ='bm25')"
   ]
  },
  {
   "cell_type": "code",
   "execution_count": 39,
   "metadata": {},
   "outputs": [
    {
     "name": "stdout",
     "output_type": "stream",
     "text": [
      "Wall time: 32min 34s\n"
     ]
    },
    {
     "data": {
      "text/plain": [
       "0.34427032321253753"
      ]
     },
     "execution_count": 39,
     "metadata": {},
     "output_type": "execute_result"
    }
   ],
   "source": [
    "%%time\n",
    "# oценка валидации als на тесте precision@5  bm52\n",
    "my_recomender.validation_als_recommender(params=params)"
   ]
  },
  {
   "cell_type": "code",
   "execution_count": null,
   "metadata": {},
   "outputs": [],
   "source": []
  },
  {
   "cell_type": "markdown",
   "metadata": {},
   "source": [
    "### simular item and simular user"
   ]
  },
  {
   "cell_type": "code",
   "execution_count": 40,
   "metadata": {},
   "outputs": [
    {
     "name": "stdout",
     "output_type": "stream",
     "text": [
      "Wall time: 91.1 ms\n"
     ]
    },
    {
     "data": {
      "text/html": [
       "<div>\n",
       "<style scoped>\n",
       "    .dataframe tbody tr th:only-of-type {\n",
       "        vertical-align: middle;\n",
       "    }\n",
       "\n",
       "    .dataframe tbody tr th {\n",
       "        vertical-align: top;\n",
       "    }\n",
       "\n",
       "    .dataframe thead th {\n",
       "        text-align: right;\n",
       "    }\n",
       "</style>\n",
       "<table border=\"1\" class=\"dataframe\">\n",
       "  <thead>\n",
       "    <tr style=\"text-align: right;\">\n",
       "      <th></th>\n",
       "      <th>user_id</th>\n",
       "      <th>similar_recommendation</th>\n",
       "    </tr>\n",
       "  </thead>\n",
       "  <tbody>\n",
       "    <tr>\n",
       "      <th>0</th>\n",
       "      <td>1</td>\n",
       "      <td>[856942, 1082185, 995242, 940947, 9527290]</td>\n",
       "    </tr>\n",
       "    <tr>\n",
       "      <th>1</th>\n",
       "      <td>2</td>\n",
       "      <td>[1133018, 1106523, 8090521, 5569230, 916122]</td>\n",
       "    </tr>\n",
       "    <tr>\n",
       "      <th>2</th>\n",
       "      <td>3</td>\n",
       "      <td>[1092026, 1053690, 951590, 998206, 910032]</td>\n",
       "    </tr>\n",
       "    <tr>\n",
       "      <th>3</th>\n",
       "      <td>4</td>\n",
       "      <td>[883932, 891423, 962229, 910109, 1052294]</td>\n",
       "    </tr>\n",
       "    <tr>\n",
       "      <th>4</th>\n",
       "      <td>5</td>\n",
       "      <td>[1126899, 874972, 5995609, 5568378, 1123022]</td>\n",
       "    </tr>\n",
       "    <tr>\n",
       "      <th>5</th>\n",
       "      <td>6</td>\n",
       "      <td>[1082185, 1119051, 840361, 1037863, 863447]</td>\n",
       "    </tr>\n",
       "    <tr>\n",
       "      <th>6</th>\n",
       "      <td>7</td>\n",
       "      <td>[1082185, 1122358, 6944571, 1022003, 828867]</td>\n",
       "    </tr>\n",
       "    <tr>\n",
       "      <th>7</th>\n",
       "      <td>8</td>\n",
       "      <td>[1082185, 1133018, 969932, 1005186, 5569230]</td>\n",
       "    </tr>\n",
       "    <tr>\n",
       "      <th>8</th>\n",
       "      <td>9</td>\n",
       "      <td>[1029743, 862799, 826249, 1098066, 1056005]</td>\n",
       "    </tr>\n",
       "    <tr>\n",
       "      <th>9</th>\n",
       "      <td>10</td>\n",
       "      <td>[1106523, 945779, 1113588, 883003, 892008]</td>\n",
       "    </tr>\n",
       "  </tbody>\n",
       "</table>\n",
       "</div>"
      ],
      "text/plain": [
       "   user_id                        similar_recommendation\n",
       "0        1    [856942, 1082185, 995242, 940947, 9527290]\n",
       "1        2  [1133018, 1106523, 8090521, 5569230, 916122]\n",
       "2        3    [1092026, 1053690, 951590, 998206, 910032]\n",
       "3        4     [883932, 891423, 962229, 910109, 1052294]\n",
       "4        5  [1126899, 874972, 5995609, 5568378, 1123022]\n",
       "5        6   [1082185, 1119051, 840361, 1037863, 863447]\n",
       "6        7  [1082185, 1122358, 6944571, 1022003, 828867]\n",
       "7        8  [1082185, 1133018, 969932, 1005186, 5569230]\n",
       "8        9   [1029743, 862799, 826249, 1098066, 1056005]\n",
       "9       10    [1106523, 945779, 1113588, 883003, 892008]"
      ]
     },
     "execution_count": 40,
     "metadata": {},
     "output_type": "execute_result"
    }
   ],
   "source": [
    "%%time\n",
    "# item_item рекомендации not_my=0 (собственные) bm52\n",
    "my_recomender.get_similar_items_recommendation( users = [1,2,3,4,5,6,7,8,9,10], N=5,not_my=0)\n"
   ]
  },
  {
   "cell_type": "code",
   "execution_count": null,
   "metadata": {},
   "outputs": [],
   "source": []
  },
  {
   "cell_type": "code",
   "execution_count": 41,
   "metadata": {},
   "outputs": [
    {
     "name": "stdout",
     "output_type": "stream",
     "text": [
      "Wall time: 5.57 s\n"
     ]
    },
    {
     "data": {
      "text/plain": [
       "0.4002693437806084"
      ]
     },
     "execution_count": 41,
     "metadata": {},
     "output_type": "execute_result"
    }
   ],
   "source": [
    "%%time\n",
    "# item_item рекомендации валидация на тесте precision@5 'bm25' not_my=0 (собственные)\n",
    "my_recomender.validation_similar_items_recommendation(not_my=0)"
   ]
  },
  {
   "cell_type": "code",
   "execution_count": 42,
   "metadata": {},
   "outputs": [
    {
     "name": "stdout",
     "output_type": "stream",
     "text": [
      "Wall time: 81.1 ms\n"
     ]
    },
    {
     "data": {
      "text/html": [
       "<div>\n",
       "<style scoped>\n",
       "    .dataframe tbody tr th:only-of-type {\n",
       "        vertical-align: middle;\n",
       "    }\n",
       "\n",
       "    .dataframe tbody tr th {\n",
       "        vertical-align: top;\n",
       "    }\n",
       "\n",
       "    .dataframe thead th {\n",
       "        text-align: right;\n",
       "    }\n",
       "</style>\n",
       "<table border=\"1\" class=\"dataframe\">\n",
       "  <thead>\n",
       "    <tr style=\"text-align: right;\">\n",
       "      <th></th>\n",
       "      <th>user_id</th>\n",
       "      <th>similar_recommendation</th>\n",
       "    </tr>\n",
       "  </thead>\n",
       "  <tbody>\n",
       "    <tr>\n",
       "      <th>0</th>\n",
       "      <td>1</td>\n",
       "      <td>[1045586, 981760, 1029743, 5582712, 15926844]</td>\n",
       "    </tr>\n",
       "    <tr>\n",
       "      <th>1</th>\n",
       "      <td>2</td>\n",
       "      <td>[1106523, 1133018, 8090537, 1021324, 985999]</td>\n",
       "    </tr>\n",
       "    <tr>\n",
       "      <th>2</th>\n",
       "      <td>3</td>\n",
       "      <td>[844165, 5569230, 13841744, 1075979, 1098066]</td>\n",
       "    </tr>\n",
       "    <tr>\n",
       "      <th>3</th>\n",
       "      <td>4</td>\n",
       "      <td>[951590, 992292, 1048462, 1111786, 1075368]</td>\n",
       "    </tr>\n",
       "    <tr>\n",
       "      <th>4</th>\n",
       "      <td>5</td>\n",
       "      <td>[1058997, 12262778, 5995503, 5569327, 1103618]</td>\n",
       "    </tr>\n",
       "    <tr>\n",
       "      <th>5</th>\n",
       "      <td>6</td>\n",
       "      <td>[981760, 825541, 1082185, 995785, 948650]</td>\n",
       "    </tr>\n",
       "    <tr>\n",
       "      <th>6</th>\n",
       "      <td>7</td>\n",
       "      <td>[981760, 1038985, 1015247, 1050229, 1110218]</td>\n",
       "    </tr>\n",
       "    <tr>\n",
       "      <th>7</th>\n",
       "      <td>8</td>\n",
       "      <td>[981760, 1106523, 845208, 1110843, 1021324]</td>\n",
       "    </tr>\n",
       "    <tr>\n",
       "      <th>8</th>\n",
       "      <td>9</td>\n",
       "      <td>[995242, 1056005, 1098066, 826249, 862799]</td>\n",
       "    </tr>\n",
       "    <tr>\n",
       "      <th>9</th>\n",
       "      <td>10</td>\n",
       "      <td>[1133018, 1012873, 918733, 1138443, 1045220]</td>\n",
       "    </tr>\n",
       "  </tbody>\n",
       "</table>\n",
       "</div>"
      ],
      "text/plain": [
       "   user_id                          similar_recommendation\n",
       "0        1   [1045586, 981760, 1029743, 5582712, 15926844]\n",
       "1        2    [1106523, 1133018, 8090537, 1021324, 985999]\n",
       "2        3   [844165, 5569230, 13841744, 1075979, 1098066]\n",
       "3        4     [951590, 992292, 1048462, 1111786, 1075368]\n",
       "4        5  [1058997, 12262778, 5995503, 5569327, 1103618]\n",
       "5        6       [981760, 825541, 1082185, 995785, 948650]\n",
       "6        7    [981760, 1038985, 1015247, 1050229, 1110218]\n",
       "7        8     [981760, 1106523, 845208, 1110843, 1021324]\n",
       "8        9      [995242, 1056005, 1098066, 826249, 862799]\n",
       "9       10    [1133018, 1012873, 918733, 1138443, 1045220]"
      ]
     },
     "execution_count": 42,
     "metadata": {},
     "output_type": "execute_result"
    }
   ],
   "source": [
    "%%time\n",
    "# item_item рекомендации not_my=1 (схожие товары) собственные bm52\n",
    "my_recomender.get_similar_items_recommendation( users = [1,2,3,4,5,6,7,8,9,10], N=5,not_my=1)"
   ]
  },
  {
   "cell_type": "code",
   "execution_count": 43,
   "metadata": {},
   "outputs": [
    {
     "name": "stdout",
     "output_type": "stream",
     "text": [
      "Wall time: 5.68 s\n"
     ]
    },
    {
     "data": {
      "text/plain": [
       "0.16131243878550247"
      ]
     },
     "execution_count": 43,
     "metadata": {},
     "output_type": "execute_result"
    }
   ],
   "source": [
    "%%time\n",
    "# item_item рекомендации валидация на тесте precision@5 'bm25' not_my=1 (схожие товары)\n",
    "my_recomender.validation_similar_items_recommendation(not_my=1)"
   ]
  },
  {
   "cell_type": "code",
   "execution_count": null,
   "metadata": {},
   "outputs": [],
   "source": []
  },
  {
   "cell_type": "code",
   "execution_count": 44,
   "metadata": {},
   "outputs": [
    {
     "name": "stdout",
     "output_type": "stream",
     "text": [
      "Wall time: 5.58 s\n"
     ]
    },
    {
     "data": {
      "text/html": [
       "<div>\n",
       "<style scoped>\n",
       "    .dataframe tbody tr th:only-of-type {\n",
       "        vertical-align: middle;\n",
       "    }\n",
       "\n",
       "    .dataframe tbody tr th {\n",
       "        vertical-align: top;\n",
       "    }\n",
       "\n",
       "    .dataframe thead th {\n",
       "        text-align: right;\n",
       "    }\n",
       "</style>\n",
       "<table border=\"1\" class=\"dataframe\">\n",
       "  <thead>\n",
       "    <tr style=\"text-align: right;\">\n",
       "      <th></th>\n",
       "      <th>user_id</th>\n",
       "      <th>simular_user_id</th>\n",
       "      <th>similar_recommendation</th>\n",
       "    </tr>\n",
       "  </thead>\n",
       "  <tbody>\n",
       "    <tr>\n",
       "      <th>0</th>\n",
       "      <td>1</td>\n",
       "      <td>1424</td>\n",
       "      <td>[1082185, 995242, 1024306, 1029743, 840361]</td>\n",
       "    </tr>\n",
       "    <tr>\n",
       "      <th>1</th>\n",
       "      <td>2</td>\n",
       "      <td>475</td>\n",
       "      <td>[995242, 1029743, 1082185, 981760, 5569845]</td>\n",
       "    </tr>\n",
       "    <tr>\n",
       "      <th>2</th>\n",
       "      <td>3</td>\n",
       "      <td>1883</td>\n",
       "      <td>[1092026, 883404, 1053690, 8090521, 859075]</td>\n",
       "    </tr>\n",
       "    <tr>\n",
       "      <th>3</th>\n",
       "      <td>4</td>\n",
       "      <td>662</td>\n",
       "      <td>[883404, 1070272, 983584, 995242, 1029743]</td>\n",
       "    </tr>\n",
       "    <tr>\n",
       "      <th>4</th>\n",
       "      <td>5</td>\n",
       "      <td>2495</td>\n",
       "      <td>[1082185, 867931, 906838, 1126899, 1029968]</td>\n",
       "    </tr>\n",
       "    <tr>\n",
       "      <th>5</th>\n",
       "      <td>6</td>\n",
       "      <td>1034</td>\n",
       "      <td>[1082185, 994928, 1058997, 1126899, 849843]</td>\n",
       "    </tr>\n",
       "    <tr>\n",
       "      <th>6</th>\n",
       "      <td>7</td>\n",
       "      <td>2163</td>\n",
       "      <td>[1082185, 862349, 908531, 9338009, 1058997]</td>\n",
       "    </tr>\n",
       "    <tr>\n",
       "      <th>7</th>\n",
       "      <td>8</td>\n",
       "      <td>586</td>\n",
       "      <td>[1029743, 995242, 1106523, 1053690, 6534178]</td>\n",
       "    </tr>\n",
       "    <tr>\n",
       "      <th>8</th>\n",
       "      <td>9</td>\n",
       "      <td>930</td>\n",
       "      <td>[1016800, 917033, 1050741, 850102, 926905]</td>\n",
       "    </tr>\n",
       "    <tr>\n",
       "      <th>9</th>\n",
       "      <td>10</td>\n",
       "      <td>2101</td>\n",
       "      <td>[995242, 1082185, 1029743, 849843, 981760]</td>\n",
       "    </tr>\n",
       "  </tbody>\n",
       "</table>\n",
       "</div>"
      ],
      "text/plain": [
       "   user_id  simular_user_id                        similar_recommendation\n",
       "0        1             1424   [1082185, 995242, 1024306, 1029743, 840361]\n",
       "1        2              475   [995242, 1029743, 1082185, 981760, 5569845]\n",
       "2        3             1883   [1092026, 883404, 1053690, 8090521, 859075]\n",
       "3        4              662    [883404, 1070272, 983584, 995242, 1029743]\n",
       "4        5             2495   [1082185, 867931, 906838, 1126899, 1029968]\n",
       "5        6             1034   [1082185, 994928, 1058997, 1126899, 849843]\n",
       "6        7             2163   [1082185, 862349, 908531, 9338009, 1058997]\n",
       "7        8              586  [1029743, 995242, 1106523, 1053690, 6534178]\n",
       "8        9              930    [1016800, 917033, 1050741, 850102, 926905]\n",
       "9       10             2101    [995242, 1082185, 1029743, 849843, 981760]"
      ]
     },
     "execution_count": 44,
     "metadata": {},
     "output_type": "execute_result"
    }
   ],
   "source": [
    "%%time\n",
    "# user_item рекомендации\n",
    "my_recomender.get_similar_users_recommendation( users=[1,2,3,4,5,6,7,8,9,10], N=5,params=params)"
   ]
  },
  {
   "cell_type": "code",
   "execution_count": 45,
   "metadata": {},
   "outputs": [
    {
     "name": "stdout",
     "output_type": "stream",
     "text": [
      "Wall time: 25min 28s\n"
     ]
    },
    {
     "data": {
      "text/plain": [
       "0.13114593535749156"
      ]
     },
     "execution_count": 45,
     "metadata": {},
     "output_type": "execute_result"
    }
   ],
   "source": [
    "%%time\n",
    "# user_item валидация на тесте precision@5 'bm25'\n",
    "my_recomender.validation_similar_users_recommendation()"
   ]
  },
  {
   "cell_type": "code",
   "execution_count": null,
   "metadata": {},
   "outputs": [],
   "source": []
  },
  {
   "cell_type": "code",
   "execution_count": 46,
   "metadata": {},
   "outputs": [
    {
     "data": {
      "application/vnd.jupyter.widget-view+json": {
       "model_id": "c57f2ad6b2494524bcea4495085e5dbc",
       "version_major": 2,
       "version_minor": 0
      },
      "text/plain": [
       "HBox(children=(HTML(value=''), FloatProgress(value=0.0, max=20.0), HTML(value='')))"
      ]
     },
     "metadata": {},
     "output_type": "display_data"
    },
    {
     "name": "stdout",
     "output_type": "stream",
     "text": [
      "\n"
     ]
    },
    {
     "data": {
      "text/plain": [
       "<implicit.als.AlternatingLeastSquares at 0x192076aa940>"
      ]
     },
     "execution_count": 46,
     "metadata": {},
     "output_type": "execute_result"
    }
   ],
   "source": [
    "# обучим als без взвешивания\n",
    "my_recomender.fit_als(params=param_als)"
   ]
  },
  {
   "cell_type": "code",
   "execution_count": 47,
   "metadata": {},
   "outputs": [
    {
     "name": "stdout",
     "output_type": "stream",
     "text": [
      "Wall time: 6.01 s\n"
     ]
    },
    {
     "data": {
      "text/plain": [
       "0.4002693437806084"
      ]
     },
     "execution_count": 47,
     "metadata": {},
     "output_type": "execute_result"
    }
   ],
   "source": [
    "%%time\n",
    "# item_item рекомендации валидация на тесте precision@5 без взвешивания not_my=0 (собственные)\n",
    "my_recomender.validation_similar_items_recommendation(not_my=0)"
   ]
  },
  {
   "cell_type": "code",
   "execution_count": 48,
   "metadata": {},
   "outputs": [
    {
     "name": "stdout",
     "output_type": "stream",
     "text": [
      "Wall time: 5.85 s\n"
     ]
    },
    {
     "data": {
      "text/plain": [
       "0.15631733594515035"
      ]
     },
     "execution_count": 48,
     "metadata": {},
     "output_type": "execute_result"
    }
   ],
   "source": [
    "%%time\n",
    "# item_item рекомендации валидация на тесте precision@5 без взвешивания not_my=1 (альтернативные)\n",
    "my_recomender.validation_similar_items_recommendation(not_my=1)"
   ]
  },
  {
   "cell_type": "code",
   "execution_count": null,
   "metadata": {},
   "outputs": [],
   "source": []
  },
  {
   "cell_type": "code",
   "execution_count": 49,
   "metadata": {},
   "outputs": [
    {
     "name": "stdout",
     "output_type": "stream",
     "text": [
      "Wall time: 25min 5s\n"
     ]
    },
    {
     "data": {
      "text/plain": [
       "0.18628795298726486"
      ]
     },
     "execution_count": 49,
     "metadata": {},
     "output_type": "execute_result"
    }
   ],
   "source": [
    "%%time\n",
    "# user_item валидация на тесте precision@5 без взвешиания\n",
    "my_recomender.validation_similar_users_recommendation()"
   ]
  },
  {
   "cell_type": "code",
   "execution_count": null,
   "metadata": {},
   "outputs": [],
   "source": []
  },
  {
   "cell_type": "code",
   "execution_count": 50,
   "metadata": {},
   "outputs": [
    {
     "data": {
      "application/vnd.jupyter.widget-view+json": {
       "model_id": "b6d3ce447b5e43aca051efdcc3c9e0c7",
       "version_major": 2,
       "version_minor": 0
      },
      "text/plain": [
       "HBox(children=(HTML(value=''), FloatProgress(value=0.0, max=20.0), HTML(value='')))"
      ]
     },
     "metadata": {},
     "output_type": "display_data"
    },
    {
     "name": "stdout",
     "output_type": "stream",
     "text": [
      "\n",
      "Wall time: 13.4 s\n"
     ]
    },
    {
     "data": {
      "text/plain": [
       "<implicit.als.AlternatingLeastSquares at 0x192076aab20>"
      ]
     },
     "execution_count": 50,
     "metadata": {},
     "output_type": "execute_result"
    }
   ],
   "source": [
    "%%time\n",
    "# обучим als tf_idf\n",
    "my_recomender.fit_als(params=param_als,weighting ='tf_idf')"
   ]
  },
  {
   "cell_type": "code",
   "execution_count": 51,
   "metadata": {},
   "outputs": [
    {
     "name": "stdout",
     "output_type": "stream",
     "text": [
      "Wall time: 5.57 s\n"
     ]
    },
    {
     "data": {
      "text/plain": [
       "0.4002693437806084"
      ]
     },
     "execution_count": 51,
     "metadata": {},
     "output_type": "execute_result"
    }
   ],
   "source": [
    "%%time\n",
    "# item_item рекомендации валидация на тесте precision@5 без взвешивания not_my=0\n",
    "my_recomender.validation_similar_items_recommendation(not_my=0)"
   ]
  },
  {
   "cell_type": "code",
   "execution_count": 52,
   "metadata": {},
   "outputs": [
    {
     "name": "stdout",
     "output_type": "stream",
     "text": [
      "Wall time: 5.52 s\n"
     ]
    },
    {
     "data": {
      "text/plain": [
       "0.14191968658178125"
      ]
     },
     "execution_count": 52,
     "metadata": {},
     "output_type": "execute_result"
    }
   ],
   "source": [
    "%%time\n",
    "# item_item рекомендации валидация на тесте precision@5 без взвешиванияnot_my=1\n",
    "my_recomender.validation_similar_items_recommendation(not_my=1)"
   ]
  },
  {
   "cell_type": "code",
   "execution_count": null,
   "metadata": {},
   "outputs": [],
   "source": []
  },
  {
   "cell_type": "code",
   "execution_count": 53,
   "metadata": {},
   "outputs": [
    {
     "name": "stdout",
     "output_type": "stream",
     "text": [
      "Wall time: 31min 28s\n"
     ]
    },
    {
     "data": {
      "text/plain": [
       "0.1549461312438767"
      ]
     },
     "execution_count": 53,
     "metadata": {},
     "output_type": "execute_result"
    }
   ],
   "source": [
    "%%time\n",
    "# user_item валидация на тесте precision@5 без взвешиания\n",
    "my_recomender.validation_similar_users_recommendation()"
   ]
  },
  {
   "cell_type": "markdown",
   "metadata": {},
   "source": [
    "----"
   ]
  },
  {
   "cell_type": "code",
   "execution_count": null,
   "metadata": {},
   "outputs": [],
   "source": [
    "\n",
    "\n"
   ]
  },
  {
   "cell_type": "code",
   "execution_count": null,
   "metadata": {},
   "outputs": [],
   "source": []
  }
 ],
 "metadata": {
  "kernelspec": {
   "display_name": "Python 3",
   "language": "python",
   "name": "python3"
  },
  "language_info": {
   "codemirror_mode": {
    "name": "ipython",
    "version": 3
   },
   "file_extension": ".py",
   "mimetype": "text/x-python",
   "name": "python",
   "nbconvert_exporter": "python",
   "pygments_lexer": "ipython3",
   "version": "3.8.3"
  }
 },
 "nbformat": 4,
 "nbformat_minor": 2
}
