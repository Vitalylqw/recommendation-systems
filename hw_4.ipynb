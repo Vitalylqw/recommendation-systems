{
 "cells": [
  {
   "cell_type": "markdown",
   "metadata": {},
   "source": [
    "# Вебинар 5. Домашнее задание"
   ]
  },
  {
   "cell_type": "markdown",
   "metadata": {},
   "source": [
    "Само домашнее задание нахожится в конце ноутбука"
   ]
  },
  {
   "cell_type": "markdown",
   "metadata": {},
   "source": [
    "---"
   ]
  },
  {
   "cell_type": "code",
   "execution_count": 1,
   "metadata": {},
   "outputs": [],
   "source": [
    "import pandas as pd\n",
    "import numpy as np\n",
    "import matplotlib.pyplot as plt\n",
    "%matplotlib inline\n",
    "\n",
    "# Для работы с матрицами\n",
    "from scipy.sparse import csr_matrix\n",
    "\n",
    "# Матричная факторизация\n",
    "from implicit.als import AlternatingLeastSquares\n",
    "from implicit.nearest_neighbours import ItemItemRecommender  # нужен для одного трюка\n",
    "from implicit.nearest_neighbours import bm25_weight, tfidf_weight\n",
    "\n",
    "# Функции из 1-ого вебинара\n",
    "import os, sys\n",
    "\n",
    "module_path = os.path.abspath(os.path.join(os.pardir))\n",
    "if module_path not in sys.path:\n",
    "    sys.path.append(module_path)\n",
    "    \n",
    "from src.metrics import precision_at_k, recall_at_k\n",
    "from src.utils import prefilter_items"
   ]
  },
  {
   "cell_type": "code",
   "execution_count": null,
   "metadata": {},
   "outputs": [],
   "source": []
  },
  {
   "cell_type": "code",
   "execution_count": 2,
   "metadata": {},
   "outputs": [],
   "source": [
    "data = pd.read_csv('../data/retail_train.csv')\n",
    "\n"
   ]
  },
  {
   "cell_type": "code",
   "execution_count": null,
   "metadata": {},
   "outputs": [],
   "source": []
  },
  {
   "cell_type": "markdown",
   "metadata": {},
   "source": [
    "-----"
   ]
  },
  {
   "cell_type": "markdown",
   "metadata": {},
   "source": [
    "# Домашнее задание"
   ]
  },
  {
   "cell_type": "markdown",
   "metadata": {},
   "source": [
    "1. Изучите структуру модуля src\n",
    "2. Перенесите функции prefilter_items и postfilter_items в модуль src.utils.py\n",
    "3. Реализуйте функции get_similar_items_recommendation, get_similar_users_recommendation (они разбирались на вебинаре) и переместите в src.utils.py.  \n",
    "postfilter можно пока оставить пустой (или как-то бороться с товаром 999999) - на Ваше усмотрение.  \n",
    "В prefilter нужно реализовать закомментированные ограничения.\n",
    "4. Создайте модуль src.recommenders.py. Напишите код для класса ниже и положите его в src.recommenders.py  \n",
    "get_similar_items_recommendation и get_similar_users_recommendation - реализуйте их в качетсве методов класса.  \n",
    "Посчитайте с помощью них рекоменадции и найдите precision@5\n",
    "5. Проверьте, что все модули корректно импортируются\n",
    "6. Если вы еще не прочитали [статью](https://habr.com/ru/company/hh/blog/347276/) о рекомендательных системах и поиске в hh.ru, то обязательно прочитайте\n",
    "\n",
    "**Внимание!** модуль для вашего удобства - дополняйте его теми функциями, которые Вам пригодятся.  \n",
    "Формальное задание только на prefiletr_items "
   ]
  },
  {
   "cell_type": "code",
   "execution_count": 12,
   "metadata": {},
   "outputs": [],
   "source": [
    "def prefilter_items(data_train):\n",
    "    # Оставим только 5000 самых популярных товаров\n",
    "    popularity = data_train.groupby('item_id')['quantity'].sum().reset_index()\n",
    "    popularity.rename(columns={'quantity': 'n_sold'}, inplace=True)\n",
    "    top_5000 = popularity.sort_values('n_sold', ascending=False).head(5000).item_id.tolist()\n",
    "    #добавим, чтобы не потерять юзеров\n",
    "    data_train.loc[~data_train['item_id'].isin(top_5000), 'item_id'] = 999999 \n",
    "    \n",
    "    \n",
    "    \n",
    "    # Уберем самые популярные \n",
    "    \n",
    "    # Уберем самые непопулряные \n",
    "    \n",
    "    # Уберем товары, которые не продавались за последние 12 месяцев\n",
    "    \n",
    "    # Уберем не интересные для рекоммендаций категории (department)\n",
    "    \n",
    "    # Уберем слишком дешевые товары (на них не заработаем). 1 покупка из рассылок стоит 60 руб. \n",
    "    \n",
    "    # Уберем слишком дорогие товары\n",
    "    \n",
    "\n",
    "    return data_train\n",
    "\n",
    "def postfilter_items():\n",
    "    pass"
   ]
  },
  {
   "cell_type": "code",
   "execution_count": 13,
   "metadata": {},
   "outputs": [],
   "source": [
    "def get_similar_items_recommendation(user, model, N=5):\n",
    "    \"\"\"Рекомендуем товары, похожие на топ-N купленных юзером товаров\"\"\"\n",
    "    \n",
    "    # your_code\n",
    "    \n",
    "    return res\n",
    "\n",
    "def get_similar_users_recommendation(user, model, N=5):\n",
    "    \"\"\"Рекомендуем топ-N товаров, среди купленных похожими юзерами\"\"\"\n",
    "    \n",
    "    # your_code\n",
    "    \n",
    "    return res"
   ]
  },
  {
   "cell_type": "code",
   "execution_count": null,
   "metadata": {},
   "outputs": [],
   "source": []
  },
  {
   "cell_type": "code",
   "execution_count": 14,
   "metadata": {},
   "outputs": [],
   "source": [
    "def train_test_split(data,test_size_num,split_column):\n",
    "    data_train = data[data[split_column] < data[split_column].max() - test_size_num]\n",
    "    data_test = data[data[split_column] >= data[split_column].max() - test_size_num]\n",
    "    return data_train, data_test\n",
    "    "
   ]
  },
  {
   "cell_type": "code",
   "execution_count": null,
   "metadata": {},
   "outputs": [],
   "source": []
  },
  {
   "cell_type": "code",
   "execution_count": null,
   "metadata": {},
   "outputs": [],
   "source": []
  },
  {
   "cell_type": "code",
   "execution_count": null,
   "metadata": {},
   "outputs": [],
   "source": []
  },
  {
   "cell_type": "code",
   "execution_count": 18,
   "metadata": {},
   "outputs": [],
   "source": [
    "# test_size_weeks = 3\n",
    "# data_train = data[data['week_no'] < data['week_no'].max() - test_size_weeks]\n",
    "# data_test = data[data['week_no'] >= data['week_no'].max() - test_size_weeks]\n",
    "\n",
    "# popularity = data_train.groupby('item_id')['quantity'].sum().reset_index()\n",
    "# popularity.rename(columns={'quantity': 'n_sold'}, inplace=True)\n",
    "# top_5000 = popularity.sort_values('n_sold', ascending=False).head(5000).item_id.tolist()\n"
   ]
  },
  {
   "cell_type": "code",
   "execution_count": 19,
   "metadata": {},
   "outputs": [],
   "source": [
    "import pandas as pd\n",
    "import numpy as np\n",
    "\n",
    "# Для работы с матрицами\n",
    "from scipy.sparse import csr_matrix\n",
    "\n",
    "# Матричная факторизация\n",
    "from implicit.als import AlternatingLeastSquares\n",
    "from implicit.nearest_neighbours import ItemItemRecommender  # нужен для одного трюка\n",
    "from implicit.nearest_neighbours import bm25_weight, tfidf_weight\n",
    "\n",
    "\n",
    "class MainRecommender:\n",
    "    \n",
    "    own_recomender_defult_param = {'filter_already_liked_items':False, \n",
    "                        'filter_items':False, \n",
    "                        \"recalculate_user\":True}\n",
    "    \n",
    "    model_als_defult_param ={'factors':50, 'regularization':15, 'iterations':15, \n",
    "                             'num_threads':-1,'calculate_training_loss':False}\n",
    "    \n",
    "    def __init__(self, data,data_test=None,split_info=None):\n",
    "        \"\"\" data - dataframe c данными\n",
    "            data_test - даные для валидации, если нет и есть split_info то создаем\n",
    "            split_info кортеж с инфрмацией как создать data_test (размер, поле деления) рассматривается только в слуяае отсутвя \n",
    "            data_test\n",
    "        \"\"\"     \n",
    "        \n",
    "        self.data_validation={}\n",
    "        self.data_validation['status'] = False\n",
    "        self.user_item_matrix = {'status':False,'matrix':None,'params':None}\n",
    "        self.own_recommender_is_fit= {'status':False,'params':None}\n",
    "        self.als_recommender_is_fit= {'status':False,'params':None}\n",
    "        self.data = data.copy()\n",
    "        self.full_data_train = data.copy() #Оставим полный объем данный , если нужно будет предсказывать по полному объему данных\n",
    "        self.data_train = data.copy()\n",
    "        if data_test is not None:\n",
    "            self.data_test = data_test.copy()\n",
    "        else:\n",
    "            self.data_test = None\n",
    "            if split_info:\n",
    "                self.data_train,self.data_test = self.train_test_split(test_size_num = split_info[0],split_column =split_info[1])\n",
    "        if  self.data_test is not None:\n",
    "            self.data_validation['data'] = self.get_validation_data()\n",
    "            self.data_validation['status'] = True\n",
    "\n",
    "\n",
    " \n",
    "    def prefiltr_1(self,my_data):\n",
    "        # Оставим только 5000 самых популярных товаров\n",
    "        popularity = my_data.groupby('item_id')['quantity'].count().reset_index()\n",
    "        popularity.rename(columns={'quantity': 'n_sold'}, inplace=True)\n",
    "        top_5000 = popularity.sort_values('n_sold', ascending=False).head(5000).item_id.tolist()\n",
    "        my_data.loc[~my_data['item_id'].isin(top_5000), 'item_id'] = 999999 \n",
    "        return my_data\n",
    "\n",
    "  \n",
    "    def train_test_split(self,test_size_num,split_column):\n",
    "        data_train = self.data[self.data[split_column] < self.data[split_column].max() - test_size_num]\n",
    "        data_test = self.data[self.data[split_column] >= self.data[split_column].max() - test_size_num]\n",
    "        return data_train, data_test\n",
    "    \n",
    "    \n",
    "   \n",
    "    def get_validation_data(self):\n",
    "        result = self.data_test.groupby('user_id')['item_id'].unique().reset_index()\n",
    "        result['train'] = result['user_id'].map(self.data_train.groupby('user_id')['item_id'].unique())\n",
    "        result['full_train'] = result['user_id'].map(self.full_data_train.groupby('user_id')['item_id'].unique())\n",
    "        result.rename(columns={'item_id':'test'},inplace=True)\n",
    "        return result\n",
    "\n",
    " \n",
    "    def prepare_matrix(self,agg_column,full=None,filtr=None):\n",
    "        my_data = self.data_train\n",
    "        if full:\n",
    "            my_data = self.full_data_train\n",
    "        if  filtr:\n",
    "            for i in filtr:\n",
    "                prefiltr = 'self.prefiltr_'+str(i)+'(my_data)'\n",
    "                my_data = eval(prefiltr)\n",
    "            \n",
    "        user_item_matrix = pd.pivot_table(my_data, \n",
    "                              index='user_id', columns='item_id', \n",
    "                              values=agg_column[0], \n",
    "                              aggfunc=agg_column[1], \n",
    "                              fill_value=0\n",
    "                             )\n",
    "        \n",
    "        user_item_matrix = user_item_matrix.astype(float) \n",
    "        self.prepare_dicts(user_item_matrix)\n",
    "        \n",
    "\n",
    "        return user_item_matrix\n",
    "            \n",
    "\n",
    "\n",
    "    def prepare_dicts(self,user_item_matrix):\n",
    "        \"\"\"Подготавливает вспомогательные словари\"\"\"\n",
    "        \n",
    "        userids = user_item_matrix.index.values\n",
    "        itemids = user_item_matrix.columns.values\n",
    "\n",
    "        matrix_userids = np.arange(len(userids))\n",
    "        matrix_itemids = np.arange(len(itemids))\n",
    "\n",
    "        self.id_to_itemid = dict(zip(matrix_itemids, itemids))\n",
    "        self.id_to_userid = dict(zip(matrix_userids, userids))\n",
    "\n",
    "        self.itemid_to_id = dict(zip(itemids, matrix_itemids))\n",
    "        self.userid_to_id = dict(zip(userids, matrix_userids))\n",
    "        \n",
    "        return  self.id_to_itemid,  self.id_to_userid,  self.itemid_to_id,  self.userid_to_id\n",
    "    \n",
    "    \n",
    "     \n",
    "    def make_data(self,agg_column,filtr=None,full =False):\n",
    "        self.full = full\n",
    "        uim = self.prepare_matrix(agg_column=agg_column,full=full,filtr=filtr)\n",
    "        uim_w = uim.copy()\n",
    "        self.user_item_matrix['uim_matrix_w'] = csr_matrix(uim_w).tocsr()\n",
    "        uim[uim>0]=1\n",
    "        self.user_item_matrix['uim_matrix'] = csr_matrix(uim).tocsr()\n",
    "        \n",
    "        self.user_item_matrix['ium_matrix_w_tfidf'] = tfidf_weight(csr_matrix(uim_w.T).tocsr())\n",
    "        self.user_item_matrix['ium_matrix_tfidf'] = tfidf_weight(csr_matrix(uim.T).tocsr())\n",
    "        self.user_item_matrix['ium_matrix_w_bm25'] = bm25_weight(csr_matrix(uim_w.T).tocsr())\n",
    "        self.user_item_matrix['ium_matrix_bm25'] = bm25_weight(csr_matrix(uim.T).tocsr())\n",
    "\n",
    "        self.user_item_matrix['status'] = True\n",
    "        self.user_item_matrix['params'] = {'agg_column':agg_column,'filtr':filtr,'full':full}\n",
    "        return self.user_item_matrix\n",
    "            \n",
    "        \n",
    "    def precision_at_k(x, k=5):\n",
    "    \n",
    "        bought_list = np.array(x['test'])\n",
    "        recommended_list = np.array(x['predict'])[:k]\n",
    "        if len(recommended_list) == 0:\n",
    "            return 0\n",
    "\n",
    "\n",
    "        flags = np.isin(bought_list, recommended_list)\n",
    "        precision = flags.sum() / len(recommended_list)\n",
    "\n",
    "\n",
    "        return precision\n",
    "        \n",
    "        \n",
    "    \n",
    "    def fit_own_recommender(self,weighting=False):\n",
    "        \"\"\"Обучает модель, которая рекомендует товары, среди товаров, купленных юзером\"\"\"\n",
    "        \n",
    "        assert self.user_item_matrix['status'], 'необходимо сначала выполнить метод make_data(self,agg_column,filtr=None,weighting=None,full =False)'\n",
    "        ium = self.user_item_matrix['uim_matrix'].T\n",
    "        if weighting:\n",
    "            assert (weighting == 'tf_idf' or weighting == 'bm25'), 'необходимо указать weighting: tf_idf или bm25 или None'\n",
    "            if  weighting == 'tf_idf':\n",
    "                ium = self.user_item_matrix['ium_matrix_tfidf']\n",
    "            else:\n",
    "                ium = self.user_item_matrix['ium_matrix_bm25']   \n",
    "        self.own_recommender = ItemItemRecommender(K=1, num_threads=-1)\n",
    "        self.own_recommender.fit(ium)      \n",
    "        self.own_recommender_is_fit['status'] =True\n",
    "        self.own_recommender_is_fit['params'] ={'model':'ItemItemRecommender(K=1, num_threads=-1)','weighting':weighting}\n",
    "        self.own_recommender_is_fit['ium']=ium\n",
    "        \n",
    "        return self.own_recommender\n",
    "    \n",
    "    \n",
    "    def predict_own_recommender(self,users,N=5,params=own_recomender_defult_param):\n",
    "        \n",
    "        param = params.copy()\n",
    "        assert self.own_recommender_is_fit['status'], 'необходимо сначала выполнить метод fit_own_recommender()'\n",
    "        assert type(users) == list, 'users - должен быть списком'\n",
    "        uim = self.user_item_matrix['uim_matrix']\n",
    "        param['user_items'] = uim\n",
    "        param['N'] = N\n",
    "        answer = pd.DataFrame()\n",
    "        answer['user_id']=users\n",
    "        if param['filter_items']:\n",
    "            param['filter_items']=[self.itemid_to_id[i] for i in params['filter_items']]\n",
    "        rec=[]\n",
    "        for user in users:\n",
    "            param['userid'] = self.userid_to_id[user]\n",
    "            rec.append( [self.id_to_itemid[i[0]] for i in self.own_recommender.recommend(**param)])\n",
    "        answer['result']  = rec\n",
    "        return answer\n",
    "\n",
    "    \n",
    "    \n",
    "    def validation_own_recommender(self,metric=precision_at_k,N=5,params=own_recomender_defult_param):\n",
    "        assert self.data_validation['status'], 'тестовые данные не созданы'\n",
    "        assert self.own_recommender_is_fit['status'], 'необходимо сначала выполнить метод fit_own_recommender()'\n",
    "        df = self.data_validation['data']\n",
    "        users = df['user_id'].to_list()\n",
    "        predict = self.predict_own_recommender(users = users,N=N,params=params)\n",
    "        df['predict'] = predict['result']\n",
    "        \n",
    "        return df.apply(metric,axis=1).mean()\n",
    "            \n",
    "        \n",
    "  \n",
    "    def fit_als(self, params = model_als_defult_param,weighting=False):\n",
    "        \"\"\"Обучает ALS\"\"\"\n",
    "        \n",
    "        assert self.user_item_matrix['status'], 'необходимо сначала выполнить метод make_data(self,agg_column,filtr=None,weighting=None,full =False)'\n",
    "        ium = self.user_item_matrix['uim_matrix_w'].T\n",
    "        if weighting:\n",
    "            assert (weighting == 'tf_idf' or weighting == 'bm25'), 'необходимо указать weighting: tf_idf или bm25 или None'\n",
    "            if  weighting == 'tf_idf':\n",
    "                ium = self.user_item_matrix['ium_matrix_w_tfidf']\n",
    "            else:\n",
    "                ium = self.user_item_matrix['ium_matrix_w_bm25']\n",
    "        \n",
    "        self.model_als = AlternatingLeastSquares(**params)\n",
    "        self.model_als.fit(ium)\n",
    "        self.als_recommender_is_fit['status'] = True\n",
    "        self.als_recommender_is_fit['params'] = {'model':params,'weighting':weighting}\n",
    "        self.als_recommender_is_fit['ium'] = ium\n",
    "        \n",
    "        return self.model_als\n",
    "    \n",
    "    \n",
    "    def predict_als(self,users,N=5,params=own_recomender_defult_param):\n",
    "        \n",
    "        param = params.copy()\n",
    "        assert self.als_recommender_is_fit['status'], 'необходимо сначала выполнить метод fit_als()'\n",
    "        assert type(users) == list, 'users - должен быть списком'\n",
    "        uim = self.user_item_matrix['uim_matrix_w']\n",
    "        param['user_items'] = uim\n",
    "        param['N'] = N\n",
    "        answer = pd.DataFrame()\n",
    "        answer['user_id']=users\n",
    "        if param['filter_items']:\n",
    "            param['filter_items']=[self.itemid_to_id[i] for i in params['filter_items']]\n",
    "        rec=[]\n",
    "        for user in users:\n",
    "            param['userid'] = self.userid_to_id[user]\n",
    "            rec.append( [self.id_to_itemid[i[0]] for i in self.model_als.recommend(**param)])\n",
    "        answer['result']  = rec\n",
    "        return answer\n",
    "    \n",
    "    \n",
    "    def validation_als_recommender(self,metric=precision_at_k,N=5,params=own_recomender_defult_param):\n",
    "        assert self.data_validation['status'], 'тестовые данные не созданы'\n",
    "        assert self.als_recommender_is_fit['status'], 'необходимо сначала выполнить метод fit_als()'\n",
    "        df = self.data_validation['data'].copy()\n",
    "        users = df['user_id'].to_list()\n",
    "        predict = self.predict_als(users = users,N=N,params=params)\n",
    "        df['predict'] = predict['result']\n",
    "\n",
    "        return df.apply(metric,axis=1).mean()  \n",
    "    \n",
    "    \n",
    "    def get_recs(self,user,popularity):\n",
    "        result = []\n",
    "        for item in popularity[popularity['user_id']==user]['item_id'].to_list():\n",
    "            recs_ = self.model_als.similar_items(self.itemid_to_id[item], N=2)\n",
    "            recs = [self.id_to_itemid[i[0]] for i in recs_]\n",
    "            if 999999 in recs:\n",
    "                recs.remove(999999)\n",
    "            result.append(recs[0])    \n",
    "        return  result      \n",
    "\n",
    "\n",
    "    def get_similar_items_recommendation(self, users, N=5):\n",
    "        \"\"\"Рекомендуем товары, похожие на топ-N купленных юзером товаров\"\"\"\n",
    "        assert  self.als_recommender_is_fit['status'],'Модель als не обучена, используйте fit_als()'\n",
    "        assert  type(users)==list,'параметр users должен быть list'\n",
    "        if self.full:\n",
    "            my_data = self.full_data_train.copy()\n",
    "        else:\n",
    "            my_data = self.data_train.copy()    \n",
    "        my_data = my_data[my_data['user_id'].isin(users)]    \n",
    "        popularity = my_data.groupby(['user_id', 'item_id'])['quantity'].count().reset_index()\n",
    "        popularity.sort_values('quantity', ascending=False, inplace=True)\n",
    "        popularity = popularity[popularity['item_id'] != 999999]\n",
    "        popularity =popularity.groupby('user_id').head(N)\n",
    "        popularity.sort_values(['user_id','quantity'], ascending=False, inplace=True)\n",
    "        result = pd.DataFrame()\n",
    "        result['user_id'] = users\n",
    "        result['similar_recommendation'] = result['user_id'].apply(lambda x: self.get_recs(user = x,popularity = popularity))\n",
    "\n",
    "        return result\n",
    "    \n",
    "    \n",
    "    def validation_similar_items_recommendation(self,metric=precision_at_k,N=5):\n",
    "        assert self.data_validation['status'], 'тестовые данные не созданы'\n",
    "        assert self.als_recommender_is_fit['status'], 'необходимо сначала выполнить метод fit_als()'\n",
    "        df = self.data_validation['data'].copy()\n",
    "        users = df['user_id'].to_list()\n",
    "        predict = self.get_similar_items_recommendation(users = users,N=N)\n",
    "        df['predict'] = predict['similar_recommendation']\n",
    "\n",
    "        return df.apply(metric,axis=1).mean() \n",
    "    \n",
    "    \n",
    "    \n",
    "    def get_recs_user(self,user,N):\n",
    "        recs_ = self.model_als.similar_users(self.userid_to_id[user], N=N+1)\n",
    "        recs = [self.id_to_itemid[i[0]] for i in recs_]\n",
    "        if 999999 in recs:\n",
    "            recs.remove(999999)\n",
    "        \n",
    "        return  recs[:N]  \n",
    "    \n",
    "    def get_similar_users_recommendation(self, users, N=5):\n",
    "        \"\"\"Рекомендуем топ-N товаров, среди купленных похожими юзерами\"\"\"\n",
    "        assert  self.als_recommender_is_fit['status'],'Модель als не обучена, используйте fit_als()'\n",
    "        assert  type(users)==list,'параметр users должен быть list'\n",
    "        if self.full:\n",
    "            my_data = self.full_data_train.copy()\n",
    "        else:\n",
    "            my_data = self.data_train.copy() \n",
    "        result = pd.DataFrame()    \n",
    "        result['user_id'] = users\n",
    "        result['similar_recommendation'] = result['user_id'].apply(lambda x: self.get_recs_user(user=x,N=N))\n",
    "\n",
    "        return result    \n",
    "            \n",
    "    def validation_similar_users_recommendation(self,metric=precision_at_k,N=5):\n",
    "        assert self.data_validation['status'], 'тестовые данные не созданы'\n",
    "        assert self.als_recommender_is_fit['status'], 'необходимо сначала выполнить метод fit_als()'\n",
    "        df = self.data_validation['data'].copy()\n",
    "        users = df['user_id'].to_list()\n",
    "        predict = self.get_similar_users_recommendation(users = users,N=N)\n",
    "        df['predict'] = predict['similar_recommendation']\n",
    "\n",
    "        return df.apply(metric,axis=1).mean()     \n",
    "    \n"
   ]
  },
  {
   "cell_type": "code",
   "execution_count": null,
   "metadata": {},
   "outputs": [],
   "source": []
  },
  {
   "cell_type": "code",
   "execution_count": null,
   "metadata": {},
   "outputs": [],
   "source": []
  },
  {
   "cell_type": "markdown",
   "metadata": {},
   "source": [
    "Работа класса"
   ]
  },
  {
   "cell_type": "code",
   "execution_count": 20,
   "metadata": {},
   "outputs": [
    {
     "name": "stdout",
     "output_type": "stream",
     "text": [
      "Wall time: 818 ms\n"
     ]
    }
   ],
   "source": [
    "%%time\n",
    "# создаем объект класса. data  - полный набор данных,  \n",
    "# split_info - кортеж, как разбить данные на трайн и тест, если нужно. \n",
    "# Если есть тестовые данные их можно передать в парамаетр data_test \n",
    "# week_no - поле по которому делим трейн и тест, 3 значение отсечения\n",
    "\n",
    "my_recomender = MainRecommender(data=data,split_info=(3,'week_no'))"
   ]
  },
  {
   "cell_type": "code",
   "execution_count": 21,
   "metadata": {},
   "outputs": [
    {
     "name": "stderr",
     "output_type": "stream",
     "text": [
      "C:\\Users\\lqw\\AppData\\Roaming\\Python\\Python38\\site-packages\\pandas\\core\\indexing.py:1765: SettingWithCopyWarning: \n",
      "A value is trying to be set on a copy of a slice from a DataFrame.\n",
      "Try using .loc[row_indexer,col_indexer] = value instead\n",
      "\n",
      "See the caveats in the documentation: https://pandas.pydata.org/pandas-docs/stable/user_guide/indexing.html#returning-a-view-versus-a-copy\n",
      "  isetter(loc, value)\n"
     ]
    },
    {
     "name": "stdout",
     "output_type": "stream",
     "text": [
      "Wall time: 2.84 s\n"
     ]
    },
    {
     "data": {
      "text/plain": [
       "{'status': True,\n",
       " 'matrix': None,\n",
       " 'params': {'agg_column': ('quantity', 'count'), 'filtr': [1], 'full': False},\n",
       " 'uim_matrix_w': <2499x5001 sparse matrix of type '<class 'numpy.float64'>'\n",
       " \twith 679365 stored elements in Compressed Sparse Row format>,\n",
       " 'uim_matrix': <2499x5001 sparse matrix of type '<class 'numpy.float64'>'\n",
       " \twith 679365 stored elements in Compressed Sparse Row format>,\n",
       " 'ium_matrix_w_tfidf': <5001x2499 sparse matrix of type '<class 'numpy.float64'>'\n",
       " \twith 679365 stored elements in COOrdinate format>,\n",
       " 'ium_matrix_tfidf': <5001x2499 sparse matrix of type '<class 'numpy.float64'>'\n",
       " \twith 679365 stored elements in COOrdinate format>,\n",
       " 'ium_matrix_w_bm25': <5001x2499 sparse matrix of type '<class 'numpy.float64'>'\n",
       " \twith 679365 stored elements in COOrdinate format>,\n",
       " 'ium_matrix_bm25': <5001x2499 sparse matrix of type '<class 'numpy.float64'>'\n",
       " \twith 679365 stored elements in COOrdinate format>}"
      ]
     },
     "execution_count": 21,
     "metadata": {},
     "output_type": "execute_result"
    }
   ],
   "source": [
    "%%time\n",
    "# создадим все маттрицы для работы\n",
    "# agg_column - поле агрегации и тип агрегации для сводной таблицы\n",
    "# filtr - указываем каким префильтрам подвергнуть матрицу при создании.Это список. Пока имеется только префильтр _1 отбор 5000 \n",
    "# самых популярных товаров. Замена остальных на 999999\n",
    "# full - если нужно сдлеать матицу из полного набьора данных, если Fals то делает из тренировочного,\n",
    "# полученого делением полного на трайн и тест\n",
    "my_recomender.make_data(agg_column=('quantity','count'),filtr=[1],full =False)"
   ]
  },
  {
   "cell_type": "code",
   "execution_count": 22,
   "metadata": {},
   "outputs": [],
   "source": [
    "# Посмотрим что теперь имеется в классе\n",
    "my_recomender.data # - полный наьор данных\n",
    "my_recomender.data_test #- тестовый набор данных\n",
    "my_recomender.data_train #- набор данных для обучения\n",
    "my_recomender.userid_to_id\n",
    "my_recomender.itemid_to_id\n",
    "my_recomender.id_to_itemid\n",
    "my_recomender.id_to_userid\n",
    "None\n"
   ]
  },
  {
   "cell_type": "code",
   "execution_count": 23,
   "metadata": {},
   "outputs": [
    {
     "data": {
      "text/html": [
       "<div>\n",
       "<style scoped>\n",
       "    .dataframe tbody tr th:only-of-type {\n",
       "        vertical-align: middle;\n",
       "    }\n",
       "\n",
       "    .dataframe tbody tr th {\n",
       "        vertical-align: top;\n",
       "    }\n",
       "\n",
       "    .dataframe thead th {\n",
       "        text-align: right;\n",
       "    }\n",
       "</style>\n",
       "<table border=\"1\" class=\"dataframe\">\n",
       "  <thead>\n",
       "    <tr style=\"text-align: right;\">\n",
       "      <th></th>\n",
       "      <th>user_id</th>\n",
       "      <th>test</th>\n",
       "      <th>train</th>\n",
       "      <th>full_train</th>\n",
       "    </tr>\n",
       "  </thead>\n",
       "  <tbody>\n",
       "    <tr>\n",
       "      <th>0</th>\n",
       "      <td>1</td>\n",
       "      <td>[821867, 834484, 856942, 865456, 889248, 90795...</td>\n",
       "      <td>[825123, 831447, 840361, 845307, 852014, 85498...</td>\n",
       "      <td>[825123, 831447, 840361, 845307, 852014, 85498...</td>\n",
       "    </tr>\n",
       "    <tr>\n",
       "      <th>1</th>\n",
       "      <td>3</td>\n",
       "      <td>[835476, 851057, 872021, 878302, 879948, 90963...</td>\n",
       "      <td>[866211, 878996, 882830, 904360, 921345, 93194...</td>\n",
       "      <td>[866211, 878996, 882830, 904360, 921345, 93194...</td>\n",
       "    </tr>\n",
       "    <tr>\n",
       "      <th>2</th>\n",
       "      <td>6</td>\n",
       "      <td>[920308, 926804, 946489, 1006718, 1017061, 107...</td>\n",
       "      <td>[840361, 851494, 851819, 851903, 863447, 87623...</td>\n",
       "      <td>[840361, 851494, 851819, 851903, 863447, 87623...</td>\n",
       "    </tr>\n",
       "    <tr>\n",
       "      <th>3</th>\n",
       "      <td>7</td>\n",
       "      <td>[840386, 889774, 898068, 909714, 929067, 95347...</td>\n",
       "      <td>[865569, 886703, 889731, 893400, 995436, 10205...</td>\n",
       "      <td>[865569, 886703, 889731, 893400, 995436, 10205...</td>\n",
       "    </tr>\n",
       "    <tr>\n",
       "      <th>4</th>\n",
       "      <td>8</td>\n",
       "      <td>[835098, 872137, 910439, 924610, 992977, 10412...</td>\n",
       "      <td>[824550, 824555, 826578, 835576, 841220, 84798...</td>\n",
       "      <td>[824550, 824555, 826578, 835576, 841220, 84798...</td>\n",
       "    </tr>\n",
       "    <tr>\n",
       "      <th>...</th>\n",
       "      <td>...</td>\n",
       "      <td>...</td>\n",
       "      <td>...</td>\n",
       "      <td>...</td>\n",
       "    </tr>\n",
       "    <tr>\n",
       "      <th>2037</th>\n",
       "      <td>2496</td>\n",
       "      <td>[6534178]</td>\n",
       "      <td>[840361, 852159, 871756, 886703, 899624, 91612...</td>\n",
       "      <td>[840361, 852159, 871756, 886703, 899624, 91612...</td>\n",
       "    </tr>\n",
       "    <tr>\n",
       "      <th>2038</th>\n",
       "      <td>2497</td>\n",
       "      <td>[1016709, 9835695, 1132298, 16809501, 845294, ...</td>\n",
       "      <td>[838220, 1037840, 1052294, 5569230, 8090537, 1...</td>\n",
       "      <td>[838220, 1037840, 1052294, 5569230, 8090537, 1...</td>\n",
       "    </tr>\n",
       "    <tr>\n",
       "      <th>2039</th>\n",
       "      <td>2498</td>\n",
       "      <td>[15716530, 834484, 901776, 914190, 958382, 972...</td>\n",
       "      <td>[824555, 835576, 901776, 904023, 911215, 91749...</td>\n",
       "      <td>[824555, 835576, 901776, 904023, 911215, 91749...</td>\n",
       "    </tr>\n",
       "    <tr>\n",
       "      <th>2040</th>\n",
       "      <td>2499</td>\n",
       "      <td>[867188, 877580, 902396, 914190, 951590, 95813...</td>\n",
       "      <td>[838186, 853197, 864143, 883665, 932949, 93383...</td>\n",
       "      <td>[838186, 853197, 864143, 883665, 932949, 93383...</td>\n",
       "    </tr>\n",
       "    <tr>\n",
       "      <th>2041</th>\n",
       "      <td>2500</td>\n",
       "      <td>[852182, 856345, 923746, 948670, 1018007, 1044...</td>\n",
       "      <td>[856455, 903476, 834102, 837751, 880797, 89301...</td>\n",
       "      <td>[856455, 903476, 834102, 837751, 880797, 89301...</td>\n",
       "    </tr>\n",
       "  </tbody>\n",
       "</table>\n",
       "<p>2042 rows × 4 columns</p>\n",
       "</div>"
      ],
      "text/plain": [
       "      user_id                                               test  \\\n",
       "0           1  [821867, 834484, 856942, 865456, 889248, 90795...   \n",
       "1           3  [835476, 851057, 872021, 878302, 879948, 90963...   \n",
       "2           6  [920308, 926804, 946489, 1006718, 1017061, 107...   \n",
       "3           7  [840386, 889774, 898068, 909714, 929067, 95347...   \n",
       "4           8  [835098, 872137, 910439, 924610, 992977, 10412...   \n",
       "...       ...                                                ...   \n",
       "2037     2496                                          [6534178]   \n",
       "2038     2497  [1016709, 9835695, 1132298, 16809501, 845294, ...   \n",
       "2039     2498  [15716530, 834484, 901776, 914190, 958382, 972...   \n",
       "2040     2499  [867188, 877580, 902396, 914190, 951590, 95813...   \n",
       "2041     2500  [852182, 856345, 923746, 948670, 1018007, 1044...   \n",
       "\n",
       "                                                  train  \\\n",
       "0     [825123, 831447, 840361, 845307, 852014, 85498...   \n",
       "1     [866211, 878996, 882830, 904360, 921345, 93194...   \n",
       "2     [840361, 851494, 851819, 851903, 863447, 87623...   \n",
       "3     [865569, 886703, 889731, 893400, 995436, 10205...   \n",
       "4     [824550, 824555, 826578, 835576, 841220, 84798...   \n",
       "...                                                 ...   \n",
       "2037  [840361, 852159, 871756, 886703, 899624, 91612...   \n",
       "2038  [838220, 1037840, 1052294, 5569230, 8090537, 1...   \n",
       "2039  [824555, 835576, 901776, 904023, 911215, 91749...   \n",
       "2040  [838186, 853197, 864143, 883665, 932949, 93383...   \n",
       "2041  [856455, 903476, 834102, 837751, 880797, 89301...   \n",
       "\n",
       "                                             full_train  \n",
       "0     [825123, 831447, 840361, 845307, 852014, 85498...  \n",
       "1     [866211, 878996, 882830, 904360, 921345, 93194...  \n",
       "2     [840361, 851494, 851819, 851903, 863447, 87623...  \n",
       "3     [865569, 886703, 889731, 893400, 995436, 10205...  \n",
       "4     [824550, 824555, 826578, 835576, 841220, 84798...  \n",
       "...                                                 ...  \n",
       "2037  [840361, 852159, 871756, 886703, 899624, 91612...  \n",
       "2038  [838220, 1037840, 1052294, 5569230, 8090537, 1...  \n",
       "2039  [824555, 835576, 901776, 904023, 911215, 91749...  \n",
       "2040  [838186, 853197, 864143, 883665, 932949, 93383...  \n",
       "2041  [856455, 903476, 834102, 837751, 880797, 89301...  \n",
       "\n",
       "[2042 rows x 4 columns]"
      ]
     },
     "execution_count": 23,
     "metadata": {},
     "output_type": "execute_result"
    }
   ],
   "source": [
    "# Набор данных для валидации на тесте , трейне\n",
    "my_recomender.data_validation['data']"
   ]
  },
  {
   "cell_type": "code",
   "execution_count": 24,
   "metadata": {},
   "outputs": [
    {
     "data": {
      "text/plain": [
       "{'status': True,\n",
       " 'matrix': None,\n",
       " 'params': {'agg_column': ('quantity', 'count'), 'filtr': [1], 'full': False},\n",
       " 'uim_matrix_w': <2499x5001 sparse matrix of type '<class 'numpy.float64'>'\n",
       " \twith 679365 stored elements in Compressed Sparse Row format>,\n",
       " 'uim_matrix': <2499x5001 sparse matrix of type '<class 'numpy.float64'>'\n",
       " \twith 679365 stored elements in Compressed Sparse Row format>,\n",
       " 'ium_matrix_w_tfidf': <5001x2499 sparse matrix of type '<class 'numpy.float64'>'\n",
       " \twith 679365 stored elements in COOrdinate format>,\n",
       " 'ium_matrix_tfidf': <5001x2499 sparse matrix of type '<class 'numpy.float64'>'\n",
       " \twith 679365 stored elements in COOrdinate format>,\n",
       " 'ium_matrix_w_bm25': <5001x2499 sparse matrix of type '<class 'numpy.float64'>'\n",
       " \twith 679365 stored elements in COOrdinate format>,\n",
       " 'ium_matrix_bm25': <5001x2499 sparse matrix of type '<class 'numpy.float64'>'\n",
       " \twith 679365 stored elements in COOrdinate format>}"
      ]
     },
     "execution_count": 24,
     "metadata": {},
     "output_type": "execute_result"
    }
   ],
   "source": [
    "# 4 матрицы в наборе а так же указаны параметры агрегации и фильтрации\n",
    "my_recomender.user_item_matrix"
   ]
  },
  {
   "cell_type": "code",
   "execution_count": 25,
   "metadata": {},
   "outputs": [
    {
     "data": {
      "application/vnd.jupyter.widget-view+json": {
       "model_id": "506a587dc2414e5dbf8ad109e2ae2a2d",
       "version_major": 2,
       "version_minor": 0
      },
      "text/plain": [
       "HBox(children=(HTML(value=''), FloatProgress(value=0.0, max=5001.0), HTML(value='')))"
      ]
     },
     "metadata": {},
     "output_type": "display_data"
    },
    {
     "name": "stdout",
     "output_type": "stream",
     "text": [
      "\n"
     ]
    },
    {
     "data": {
      "text/plain": [
       "<implicit.nearest_neighbours.ItemItemRecommender at 0x1ef7e64abe0>"
      ]
     },
     "execution_count": 25,
     "metadata": {},
     "output_type": "execute_result"
    }
   ],
   "source": [
    "# Обучим own_recommender без взешивания\n",
    "my_recomender.fit_own_recommender()"
   ]
  },
  {
   "cell_type": "code",
   "execution_count": 26,
   "metadata": {},
   "outputs": [],
   "source": [
    "# параметры предсказаний\n",
    "params = {'filter_already_liked_items':False, \n",
    "                        'filter_items':[999999], \n",
    "                        \"recalculate_user\":True}"
   ]
  },
  {
   "cell_type": "code",
   "execution_count": 27,
   "metadata": {},
   "outputs": [
    {
     "data": {
      "text/html": [
       "<div>\n",
       "<style scoped>\n",
       "    .dataframe tbody tr th:only-of-type {\n",
       "        vertical-align: middle;\n",
       "    }\n",
       "\n",
       "    .dataframe tbody tr th {\n",
       "        vertical-align: top;\n",
       "    }\n",
       "\n",
       "    .dataframe thead th {\n",
       "        text-align: right;\n",
       "    }\n",
       "</style>\n",
       "<table border=\"1\" class=\"dataframe\">\n",
       "  <thead>\n",
       "    <tr style=\"text-align: right;\">\n",
       "      <th></th>\n",
       "      <th>user_id</th>\n",
       "      <th>result</th>\n",
       "    </tr>\n",
       "  </thead>\n",
       "  <tbody>\n",
       "    <tr>\n",
       "      <th>0</th>\n",
       "      <td>1</td>\n",
       "      <td>[1082185, 1029743, 1004906, 5978656, 1081177]</td>\n",
       "    </tr>\n",
       "    <tr>\n",
       "      <th>1</th>\n",
       "      <td>2</td>\n",
       "      <td>[1082185, 1098066, 1127831, 1004906, 1081177]</td>\n",
       "    </tr>\n",
       "  </tbody>\n",
       "</table>\n",
       "</div>"
      ],
      "text/plain": [
       "   user_id                                         result\n",
       "0        1  [1082185, 1029743, 1004906, 5978656, 1081177]\n",
       "1        2  [1082185, 1098066, 1127831, 1004906, 1081177]"
      ]
     },
     "execution_count": 27,
     "metadata": {},
     "output_type": "execute_result"
    }
   ],
   "source": [
    "# сделаем 5 предсказания для юзеров 1 и 2\n",
    "my_recomender.predict_own_recommender([1,2],5,params=params)"
   ]
  },
  {
   "cell_type": "code",
   "execution_count": 28,
   "metadata": {},
   "outputs": [
    {
     "data": {
      "text/plain": [
       "0.19711067580802874"
      ]
     },
     "execution_count": 28,
     "metadata": {},
     "output_type": "execute_result"
    }
   ],
   "source": [
    "# посмотрим  валидацию на тесте\n",
    "my_recomender.validation_own_recommender(params=params)"
   ]
  },
  {
   "cell_type": "code",
   "execution_count": 29,
   "metadata": {},
   "outputs": [
    {
     "data": {
      "application/vnd.jupyter.widget-view+json": {
       "model_id": "cd0163b4de3d484383f04620aeb7b00b",
       "version_major": 2,
       "version_minor": 0
      },
      "text/plain": [
       "HBox(children=(HTML(value=''), FloatProgress(value=0.0, max=5001.0), HTML(value='')))"
      ]
     },
     "metadata": {},
     "output_type": "display_data"
    },
    {
     "name": "stdout",
     "output_type": "stream",
     "text": [
      "\n"
     ]
    },
    {
     "data": {
      "text/plain": [
       "<implicit.nearest_neighbours.ItemItemRecommender at 0x1ef021ac760>"
      ]
     },
     "execution_count": 29,
     "metadata": {},
     "output_type": "execute_result"
    }
   ],
   "source": [
    "# Обучим own_recommender tf_idf\n",
    "my_recomender.fit_own_recommender(weighting ='tf_idf')"
   ]
  },
  {
   "cell_type": "code",
   "execution_count": 30,
   "metadata": {},
   "outputs": [
    {
     "data": {
      "text/plain": [
       "0.21101860920665738"
      ]
     },
     "execution_count": 30,
     "metadata": {},
     "output_type": "execute_result"
    }
   ],
   "source": [
    "# посмотрим  валидацию на тесте\n",
    "my_recomender.validation_own_recommender(params=params)"
   ]
  },
  {
   "cell_type": "code",
   "execution_count": 31,
   "metadata": {},
   "outputs": [
    {
     "data": {
      "application/vnd.jupyter.widget-view+json": {
       "model_id": "1a88edb9ac2a4e4f8a70819bfb318670",
       "version_major": 2,
       "version_minor": 0
      },
      "text/plain": [
       "HBox(children=(HTML(value=''), FloatProgress(value=0.0, max=5001.0), HTML(value='')))"
      ]
     },
     "metadata": {},
     "output_type": "display_data"
    },
    {
     "name": "stdout",
     "output_type": "stream",
     "text": [
      "\n"
     ]
    },
    {
     "data": {
      "text/plain": [
       "<implicit.nearest_neighbours.ItemItemRecommender at 0x1ef022ea280>"
      ]
     },
     "execution_count": 31,
     "metadata": {},
     "output_type": "execute_result"
    }
   ],
   "source": [
    "# Обучим own_recommender bm25\n",
    "my_recomender.fit_own_recommender(weighting ='bm25')"
   ]
  },
  {
   "cell_type": "code",
   "execution_count": 32,
   "metadata": {},
   "outputs": [
    {
     "name": "stdout",
     "output_type": "stream",
     "text": [
      "Wall time: 134 ms\n"
     ]
    },
    {
     "data": {
      "text/plain": [
       "0.06520568070519137"
      ]
     },
     "execution_count": 32,
     "metadata": {},
     "output_type": "execute_result"
    }
   ],
   "source": [
    "%%time\n",
    "# посмотрим  валидацию на тесте\n",
    "my_recomender.validation_own_recommender(params=params)"
   ]
  },
  {
   "cell_type": "code",
   "execution_count": 33,
   "metadata": {},
   "outputs": [],
   "source": [
    "# Обучим модель als\n",
    "param_als = {'factors':1100, 'regularization':35, 'iterations':20, \n",
    "                             'num_threads':-1,'calculate_training_loss':True}\n"
   ]
  },
  {
   "cell_type": "code",
   "execution_count": 34,
   "metadata": {},
   "outputs": [
    {
     "name": "stderr",
     "output_type": "stream",
     "text": [
      "WARNING:root:OpenBLAS detected. Its highly recommend to set the environment variable 'export OPENBLAS_NUM_THREADS=1' to disable its internal multithreading\n"
     ]
    },
    {
     "data": {
      "application/vnd.jupyter.widget-view+json": {
       "model_id": "045abdc034344a4d90f4b2225612177a",
       "version_major": 2,
       "version_minor": 0
      },
      "text/plain": [
       "HBox(children=(HTML(value=''), FloatProgress(value=0.0, max=20.0), HTML(value='')))"
      ]
     },
     "metadata": {},
     "output_type": "display_data"
    },
    {
     "name": "stdout",
     "output_type": "stream",
     "text": [
      "\n",
      "Wall time: 13.2 s\n"
     ]
    },
    {
     "data": {
      "text/plain": [
       "<implicit.als.AlternatingLeastSquares at 0x1ef021b9d60>"
      ]
     },
     "execution_count": 34,
     "metadata": {},
     "output_type": "execute_result"
    }
   ],
   "source": [
    "%%time\n",
    "my_recomender.fit_als(params=param_als,weighting ='tf_idf')"
   ]
  },
  {
   "cell_type": "code",
   "execution_count": 35,
   "metadata": {},
   "outputs": [
    {
     "name": "stdout",
     "output_type": "stream",
     "text": [
      "Wall time: 7.7 s\n"
     ]
    },
    {
     "data": {
      "text/html": [
       "<div>\n",
       "<style scoped>\n",
       "    .dataframe tbody tr th:only-of-type {\n",
       "        vertical-align: middle;\n",
       "    }\n",
       "\n",
       "    .dataframe tbody tr th {\n",
       "        vertical-align: top;\n",
       "    }\n",
       "\n",
       "    .dataframe thead th {\n",
       "        text-align: right;\n",
       "    }\n",
       "</style>\n",
       "<table border=\"1\" class=\"dataframe\">\n",
       "  <thead>\n",
       "    <tr style=\"text-align: right;\">\n",
       "      <th></th>\n",
       "      <th>user_id</th>\n",
       "      <th>result</th>\n",
       "    </tr>\n",
       "  </thead>\n",
       "  <tbody>\n",
       "    <tr>\n",
       "      <th>0</th>\n",
       "      <td>1</td>\n",
       "      <td>[995242, 1082185, 9527290, 840361, 940947]</td>\n",
       "    </tr>\n",
       "    <tr>\n",
       "      <th>1</th>\n",
       "      <td>2</td>\n",
       "      <td>[1133018, 1106523, 5569230, 1082185, 1098066]</td>\n",
       "    </tr>\n",
       "    <tr>\n",
       "      <th>2</th>\n",
       "      <td>3</td>\n",
       "      <td>[1106523, 951590, 1133018, 1092026, 910032]</td>\n",
       "    </tr>\n",
       "    <tr>\n",
       "      <th>3</th>\n",
       "      <td>4</td>\n",
       "      <td>[883932, 962229, 883404, 1075368, 5569230]</td>\n",
       "    </tr>\n",
       "    <tr>\n",
       "      <th>4</th>\n",
       "      <td>5</td>\n",
       "      <td>[1082185, 1126899, 1029743, 916122, 5568378]</td>\n",
       "    </tr>\n",
       "    <tr>\n",
       "      <th>5</th>\n",
       "      <td>6</td>\n",
       "      <td>[1082185, 878996, 1024306, 834484, 840361]</td>\n",
       "    </tr>\n",
       "    <tr>\n",
       "      <th>6</th>\n",
       "      <td>7</td>\n",
       "      <td>[1082185, 1106523, 1122358, 1127831, 1133018]</td>\n",
       "    </tr>\n",
       "    <tr>\n",
       "      <th>7</th>\n",
       "      <td>8</td>\n",
       "      <td>[1082185, 826249, 1133018, 1029743, 1004906]</td>\n",
       "    </tr>\n",
       "    <tr>\n",
       "      <th>8</th>\n",
       "      <td>9</td>\n",
       "      <td>[1029743, 1082185, 995242, 1098066, 826249]</td>\n",
       "    </tr>\n",
       "    <tr>\n",
       "      <th>9</th>\n",
       "      <td>10</td>\n",
       "      <td>[1106523, 1082185, 1133018, 1113588, 1005186]</td>\n",
       "    </tr>\n",
       "  </tbody>\n",
       "</table>\n",
       "</div>"
      ],
      "text/plain": [
       "   user_id                                         result\n",
       "0        1     [995242, 1082185, 9527290, 840361, 940947]\n",
       "1        2  [1133018, 1106523, 5569230, 1082185, 1098066]\n",
       "2        3    [1106523, 951590, 1133018, 1092026, 910032]\n",
       "3        4     [883932, 962229, 883404, 1075368, 5569230]\n",
       "4        5   [1082185, 1126899, 1029743, 916122, 5568378]\n",
       "5        6     [1082185, 878996, 1024306, 834484, 840361]\n",
       "6        7  [1082185, 1106523, 1122358, 1127831, 1133018]\n",
       "7        8   [1082185, 826249, 1133018, 1029743, 1004906]\n",
       "8        9    [1029743, 1082185, 995242, 1098066, 826249]\n",
       "9       10  [1106523, 1082185, 1133018, 1113588, 1005186]"
      ]
     },
     "execution_count": 35,
     "metadata": {},
     "output_type": "execute_result"
    }
   ],
   "source": [
    "%%time\n",
    "# предикт als\n",
    "my_recomender.predict_als([1,2,3,4,5,6,7,8,9,10],5,params=params)"
   ]
  },
  {
   "cell_type": "code",
   "execution_count": 36,
   "metadata": {},
   "outputs": [
    {
     "name": "stdout",
     "output_type": "stream",
     "text": [
      "Wall time: 32min 39s\n"
     ]
    },
    {
     "data": {
      "text/plain": [
       "0.3028403525954943"
      ]
     },
     "execution_count": 36,
     "metadata": {},
     "output_type": "execute_result"
    }
   ],
   "source": [
    "%%time\n",
    "# oценка валидации als на тесте precision@5 tf_idf\n",
    "my_recomender.validation_als_recommender(params=params)"
   ]
  },
  {
   "cell_type": "code",
   "execution_count": 37,
   "metadata": {},
   "outputs": [
    {
     "data": {
      "application/vnd.jupyter.widget-view+json": {
       "model_id": "327c4b17f9ae44e8ba7e6aeb56d7e866",
       "version_major": 2,
       "version_minor": 0
      },
      "text/plain": [
       "HBox(children=(HTML(value=''), FloatProgress(value=0.0, max=20.0), HTML(value='')))"
      ]
     },
     "metadata": {},
     "output_type": "display_data"
    },
    {
     "name": "stdout",
     "output_type": "stream",
     "text": [
      "\n"
     ]
    },
    {
     "data": {
      "text/plain": [
       "<implicit.als.AlternatingLeastSquares at 0x1ef021b9790>"
      ]
     },
     "execution_count": 37,
     "metadata": {},
     "output_type": "execute_result"
    }
   ],
   "source": [
    "# обучим без взвешивания\n",
    "my_recomender.fit_als(params=param_als)"
   ]
  },
  {
   "cell_type": "code",
   "execution_count": 38,
   "metadata": {},
   "outputs": [
    {
     "name": "stdout",
     "output_type": "stream",
     "text": [
      "Wall time: 32min 39s\n"
     ]
    },
    {
     "data": {
      "text/plain": [
       "0.2787463271302631"
      ]
     },
     "execution_count": 38,
     "metadata": {},
     "output_type": "execute_result"
    }
   ],
   "source": [
    "%%time\n",
    "# oценка валидации на тесте precision@5 без взвешивания\n",
    "my_recomender.validation_als_recommender(params=params)"
   ]
  },
  {
   "cell_type": "code",
   "execution_count": 39,
   "metadata": {},
   "outputs": [
    {
     "data": {
      "application/vnd.jupyter.widget-view+json": {
       "model_id": "c914851bf11e40a295ec255e0fe4cbad",
       "version_major": 2,
       "version_minor": 0
      },
      "text/plain": [
       "HBox(children=(HTML(value=''), FloatProgress(value=0.0, max=20.0), HTML(value='')))"
      ]
     },
     "metadata": {},
     "output_type": "display_data"
    },
    {
     "name": "stdout",
     "output_type": "stream",
     "text": [
      "\n"
     ]
    },
    {
     "data": {
      "text/plain": [
       "<implicit.als.AlternatingLeastSquares at 0x1ef022084c0>"
      ]
     },
     "execution_count": 39,
     "metadata": {},
     "output_type": "execute_result"
    }
   ],
   "source": [
    "# обучим без bm25\n",
    "my_recomender.fit_als(params=param_als,weighting ='bm25')"
   ]
  },
  {
   "cell_type": "code",
   "execution_count": 40,
   "metadata": {},
   "outputs": [
    {
     "name": "stdout",
     "output_type": "stream",
     "text": [
      "Wall time: 32min 8s\n"
     ]
    },
    {
     "data": {
      "text/plain": [
       "0.3441723800195895"
      ]
     },
     "execution_count": 40,
     "metadata": {},
     "output_type": "execute_result"
    }
   ],
   "source": [
    "%%time\n",
    "# oценка валидации на тесте precision@5  bm52\n",
    "my_recomender.validation_als_recommender(params=params)"
   ]
  },
  {
   "cell_type": "code",
   "execution_count": 41,
   "metadata": {},
   "outputs": [
    {
     "name": "stdout",
     "output_type": "stream",
     "text": [
      "Wall time: 97.1 ms\n"
     ]
    },
    {
     "data": {
      "text/html": [
       "<div>\n",
       "<style scoped>\n",
       "    .dataframe tbody tr th:only-of-type {\n",
       "        vertical-align: middle;\n",
       "    }\n",
       "\n",
       "    .dataframe tbody tr th {\n",
       "        vertical-align: top;\n",
       "    }\n",
       "\n",
       "    .dataframe thead th {\n",
       "        text-align: right;\n",
       "    }\n",
       "</style>\n",
       "<table border=\"1\" class=\"dataframe\">\n",
       "  <thead>\n",
       "    <tr style=\"text-align: right;\">\n",
       "      <th></th>\n",
       "      <th>user_id</th>\n",
       "      <th>similar_recommendation</th>\n",
       "    </tr>\n",
       "  </thead>\n",
       "  <tbody>\n",
       "    <tr>\n",
       "      <th>0</th>\n",
       "      <td>1</td>\n",
       "      <td>[856942, 1082185, 995242, 940947, 9527290]</td>\n",
       "    </tr>\n",
       "    <tr>\n",
       "      <th>1</th>\n",
       "      <td>2</td>\n",
       "      <td>[1133018, 1106523, 8090521, 5569230, 916122]</td>\n",
       "    </tr>\n",
       "    <tr>\n",
       "      <th>2</th>\n",
       "      <td>3</td>\n",
       "      <td>[1092026, 1053690, 951590, 998206, 910032]</td>\n",
       "    </tr>\n",
       "    <tr>\n",
       "      <th>3</th>\n",
       "      <td>4</td>\n",
       "      <td>[883932, 891423, 962229, 910109, 1052294]</td>\n",
       "    </tr>\n",
       "    <tr>\n",
       "      <th>4</th>\n",
       "      <td>5</td>\n",
       "      <td>[1126899, 874972, 5995609, 5568378, 1123022]</td>\n",
       "    </tr>\n",
       "    <tr>\n",
       "      <th>5</th>\n",
       "      <td>6</td>\n",
       "      <td>[1082185, 1119051, 840361, 1037863, 863447]</td>\n",
       "    </tr>\n",
       "    <tr>\n",
       "      <th>6</th>\n",
       "      <td>7</td>\n",
       "      <td>[1082185, 1122358, 6944571, 1022003, 828867]</td>\n",
       "    </tr>\n",
       "    <tr>\n",
       "      <th>7</th>\n",
       "      <td>8</td>\n",
       "      <td>[1082185, 1133018, 969932, 1005186, 5569230]</td>\n",
       "    </tr>\n",
       "    <tr>\n",
       "      <th>8</th>\n",
       "      <td>9</td>\n",
       "      <td>[1029743, 862799, 826249, 1098066, 1056005]</td>\n",
       "    </tr>\n",
       "    <tr>\n",
       "      <th>9</th>\n",
       "      <td>10</td>\n",
       "      <td>[1106523, 945779, 1113588, 883003, 892008]</td>\n",
       "    </tr>\n",
       "  </tbody>\n",
       "</table>\n",
       "</div>"
      ],
      "text/plain": [
       "   user_id                        similar_recommendation\n",
       "0        1    [856942, 1082185, 995242, 940947, 9527290]\n",
       "1        2  [1133018, 1106523, 8090521, 5569230, 916122]\n",
       "2        3    [1092026, 1053690, 951590, 998206, 910032]\n",
       "3        4     [883932, 891423, 962229, 910109, 1052294]\n",
       "4        5  [1126899, 874972, 5995609, 5568378, 1123022]\n",
       "5        6   [1082185, 1119051, 840361, 1037863, 863447]\n",
       "6        7  [1082185, 1122358, 6944571, 1022003, 828867]\n",
       "7        8  [1082185, 1133018, 969932, 1005186, 5569230]\n",
       "8        9   [1029743, 862799, 826249, 1098066, 1056005]\n",
       "9       10    [1106523, 945779, 1113588, 883003, 892008]"
      ]
     },
     "execution_count": 41,
     "metadata": {},
     "output_type": "execute_result"
    }
   ],
   "source": [
    "%%time\n",
    "# item_item рекомендации\n",
    "my_recomender.get_similar_items_recommendation( [1,2,3,4,5,6,7,8,9,10], N=5)\n"
   ]
  },
  {
   "cell_type": "code",
   "execution_count": 42,
   "metadata": {},
   "outputs": [
    {
     "name": "stdout",
     "output_type": "stream",
     "text": [
      "Wall time: 5.06 s\n"
     ]
    },
    {
     "data": {
      "text/plain": [
       "0.4002693437806084"
      ]
     },
     "execution_count": 42,
     "metadata": {},
     "output_type": "execute_result"
    }
   ],
   "source": [
    "%%time\n",
    "# item_item рекомендации валидация на тесте precision@5 'bm25'\n",
    "my_recomender.validation_similar_items_recommendation()"
   ]
  },
  {
   "cell_type": "code",
   "execution_count": 43,
   "metadata": {},
   "outputs": [
    {
     "name": "stdout",
     "output_type": "stream",
     "text": [
      "Wall time: 37 ms\n"
     ]
    },
    {
     "data": {
      "text/html": [
       "<div>\n",
       "<style scoped>\n",
       "    .dataframe tbody tr th:only-of-type {\n",
       "        vertical-align: middle;\n",
       "    }\n",
       "\n",
       "    .dataframe tbody tr th {\n",
       "        vertical-align: top;\n",
       "    }\n",
       "\n",
       "    .dataframe thead th {\n",
       "        text-align: right;\n",
       "    }\n",
       "</style>\n",
       "<table border=\"1\" class=\"dataframe\">\n",
       "  <thead>\n",
       "    <tr style=\"text-align: right;\">\n",
       "      <th></th>\n",
       "      <th>user_id</th>\n",
       "      <th>similar_recommendation</th>\n",
       "    </tr>\n",
       "  </thead>\n",
       "  <tbody>\n",
       "    <tr>\n",
       "      <th>0</th>\n",
       "      <td>1</td>\n",
       "      <td>[397896, 924786, 987734, 863030, 958729]</td>\n",
       "    </tr>\n",
       "    <tr>\n",
       "      <th>1</th>\n",
       "      <td>2</td>\n",
       "      <td>[818980, 853235, 1000488, 978974, 983316]</td>\n",
       "    </tr>\n",
       "    <tr>\n",
       "      <th>2</th>\n",
       "      <td>3</td>\n",
       "      <td>[818981, 962229, 976300, 865456, 1005935]</td>\n",
       "    </tr>\n",
       "    <tr>\n",
       "      <th>3</th>\n",
       "      <td>4</td>\n",
       "      <td>[819063, 866950, 952981, 862866, 870428]</td>\n",
       "    </tr>\n",
       "    <tr>\n",
       "      <th>4</th>\n",
       "      <td>5</td>\n",
       "      <td>[819255, 1012701, 923967, 900491, 959219]</td>\n",
       "    </tr>\n",
       "    <tr>\n",
       "      <th>5</th>\n",
       "      <td>6</td>\n",
       "      <td>[819304, 896617, 942088, 918684, 873916]</td>\n",
       "    </tr>\n",
       "    <tr>\n",
       "      <th>6</th>\n",
       "      <td>7</td>\n",
       "      <td>[819308, 987218, 835576, 968932, 860037]</td>\n",
       "    </tr>\n",
       "    <tr>\n",
       "      <th>7</th>\n",
       "      <td>8</td>\n",
       "      <td>[819330, 862152, 990762, 982955, 825731]</td>\n",
       "    </tr>\n",
       "    <tr>\n",
       "      <th>8</th>\n",
       "      <td>9</td>\n",
       "      <td>[819518, 888431, 995134, 833351, 993044]</td>\n",
       "    </tr>\n",
       "    <tr>\n",
       "      <th>9</th>\n",
       "      <td>10</td>\n",
       "      <td>[819594, 981760, 879445, 914077, 840609]</td>\n",
       "    </tr>\n",
       "  </tbody>\n",
       "</table>\n",
       "</div>"
      ],
      "text/plain": [
       "   user_id                     similar_recommendation\n",
       "0        1   [397896, 924786, 987734, 863030, 958729]\n",
       "1        2  [818980, 853235, 1000488, 978974, 983316]\n",
       "2        3  [818981, 962229, 976300, 865456, 1005935]\n",
       "3        4   [819063, 866950, 952981, 862866, 870428]\n",
       "4        5  [819255, 1012701, 923967, 900491, 959219]\n",
       "5        6   [819304, 896617, 942088, 918684, 873916]\n",
       "6        7   [819308, 987218, 835576, 968932, 860037]\n",
       "7        8   [819330, 862152, 990762, 982955, 825731]\n",
       "8        9   [819518, 888431, 995134, 833351, 993044]\n",
       "9       10   [819594, 981760, 879445, 914077, 840609]"
      ]
     },
     "execution_count": 43,
     "metadata": {},
     "output_type": "execute_result"
    }
   ],
   "source": [
    "%%time\n",
    "# user_item рекомендации\n",
    "my_recomender.get_similar_users_recommendation( users=[1,2,3,4,5,6,7,8,9,10], N=5)"
   ]
  },
  {
   "cell_type": "code",
   "execution_count": 44,
   "metadata": {},
   "outputs": [
    {
     "name": "stdout",
     "output_type": "stream",
     "text": [
      "Wall time: 376 ms\n"
     ]
    },
    {
     "data": {
      "text/plain": [
       "0.005386875612144953"
      ]
     },
     "execution_count": 44,
     "metadata": {},
     "output_type": "execute_result"
    }
   ],
   "source": [
    "%%time\n",
    "# user_item валидация на тесте precision@5 'bm25'\n",
    "my_recomender.validation_similar_users_recommendation()"
   ]
  },
  {
   "cell_type": "code",
   "execution_count": 47,
   "metadata": {},
   "outputs": [
    {
     "data": {
      "application/vnd.jupyter.widget-view+json": {
       "model_id": "8a3cd016863742b5af99bb883c27e1e3",
       "version_major": 2,
       "version_minor": 0
      },
      "text/plain": [
       "HBox(children=(HTML(value=''), FloatProgress(value=0.0, max=20.0), HTML(value='')))"
      ]
     },
     "metadata": {},
     "output_type": "display_data"
    },
    {
     "name": "stdout",
     "output_type": "stream",
     "text": [
      "\n"
     ]
    },
    {
     "data": {
      "text/plain": [
       "<implicit.als.AlternatingLeastSquares at 0x1ef022ea6a0>"
      ]
     },
     "execution_count": 47,
     "metadata": {},
     "output_type": "execute_result"
    }
   ],
   "source": [
    "# обучим als без взвешивания\n",
    "my_recomender.fit_als(params=param_als)"
   ]
  },
  {
   "cell_type": "code",
   "execution_count": 48,
   "metadata": {},
   "outputs": [
    {
     "name": "stdout",
     "output_type": "stream",
     "text": [
      "Wall time: 5.71 s\n"
     ]
    },
    {
     "data": {
      "text/plain": [
       "0.4002693437806084"
      ]
     },
     "execution_count": 48,
     "metadata": {},
     "output_type": "execute_result"
    }
   ],
   "source": [
    "%%time\n",
    "# item_item рекомендации валидация на тесте precision@5 без взвешивания\n",
    "my_recomender.validation_similar_items_recommendation()"
   ]
  },
  {
   "cell_type": "code",
   "execution_count": 49,
   "metadata": {},
   "outputs": [
    {
     "name": "stdout",
     "output_type": "stream",
     "text": [
      "Wall time: 390 ms\n"
     ]
    },
    {
     "data": {
      "text/plain": [
       "0.006758080313418212"
      ]
     },
     "execution_count": 49,
     "metadata": {},
     "output_type": "execute_result"
    }
   ],
   "source": [
    "%%time\n",
    "# user_item валидация на тесте precision@5 без взвешиания\n",
    "my_recomender.validation_similar_users_recommendation()"
   ]
  },
  {
   "cell_type": "code",
   "execution_count": 50,
   "metadata": {},
   "outputs": [
    {
     "data": {
      "application/vnd.jupyter.widget-view+json": {
       "model_id": "0bdfb0a4e4f84489bcb089e04a0865a7",
       "version_major": 2,
       "version_minor": 0
      },
      "text/plain": [
       "HBox(children=(HTML(value=''), FloatProgress(value=0.0, max=20.0), HTML(value='')))"
      ]
     },
     "metadata": {},
     "output_type": "display_data"
    },
    {
     "name": "stdout",
     "output_type": "stream",
     "text": [
      "\n",
      "Wall time: 13.4 s\n"
     ]
    },
    {
     "data": {
      "text/plain": [
       "<implicit.als.AlternatingLeastSquares at 0x1ef02209d90>"
      ]
     },
     "execution_count": 50,
     "metadata": {},
     "output_type": "execute_result"
    }
   ],
   "source": [
    "%%time\n",
    "# item_item рекомендации валидация на тесте precision@5 tf_idf\n",
    "my_recomender.fit_als(params=param_als,weighting ='tf_idf')"
   ]
  },
  {
   "cell_type": "code",
   "execution_count": 51,
   "metadata": {},
   "outputs": [
    {
     "name": "stdout",
     "output_type": "stream",
     "text": [
      "Wall time: 6.07 s\n"
     ]
    },
    {
     "data": {
      "text/plain": [
       "0.4002693437806084"
      ]
     },
     "execution_count": 51,
     "metadata": {},
     "output_type": "execute_result"
    }
   ],
   "source": [
    "%%time\n",
    "# item_item рекомендации валидация на тесте precision@5 без взвешивания\n",
    "my_recomender.validation_similar_items_recommendation()"
   ]
  },
  {
   "cell_type": "code",
   "execution_count": 52,
   "metadata": {},
   "outputs": [
    {
     "name": "stdout",
     "output_type": "stream",
     "text": [
      "Wall time: 386 ms\n"
     ]
    },
    {
     "data": {
      "text/plain": [
       "0.006072477962781582"
      ]
     },
     "execution_count": 52,
     "metadata": {},
     "output_type": "execute_result"
    }
   ],
   "source": [
    "%%time\n",
    "# user_item валидация на тесте precision@5 без взвешиания\n",
    "my_recomender.validation_similar_users_recommendation()"
   ]
  },
  {
   "cell_type": "markdown",
   "metadata": {},
   "source": [
    "----"
   ]
  },
  {
   "cell_type": "markdown",
   "metadata": {},
   "source": [
    "Проверка, что все работает"
   ]
  },
  {
   "cell_type": "code",
   "execution_count": 45,
   "metadata": {},
   "outputs": [
    {
     "ename": "ModuleNotFoundError",
     "evalue": "No module named 'src.recommenders'",
     "output_type": "error",
     "traceback": [
      "\u001b[1;31m---------------------------------------------------------------------------\u001b[0m",
      "\u001b[1;31mModuleNotFoundError\u001b[0m                       Traceback (most recent call last)",
      "\u001b[1;32m<ipython-input-45-085ce3283887>\u001b[0m in \u001b[0;36m<module>\u001b[1;34m\u001b[0m\n\u001b[0;32m      1\u001b[0m \u001b[1;32mfrom\u001b[0m \u001b[0msrc\u001b[0m\u001b[1;33m.\u001b[0m\u001b[0mmetrics\u001b[0m \u001b[1;32mimport\u001b[0m \u001b[0mprecision_at_k\u001b[0m\u001b[1;33m,\u001b[0m \u001b[0mrecall_at_k\u001b[0m\u001b[1;33m\u001b[0m\u001b[1;33m\u001b[0m\u001b[0m\n\u001b[0;32m      2\u001b[0m \u001b[1;32mfrom\u001b[0m \u001b[0msrc\u001b[0m\u001b[1;33m.\u001b[0m\u001b[0mutils\u001b[0m \u001b[1;32mimport\u001b[0m \u001b[0mprefilter_items\u001b[0m\u001b[1;33m\u001b[0m\u001b[1;33m\u001b[0m\u001b[0m\n\u001b[1;32m----> 3\u001b[1;33m \u001b[1;32mfrom\u001b[0m \u001b[0msrc\u001b[0m\u001b[1;33m.\u001b[0m\u001b[0mrecommenders\u001b[0m \u001b[1;32mimport\u001b[0m \u001b[0mMainRecommender\u001b[0m\u001b[1;33m\u001b[0m\u001b[1;33m\u001b[0m\u001b[0m\n\u001b[0m\u001b[0;32m      4\u001b[0m \u001b[1;33m\u001b[0m\u001b[0m\n",
      "\u001b[1;31mModuleNotFoundError\u001b[0m: No module named 'src.recommenders'"
     ]
    }
   ],
   "source": [
    "from src.metrics import precision_at_k, recall_at_k\n",
    "from src.utils import prefilter_items\n",
    "from src.recommenders import MainRecommender\n",
    "\n"
   ]
  },
  {
   "cell_type": "code",
   "execution_count": null,
   "metadata": {},
   "outputs": [],
   "source": []
  }
 ],
 "metadata": {
  "kernelspec": {
   "display_name": "Python 3",
   "language": "python",
   "name": "python3"
  },
  "language_info": {
   "codemirror_mode": {
    "name": "ipython",
    "version": 3
   },
   "file_extension": ".py",
   "mimetype": "text/x-python",
   "name": "python",
   "nbconvert_exporter": "python",
   "pygments_lexer": "ipython3",
   "version": "3.8.3"
  }
 },
 "nbformat": 4,
 "nbformat_minor": 2
}
