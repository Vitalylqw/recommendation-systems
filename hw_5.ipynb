{
 "cells": [
  {
   "cell_type": "markdown",
   "metadata": {},
   "source": [
    "## Теоретическая часть"
   ]
  },
  {
   "cell_type": "markdown",
   "metadata": {},
   "source": [
    "\n",
    "1. Ответьте на вопросы:  \n",
    "В чем принципиальное отличие гибридных рекомендательных систем от коллаборативной филтьтрации?  \n",
    "Приведите 2-3 примера задач, в которых необходимо использовать гибридные системы  \n",
    "\n",
    "\n"
   ]
  },
  {
   "cell_type": "markdown",
   "metadata": {},
   "source": [
    "2.  Прочитайте статью про поиск на hh.ru https://habr.com/ru/company/hh/blog/347276/\n",
    "Нам интересна именно рекомендательная система, раздел \"Производительность системы\" можно пропустить\n",
    "Какие основные отличия предложенной системы от тех подходов, которые мы разбирали на семинарах? Какие проблемы могут возникнуть при выводе такой модели в продакшен?"
   ]
  },
  {
   "cell_type": "markdown",
   "metadata": {},
   "source": [
    "3. На вебинаре мы рассматривали модель LightFM (https://making.lyst.com/lightfm/docs/lightfm.html). В работе Data Scientist'а важную часть занимает research - исследование существующих архитектур и разбор научных статей, в которых они описываются. Вам предлагается изчуть оригинальную статью про LightFM https://arxiv.org/pdf/1507.08439.pdf и ответить на следующие вопросы:  \n",
    "1) Какой датасет используют авторы?  \n",
    "2) Что используют в качестве признаков?  \n",
    "3) С какими моделями сравнивают LightFM? Опишите их основные идеи кратко  "
   ]
  },
  {
   "cell_type": "markdown",
   "metadata": {},
   "source": [
    "## Практическая часть\n"
   ]
  },
  {
   "cell_type": "code",
   "execution_count": 3,
   "metadata": {},
   "outputs": [],
   "source": [
    "import lightfm\n",
    "import pandas as pd\n",
    "import numpy as np\n",
    "import matplotlib.pyplot as plt\n",
    "%matplotlib inline\n",
    "\n",
    "# Для работы с матрицами\n",
    "from scipy.sparse import csr_matrix, coo_matrix\n",
    "\n",
    "# Матричная факторизация\n",
    "from implicit.als import AlternatingLeastSquares\n",
    "from implicit.nearest_neighbours import bm25_weight, tfidf_weight\n",
    "\n",
    "from lightfm import LightFM\n",
    "# from lightfm.evaluation import precision_at_k, recall_at_k\n",
    "\n",
    "# Функции из 1-ого вебинара\n",
    "import os, sys\n",
    "\n",
    "module_path = os.path.abspath(os.path.join(os.pardir))\n",
    "if module_path not in sys.path:\n",
    "    sys.path.append(module_path)\n",
    "from src.recommenders import MainRecommender    \n",
    "from src.metrics import precision_at_k, recall_at_k\n",
    "from src.utils import prefilter_items_top_n_999999\n",
    "import lightfm.evaluation\n",
    "pr = lightfm.evaluation.precision_at_k"
   ]
  },
  {
   "cell_type": "code",
   "execution_count": 151,
   "metadata": {},
   "outputs": [],
   "source": [
    "# Подготовка данных\n",
    "data = pd.read_csv('../data/retail_train.csv')\n",
    "item_features = pd.read_csv('../data/product.csv')\n",
    "user_features = pd.read_csv('../data/hh_demographic.csv')\n",
    "\n",
    "# column processing\n",
    "item_features.columns = [col.lower() for col in item_features.columns]\n",
    "user_features.columns = [col.lower() for col in user_features.columns]\n",
    "\n",
    "item_features.rename(columns={'product_id': 'item_id'}, inplace=True)\n",
    "user_features.rename(columns={'household_key': 'user_id'}, inplace=True)\n",
    "\n",
    "# train test split\n",
    "test_size_weeks = 3\n",
    "\n",
    "data_train = data[data['week_no'] < data['week_no'].max() - test_size_weeks]\n",
    "data_test = data[data['week_no'] >= data['week_no'].max() - test_size_weeks]\n",
    "\n",
    "\n",
    "data_train = prefilter_items_top_n_999999(data_train)\n",
    "\n",
    "user_item_matrix = pd.pivot_table(data_train, \n",
    "                                  index='user_id', columns='item_id', \n",
    "                                  values='quantity', # Можно пробоват ьдругие варианты\n",
    "                                  aggfunc='count', \n",
    "                                  fill_value=0\n",
    "                                 )\n",
    "\n",
    "user_item_matrix = user_item_matrix.astype(float) # необходимый тип матрицы для implicit\n",
    "\n",
    "# переведем в формат sparse matrix\n",
    "sparse_user_item = csr_matrix(user_item_matrix).tocsr()\n",
    "\n",
    "test_user_item_matrix = pd.pivot_table(data_test, \n",
    "                                  index='user_id', columns='item_id', \n",
    "                                  values='quantity', # Можно пробоват ьдругие варианты\n",
    "                                  aggfunc='count', \n",
    "                                  fill_value=0\n",
    "                                 )\n",
    "\n",
    "test_user_item_matrix = user_item_matrix.astype(float) # необходимый тип матрицы для implicit\n",
    "# переведем в формат sparse matrix\n",
    "sparse_test_user_item = csr_matrix(test_user_item_matrix).tocsr()\n",
    "\n",
    "userids = user_item_matrix.index.values\n",
    "itemids = user_item_matrix.columns.values\n",
    "\n",
    "matrix_userids = np.arange(len(userids))\n",
    "matrix_itemids = np.arange(len(itemids))\n",
    "\n",
    "id_to_itemid = dict(zip(matrix_itemids, itemids))\n",
    "id_to_userid = dict(zip(matrix_userids, userids))\n",
    "\n",
    "itemid_to_id = dict(zip(itemids, matrix_itemids))\n",
    "userid_to_id = dict(zip(userids, matrix_userids))\n",
    "\n",
    "result = data_test.groupby('user_id')['item_id'].unique().reset_index()\n",
    "result.columns=['user_id', 'actual']\n"
   ]
  },
  {
   "cell_type": "markdown",
   "metadata": {},
   "source": [
    "### Работа с признаками"
   ]
  },
  {
   "cell_type": "markdown",
   "metadata": {},
   "source": [
    "У нас есть внешние данные. Что с ними не так? Чего не хватает?  \n",
    "\n",
    "Проведите исследование внешних данных и составьте какие-нибудь содержательные выводы.  \n",
    "Формально Вам нужно построить 3+ графиков (scatter plot, hist или что-то иное) и описать, что мы видим (например, товары такой-то категории болле часто покупаются в следующие дни недели или пользователи с большим достатком предпочитают такие-то товары).  \n",
    "Исследуйте те закономерности, которые Вам интересно, чем менее тривиальный вывод получается, тем лучше! "
   ]
  },
  {
   "cell_type": "code",
   "execution_count": 113,
   "metadata": {},
   "outputs": [],
   "source": [
    "user_feat = pd.DataFrame(user_item_matrix.index)\n",
    "user_feat = user_feat.merge(user_features, on='user_id', how='left')\n",
    "user_feat.set_index('user_id', inplace=True)\n",
    "\n",
    "item_feat = pd.DataFrame(user_item_matrix.columns)\n",
    "item_feat = item_feat.merge(item_features, on='item_id', how='left')\n",
    "item_feat.set_index('item_id', inplace=True)"
   ]
  },
  {
   "cell_type": "code",
   "execution_count": 114,
   "metadata": {},
   "outputs": [
    {
     "data": {
      "text/html": [
       "<div>\n",
       "<style scoped>\n",
       "    .dataframe tbody tr th:only-of-type {\n",
       "        vertical-align: middle;\n",
       "    }\n",
       "\n",
       "    .dataframe tbody tr th {\n",
       "        vertical-align: top;\n",
       "    }\n",
       "\n",
       "    .dataframe thead th {\n",
       "        text-align: right;\n",
       "    }\n",
       "</style>\n",
       "<table border=\"1\" class=\"dataframe\">\n",
       "  <thead>\n",
       "    <tr style=\"text-align: right;\">\n",
       "      <th></th>\n",
       "      <th>age_desc</th>\n",
       "      <th>marital_status_code</th>\n",
       "      <th>income_desc</th>\n",
       "      <th>homeowner_desc</th>\n",
       "      <th>hh_comp_desc</th>\n",
       "      <th>household_size_desc</th>\n",
       "      <th>kid_category_desc</th>\n",
       "    </tr>\n",
       "    <tr>\n",
       "      <th>user_id</th>\n",
       "      <th></th>\n",
       "      <th></th>\n",
       "      <th></th>\n",
       "      <th></th>\n",
       "      <th></th>\n",
       "      <th></th>\n",
       "      <th></th>\n",
       "    </tr>\n",
       "  </thead>\n",
       "  <tbody>\n",
       "    <tr>\n",
       "      <th>1</th>\n",
       "      <td>65+</td>\n",
       "      <td>A</td>\n",
       "      <td>35-49K</td>\n",
       "      <td>Homeowner</td>\n",
       "      <td>2 Adults No Kids</td>\n",
       "      <td>2</td>\n",
       "      <td>None/Unknown</td>\n",
       "    </tr>\n",
       "    <tr>\n",
       "      <th>2</th>\n",
       "      <td>NaN</td>\n",
       "      <td>NaN</td>\n",
       "      <td>NaN</td>\n",
       "      <td>NaN</td>\n",
       "      <td>NaN</td>\n",
       "      <td>NaN</td>\n",
       "      <td>NaN</td>\n",
       "    </tr>\n",
       "    <tr>\n",
       "      <th>3</th>\n",
       "      <td>NaN</td>\n",
       "      <td>NaN</td>\n",
       "      <td>NaN</td>\n",
       "      <td>NaN</td>\n",
       "      <td>NaN</td>\n",
       "      <td>NaN</td>\n",
       "      <td>NaN</td>\n",
       "    </tr>\n",
       "    <tr>\n",
       "      <th>4</th>\n",
       "      <td>NaN</td>\n",
       "      <td>NaN</td>\n",
       "      <td>NaN</td>\n",
       "      <td>NaN</td>\n",
       "      <td>NaN</td>\n",
       "      <td>NaN</td>\n",
       "      <td>NaN</td>\n",
       "    </tr>\n",
       "    <tr>\n",
       "      <th>5</th>\n",
       "      <td>NaN</td>\n",
       "      <td>NaN</td>\n",
       "      <td>NaN</td>\n",
       "      <td>NaN</td>\n",
       "      <td>NaN</td>\n",
       "      <td>NaN</td>\n",
       "      <td>NaN</td>\n",
       "    </tr>\n",
       "    <tr>\n",
       "      <th>...</th>\n",
       "      <td>...</td>\n",
       "      <td>...</td>\n",
       "      <td>...</td>\n",
       "      <td>...</td>\n",
       "      <td>...</td>\n",
       "      <td>...</td>\n",
       "      <td>...</td>\n",
       "    </tr>\n",
       "    <tr>\n",
       "      <th>2496</th>\n",
       "      <td>45-54</td>\n",
       "      <td>A</td>\n",
       "      <td>75-99K</td>\n",
       "      <td>Homeowner</td>\n",
       "      <td>Unknown</td>\n",
       "      <td>3</td>\n",
       "      <td>1</td>\n",
       "    </tr>\n",
       "    <tr>\n",
       "      <th>2497</th>\n",
       "      <td>45-54</td>\n",
       "      <td>U</td>\n",
       "      <td>35-49K</td>\n",
       "      <td>Unknown</td>\n",
       "      <td>Single Male</td>\n",
       "      <td>1</td>\n",
       "      <td>None/Unknown</td>\n",
       "    </tr>\n",
       "    <tr>\n",
       "      <th>2498</th>\n",
       "      <td>25-34</td>\n",
       "      <td>U</td>\n",
       "      <td>50-74K</td>\n",
       "      <td>Homeowner</td>\n",
       "      <td>2 Adults No Kids</td>\n",
       "      <td>2</td>\n",
       "      <td>None/Unknown</td>\n",
       "    </tr>\n",
       "    <tr>\n",
       "      <th>2499</th>\n",
       "      <td>25-34</td>\n",
       "      <td>U</td>\n",
       "      <td>Under 15K</td>\n",
       "      <td>Unknown</td>\n",
       "      <td>2 Adults Kids</td>\n",
       "      <td>3</td>\n",
       "      <td>1</td>\n",
       "    </tr>\n",
       "    <tr>\n",
       "      <th>2500</th>\n",
       "      <td>NaN</td>\n",
       "      <td>NaN</td>\n",
       "      <td>NaN</td>\n",
       "      <td>NaN</td>\n",
       "      <td>NaN</td>\n",
       "      <td>NaN</td>\n",
       "      <td>NaN</td>\n",
       "    </tr>\n",
       "  </tbody>\n",
       "</table>\n",
       "<p>2499 rows × 7 columns</p>\n",
       "</div>"
      ],
      "text/plain": [
       "        age_desc marital_status_code income_desc homeowner_desc  \\\n",
       "user_id                                                           \n",
       "1            65+                   A      35-49K      Homeowner   \n",
       "2            NaN                 NaN         NaN            NaN   \n",
       "3            NaN                 NaN         NaN            NaN   \n",
       "4            NaN                 NaN         NaN            NaN   \n",
       "5            NaN                 NaN         NaN            NaN   \n",
       "...          ...                 ...         ...            ...   \n",
       "2496       45-54                   A      75-99K      Homeowner   \n",
       "2497       45-54                   U      35-49K        Unknown   \n",
       "2498       25-34                   U      50-74K      Homeowner   \n",
       "2499       25-34                   U   Under 15K        Unknown   \n",
       "2500         NaN                 NaN         NaN            NaN   \n",
       "\n",
       "             hh_comp_desc household_size_desc kid_category_desc  \n",
       "user_id                                                          \n",
       "1        2 Adults No Kids                   2      None/Unknown  \n",
       "2                     NaN                 NaN               NaN  \n",
       "3                     NaN                 NaN               NaN  \n",
       "4                     NaN                 NaN               NaN  \n",
       "5                     NaN                 NaN               NaN  \n",
       "...                   ...                 ...               ...  \n",
       "2496              Unknown                   3                 1  \n",
       "2497          Single Male                   1      None/Unknown  \n",
       "2498     2 Adults No Kids                   2      None/Unknown  \n",
       "2499        2 Adults Kids                   3                 1  \n",
       "2500                  NaN                 NaN               NaN  \n",
       "\n",
       "[2499 rows x 7 columns]"
      ]
     },
     "execution_count": 114,
     "metadata": {},
     "output_type": "execute_result"
    }
   ],
   "source": [
    "user_feat"
   ]
  },
  {
   "cell_type": "code",
   "execution_count": 115,
   "metadata": {},
   "outputs": [
    {
     "name": "stdout",
     "output_type": "stream",
     "text": [
      "<class 'pandas.core.frame.DataFrame'>\n",
      "Int64Index: 2499 entries, 1 to 2500\n",
      "Data columns (total 7 columns):\n",
      " #   Column               Non-Null Count  Dtype \n",
      "---  ------               --------------  ----- \n",
      " 0   age_desc             801 non-null    object\n",
      " 1   marital_status_code  801 non-null    object\n",
      " 2   income_desc          801 non-null    object\n",
      " 3   homeowner_desc       801 non-null    object\n",
      " 4   hh_comp_desc         801 non-null    object\n",
      " 5   household_size_desc  801 non-null    object\n",
      " 6   kid_category_desc    801 non-null    object\n",
      "dtypes: object(7)\n",
      "memory usage: 156.2+ KB\n"
     ]
    }
   ],
   "source": [
    "user_feat.info()"
   ]
  },
  {
   "cell_type": "code",
   "execution_count": 116,
   "metadata": {},
   "outputs": [
    {
     "data": {
      "text/plain": [
       "45-54    288\n",
       "35-44    194\n",
       "25-34    142\n",
       "65+       72\n",
       "55-64     59\n",
       "19-24     46\n",
       "Name: age_desc, dtype: int64"
      ]
     },
     "execution_count": 116,
     "metadata": {},
     "output_type": "execute_result"
    }
   ],
   "source": [
    "user_feat.age_desc.value_counts()"
   ]
  },
  {
   "cell_type": "code",
   "execution_count": 117,
   "metadata": {},
   "outputs": [],
   "source": [
    "data_user_item = data.merge(user_feat,on = 'user_id',how='left')\n",
    "data_user_item = data_user_item.merge(item_feat,on='item_id',how = 'left')"
   ]
  },
  {
   "cell_type": "code",
   "execution_count": 118,
   "metadata": {},
   "outputs": [
    {
     "data": {
      "text/html": [
       "<div>\n",
       "<style scoped>\n",
       "    .dataframe tbody tr th:only-of-type {\n",
       "        vertical-align: middle;\n",
       "    }\n",
       "\n",
       "    .dataframe tbody tr th {\n",
       "        vertical-align: top;\n",
       "    }\n",
       "\n",
       "    .dataframe thead th {\n",
       "        text-align: right;\n",
       "    }\n",
       "</style>\n",
       "<table border=\"1\" class=\"dataframe\">\n",
       "  <thead>\n",
       "    <tr style=\"text-align: right;\">\n",
       "      <th></th>\n",
       "      <th>quantity</th>\n",
       "      <th>sales_value</th>\n",
       "    </tr>\n",
       "    <tr>\n",
       "      <th>age_desc</th>\n",
       "      <th></th>\n",
       "      <th></th>\n",
       "    </tr>\n",
       "  </thead>\n",
       "  <tbody>\n",
       "    <tr>\n",
       "      <th>19-24</th>\n",
       "      <td>4846889</td>\n",
       "      <td>2.008357e+05</td>\n",
       "    </tr>\n",
       "    <tr>\n",
       "      <th>25-34</th>\n",
       "      <td>28584229</td>\n",
       "      <td>7.141780e+05</td>\n",
       "    </tr>\n",
       "    <tr>\n",
       "      <th>35-44</th>\n",
       "      <td>44928094</td>\n",
       "      <td>1.147748e+06</td>\n",
       "    </tr>\n",
       "    <tr>\n",
       "      <th>45-54</th>\n",
       "      <td>53623390</td>\n",
       "      <td>1.528941e+06</td>\n",
       "    </tr>\n",
       "    <tr>\n",
       "      <th>55-64</th>\n",
       "      <td>10935733</td>\n",
       "      <td>2.751147e+05</td>\n",
       "    </tr>\n",
       "    <tr>\n",
       "      <th>65+</th>\n",
       "      <td>8357075</td>\n",
       "      <td>2.849592e+05</td>\n",
       "    </tr>\n",
       "  </tbody>\n",
       "</table>\n",
       "</div>"
      ],
      "text/plain": [
       "          quantity   sales_value\n",
       "age_desc                        \n",
       "19-24      4846889  2.008357e+05\n",
       "25-34     28584229  7.141780e+05\n",
       "35-44     44928094  1.147748e+06\n",
       "45-54     53623390  1.528941e+06\n",
       "55-64     10935733  2.751147e+05\n",
       "65+        8357075  2.849592e+05"
      ]
     },
     "execution_count": 118,
     "metadata": {},
     "output_type": "execute_result"
    }
   ],
   "source": [
    "age_desc = data_user_item.groupby(by='age_desc')[['quantity','sales_value']].sum()\n",
    "age_desc"
   ]
  },
  {
   "cell_type": "code",
   "execution_count": 119,
   "metadata": {},
   "outputs": [
    {
     "data": {
      "image/png": "[encoded data removed]",
      "text/plain": [
       "<Figure size 432x288 with 1 Axes>"
      ]
     },
     "metadata": {
      "needs_background": "light"
     },
     "output_type": "display_data"
    },
    {
     "data": {
      "image/png": "[encoded data removed]",
      "text/plain": [
       "<Figure size 432x288 with 1 Axes>"
      ]
     },
     "metadata": {
      "needs_background": "light"
     },
     "output_type": "display_data"
    }
   ],
   "source": [
    "plt.plot(age_desc.index,age_desc['quantity'])\n",
    "plt.title('quantity')\n",
    "plt.show()\n",
    "plt.plot(age_desc.index,age_desc['sales_value'])\n",
    "plt.title('sales_value')\n",
    "plt.show()"
   ]
  },
  {
   "cell_type": "code",
   "execution_count": 120,
   "metadata": {},
   "outputs": [
    {
     "data": {
      "text/html": [
       "<div>\n",
       "<style scoped>\n",
       "    .dataframe tbody tr th:only-of-type {\n",
       "        vertical-align: middle;\n",
       "    }\n",
       "\n",
       "    .dataframe tbody tr th {\n",
       "        vertical-align: top;\n",
       "    }\n",
       "\n",
       "    .dataframe thead th {\n",
       "        text-align: right;\n",
       "    }\n",
       "</style>\n",
       "<table border=\"1\" class=\"dataframe\">\n",
       "  <thead>\n",
       "    <tr style=\"text-align: right;\">\n",
       "      <th></th>\n",
       "      <th>quantity</th>\n",
       "      <th>sales_value</th>\n",
       "    </tr>\n",
       "    <tr>\n",
       "      <th>age_desc</th>\n",
       "      <th></th>\n",
       "      <th></th>\n",
       "    </tr>\n",
       "  </thead>\n",
       "  <tbody>\n",
       "    <tr>\n",
       "      <th>19-24</th>\n",
       "      <td>4846889</td>\n",
       "      <td>2.008357e+05</td>\n",
       "    </tr>\n",
       "    <tr>\n",
       "      <th>55-64</th>\n",
       "      <td>10935733</td>\n",
       "      <td>2.751147e+05</td>\n",
       "    </tr>\n",
       "    <tr>\n",
       "      <th>65+</th>\n",
       "      <td>8357075</td>\n",
       "      <td>2.849592e+05</td>\n",
       "    </tr>\n",
       "    <tr>\n",
       "      <th>25-34</th>\n",
       "      <td>28584229</td>\n",
       "      <td>7.141780e+05</td>\n",
       "    </tr>\n",
       "    <tr>\n",
       "      <th>35-44</th>\n",
       "      <td>44928094</td>\n",
       "      <td>1.147748e+06</td>\n",
       "    </tr>\n",
       "    <tr>\n",
       "      <th>45-54</th>\n",
       "      <td>53623390</td>\n",
       "      <td>1.528941e+06</td>\n",
       "    </tr>\n",
       "  </tbody>\n",
       "</table>\n",
       "</div>"
      ],
      "text/plain": [
       "          quantity   sales_value\n",
       "age_desc                        \n",
       "19-24      4846889  2.008357e+05\n",
       "55-64     10935733  2.751147e+05\n",
       "65+        8357075  2.849592e+05\n",
       "25-34     28584229  7.141780e+05\n",
       "35-44     44928094  1.147748e+06\n",
       "45-54     53623390  1.528941e+06"
      ]
     },
     "execution_count": 120,
     "metadata": {},
     "output_type": "execute_result"
    }
   ],
   "source": [
    "age_desc.sort_values(by='sales_value')"
   ]
  },
  {
   "cell_type": "code",
   "execution_count": 121,
   "metadata": {},
   "outputs": [],
   "source": [
    "lst = age_desc.sort_values(by='quantity').index.to_list()\n",
    "map_dict = dict(zip(lst,range(1,len(lst)+1)))\n",
    "user_feat['age_desc'] = user_feat['age_desc'].map(map_dict)"
   ]
  },
  {
   "cell_type": "code",
   "execution_count": null,
   "metadata": {},
   "outputs": [],
   "source": []
  },
  {
   "cell_type": "code",
   "execution_count": 122,
   "metadata": {},
   "outputs": [
    {
     "data": {
      "text/plain": [
       "{'19-24': 1, '65+': 2, '55-64': 3, '25-34': 4, '35-44': 5, '45-54': 6}"
      ]
     },
     "execution_count": 122,
     "metadata": {},
     "output_type": "execute_result"
    }
   ],
   "source": [
    "map_dict"
   ]
  },
  {
   "cell_type": "code",
   "execution_count": 123,
   "metadata": {
    "scrolled": false
   },
   "outputs": [
    {
     "name": "stdout",
     "output_type": "stream",
     "text": [
      "=========================   marital_status_code   =========================\n",
      "                     quantity   sales_value\n",
      "marital_status_code                        \n",
      "A                    75479574  1.924136e+06\n",
      "B                    17424858  5.521240e+05\n",
      "U                    58370978  1.675517e+06\n"
     ]
    },
    {
     "data": {
      "image/png": "[encoded data removed]",
      "text/plain": [
       "<Figure size 432x288 with 1 Axes>"
      ]
     },
     "metadata": {
      "needs_background": "light"
     },
     "output_type": "display_data"
    },
    {
     "data": {
      "image/png": "[encoded data removed]",
      "text/plain": [
       "<Figure size 432x288 with 1 Axes>"
      ]
     },
     "metadata": {
      "needs_background": "light"
     },
     "output_type": "display_data"
    },
    {
     "name": "stdout",
     "output_type": "stream",
     "text": [
      "                     quantity   sales_value\n",
      "marital_status_code                        \n",
      "B                    17424858  5.521240e+05\n",
      "U                    58370978  1.675517e+06\n",
      "A                    75479574  1.924136e+06\n",
      "=========================   income_desc   =========================\n",
      "             quantity   sales_value\n",
      "income_desc                        \n",
      "100-124K     10007250  1.868494e+05\n",
      "125-149K     12378268  2.772141e+05\n",
      "15-24K        7559227  2.846853e+05\n",
      "150-174K      9575452  2.323302e+05\n",
      "175-199K      3208442  8.805055e+04\n",
      "200-249K       183266  2.535137e+04\n",
      "25-34K       10116978  3.503746e+05\n",
      "250K+         1634965  1.094730e+05\n",
      "35-49K       26364096  7.635334e+05\n",
      "50-74K       40428379  1.006854e+06\n",
      "75-99K       19933129  5.129857e+05\n",
      "Under 15K     9885958  3.140754e+05\n"
     ]
    },
    {
     "data": {
      "image/png": "[encoded data removed]",
      "text/plain": [
       "<Figure size 432x288 with 1 Axes>"
      ]
     },
     "metadata": {
      "needs_background": "light"
     },
     "output_type": "display_data"
    },
    {
     "data": {
      "image/png": "[encoded data removed]",
      "text/plain": [
       "<Figure size 432x288 with 1 Axes>"
      ]
     },
     "metadata": {
      "needs_background": "light"
     },
     "output_type": "display_data"
    },
    {
     "name": "stdout",
     "output_type": "stream",
     "text": [
      "             quantity   sales_value\n",
      "income_desc                        \n",
      "200-249K       183266  2.535137e+04\n",
      "250K+         1634965  1.094730e+05\n",
      "175-199K      3208442  8.805055e+04\n",
      "15-24K        7559227  2.846853e+05\n",
      "150-174K      9575452  2.323302e+05\n",
      "Under 15K     9885958  3.140754e+05\n",
      "100-124K     10007250  1.868494e+05\n",
      "25-34K       10116978  3.503746e+05\n",
      "125-149K     12378268  2.772141e+05\n",
      "75-99K       19933129  5.129857e+05\n",
      "35-49K       26364096  7.635334e+05\n",
      "50-74K       40428379  1.006854e+06\n",
      "=========================   homeowner_desc   =========================\n",
      "                  quantity   sales_value\n",
      "homeowner_desc                          \n",
      "Homeowner        112198864  2.799809e+06\n",
      "Probable Owner      992558  5.016835e+04\n",
      "Probable Renter    1568508  4.328006e+04\n",
      "Renter             7858536  2.192285e+05\n",
      "Unknown           28656944  1.039291e+06\n"
     ]
    },
    {
     "data": {
      "image/png": "[encoded data removed]",
      "text/plain": [
       "<Figure size 432x288 with 1 Axes>"
      ]
     },
     "metadata": {
      "needs_background": "light"
     },
     "output_type": "display_data"
    },
    {
     "data": {
      "image/png": "[encoded data removed]",
      "text/plain": [
       "<Figure size 432x288 with 1 Axes>"
      ]
     },
     "metadata": {
      "needs_background": "light"
     },
     "output_type": "display_data"
    },
    {
     "name": "stdout",
     "output_type": "stream",
     "text": [
      "                  quantity   sales_value\n",
      "homeowner_desc                          \n",
      "Probable Owner      992558  5.016835e+04\n",
      "Probable Renter    1568508  4.328006e+04\n",
      "Renter             7858536  2.192285e+05\n",
      "Unknown           28656944  1.039291e+06\n",
      "Homeowner        112198864  2.799809e+06\n",
      "=========================   hh_comp_desc   =========================\n",
      "                  quantity   sales_value\n",
      "hh_comp_desc                            \n",
      "1 Adult Kids       6619539  2.626599e+05\n",
      "2 Adults Kids     44935705  1.115958e+06\n",
      "2 Adults No Kids  49844064  1.342827e+06\n",
      "Single Female     20721795  6.540686e+05\n",
      "Single Male       14706709  4.261841e+05\n",
      "Unknown           14447598  3.500797e+05\n"
     ]
    },
    {
     "data": {
      "image/png": "[encoded data removed]",
      "text/plain": [
       "<Figure size 432x288 with 1 Axes>"
      ]
     },
     "metadata": {
      "needs_background": "light"
     },
     "output_type": "display_data"
    },
    {
     "data": {
      "image/png": "[encoded data removed]",
      "text/plain": [
       "<Figure size 432x288 with 1 Axes>"
      ]
     },
     "metadata": {
      "needs_background": "light"
     },
     "output_type": "display_data"
    },
    {
     "name": "stdout",
     "output_type": "stream",
     "text": [
      "                  quantity   sales_value\n",
      "hh_comp_desc                            \n",
      "1 Adult Kids       6619539  2.626599e+05\n",
      "Unknown           14447598  3.500797e+05\n",
      "Single Male       14706709  4.261841e+05\n",
      "Single Female     20721795  6.540686e+05\n",
      "2 Adults Kids     44935705  1.115958e+06\n",
      "2 Adults No Kids  49844064  1.342827e+06\n",
      "=========================   household_size_desc   =========================\n",
      "                     quantity   sales_value\n",
      "household_size_desc                        \n",
      "1                    42385153  1.185910e+06\n",
      "2                    58795748  1.627200e+06\n",
      "3                    18008674  6.099043e+05\n",
      "4                    15898975  3.230430e+05\n",
      "5+                   16186860  4.057199e+05\n"
     ]
    },
    {
     "data": {
      "image/png": "[encoded data removed]",
      "text/plain": [
       "<Figure size 432x288 with 1 Axes>"
      ]
     },
     "metadata": {
      "needs_background": "light"
     },
     "output_type": "display_data"
    },
    {
     "data": {
      "image/png": "[encoded data removed]",
      "text/plain": [
       "<Figure size 432x288 with 1 Axes>"
      ]
     },
     "metadata": {
      "needs_background": "light"
     },
     "output_type": "display_data"
    },
    {
     "name": "stdout",
     "output_type": "stream",
     "text": [
      "                     quantity   sales_value\n",
      "household_size_desc                        \n",
      "4                    15898975  3.230430e+05\n",
      "5+                   16186860  4.057199e+05\n",
      "3                    18008674  6.099043e+05\n",
      "1                    42385153  1.185910e+06\n",
      "2                    58795748  1.627200e+06\n",
      "=========================   kid_category_desc   =========================\n",
      "                   quantity   sales_value\n",
      "kid_category_desc                        \n",
      "1                  19253512  6.182177e+05\n",
      "2                  16206209  3.737513e+05\n",
      "3+                 16832830  4.268073e+05\n",
      "None/Unknown       98982859  2.733000e+06\n"
     ]
    },
    {
     "data": {
      "image/png": "[encoded data removed]",
      "text/plain": [
       "<Figure size 432x288 with 1 Axes>"
      ]
     },
     "metadata": {
      "needs_background": "light"
     },
     "output_type": "display_data"
    },
    {
     "data": {
      "image/png": "[encoded data removed]",
      "text/plain": [
       "<Figure size 432x288 with 1 Axes>"
      ]
     },
     "metadata": {
      "needs_background": "light"
     },
     "output_type": "display_data"
    },
    {
     "name": "stdout",
     "output_type": "stream",
     "text": [
      "                   quantity   sales_value\n",
      "kid_category_desc                        \n",
      "2                  16206209  3.737513e+05\n",
      "3+                 16832830  4.268073e+05\n",
      "1                  19253512  6.182177e+05\n",
      "None/Unknown       98982859  2.733000e+06\n"
     ]
    }
   ],
   "source": [
    "for i in user_feat.columns.to_list()[1:]:\n",
    "    print(25*'='+'   ' + i + '   ' + 25*'=')\n",
    "    df = data_user_item.groupby(by=i)[['quantity','sales_value']].sum()\n",
    "    print(df)\n",
    "    plt.plot(df.index,df['quantity'])\n",
    "    plt.title('quantity')\n",
    "    plt.show()\n",
    "    plt.plot(df.index,df['sales_value'])\n",
    "    plt.title('sales_value')\n",
    "    plt.show()\n",
    "    print(df.sort_values(by='quantity'))\n",
    "    lst = df.sort_values(by='quantity').index.to_list()\n",
    "    map_dict = dict(zip(lst,range(1,len(lst)+1)))\n",
    "    user_feat[i] = user_feat[i].map(map_dict)\n",
    "    "
   ]
  },
  {
   "cell_type": "code",
   "execution_count": 133,
   "metadata": {},
   "outputs": [],
   "source": [
    "user_feat.fillna(0,inplace=True)"
   ]
  },
  {
   "cell_type": "code",
   "execution_count": 134,
   "metadata": {},
   "outputs": [
    {
     "name": "stdout",
     "output_type": "stream",
     "text": [
      "<class 'pandas.core.frame.DataFrame'>\n",
      "Int64Index: 2499 entries, 1 to 2500\n",
      "Data columns (total 7 columns):\n",
      " #   Column               Non-Null Count  Dtype  \n",
      "---  ------               --------------  -----  \n",
      " 0   age_desc             2499 non-null   float64\n",
      " 1   marital_status_code  2499 non-null   float64\n",
      " 2   income_desc          2499 non-null   float64\n",
      " 3   homeowner_desc       2499 non-null   float64\n",
      " 4   hh_comp_desc         2499 non-null   float64\n",
      " 5   household_size_desc  2499 non-null   float64\n",
      " 6   kid_category_desc    2499 non-null   float64\n",
      "dtypes: float64(7)\n",
      "memory usage: 156.2 KB\n"
     ]
    }
   ],
   "source": [
    "user_feat.info()"
   ]
  },
  {
   "cell_type": "code",
   "execution_count": 135,
   "metadata": {},
   "outputs": [
    {
     "data": {
      "text/html": [
       "<div>\n",
       "<style scoped>\n",
       "    .dataframe tbody tr th:only-of-type {\n",
       "        vertical-align: middle;\n",
       "    }\n",
       "\n",
       "    .dataframe tbody tr th {\n",
       "        vertical-align: top;\n",
       "    }\n",
       "\n",
       "    .dataframe thead th {\n",
       "        text-align: right;\n",
       "    }\n",
       "</style>\n",
       "<table border=\"1\" class=\"dataframe\">\n",
       "  <thead>\n",
       "    <tr style=\"text-align: right;\">\n",
       "      <th></th>\n",
       "      <th>age_desc</th>\n",
       "      <th>marital_status_code</th>\n",
       "      <th>income_desc</th>\n",
       "      <th>homeowner_desc</th>\n",
       "      <th>hh_comp_desc</th>\n",
       "      <th>household_size_desc</th>\n",
       "      <th>kid_category_desc</th>\n",
       "    </tr>\n",
       "  </thead>\n",
       "  <tbody>\n",
       "    <tr>\n",
       "      <th>count</th>\n",
       "      <td>2499.000000</td>\n",
       "      <td>2499.000000</td>\n",
       "      <td>2499.000000</td>\n",
       "      <td>2499.000000</td>\n",
       "      <td>2499.000000</td>\n",
       "      <td>2499.000000</td>\n",
       "      <td>2499.000000</td>\n",
       "    </tr>\n",
       "    <tr>\n",
       "      <th>mean</th>\n",
       "      <td>1.453782</td>\n",
       "      <td>0.730292</td>\n",
       "      <td>2.890756</td>\n",
       "      <td>1.444978</td>\n",
       "      <td>1.408163</td>\n",
       "      <td>1.249300</td>\n",
       "      <td>1.109244</td>\n",
       "    </tr>\n",
       "    <tr>\n",
       "      <th>std</th>\n",
       "      <td>2.287696</td>\n",
       "      <td>1.135393</td>\n",
       "      <td>4.524074</td>\n",
       "      <td>2.149644</td>\n",
       "      <td>2.227788</td>\n",
       "      <td>1.942703</td>\n",
       "      <td>1.699524</td>\n",
       "    </tr>\n",
       "    <tr>\n",
       "      <th>min</th>\n",
       "      <td>0.000000</td>\n",
       "      <td>0.000000</td>\n",
       "      <td>0.000000</td>\n",
       "      <td>0.000000</td>\n",
       "      <td>0.000000</td>\n",
       "      <td>0.000000</td>\n",
       "      <td>0.000000</td>\n",
       "    </tr>\n",
       "    <tr>\n",
       "      <th>25%</th>\n",
       "      <td>0.000000</td>\n",
       "      <td>0.000000</td>\n",
       "      <td>0.000000</td>\n",
       "      <td>0.000000</td>\n",
       "      <td>0.000000</td>\n",
       "      <td>0.000000</td>\n",
       "      <td>0.000000</td>\n",
       "    </tr>\n",
       "    <tr>\n",
       "      <th>50%</th>\n",
       "      <td>0.000000</td>\n",
       "      <td>0.000000</td>\n",
       "      <td>0.000000</td>\n",
       "      <td>0.000000</td>\n",
       "      <td>0.000000</td>\n",
       "      <td>0.000000</td>\n",
       "      <td>0.000000</td>\n",
       "    </tr>\n",
       "    <tr>\n",
       "      <th>75%</th>\n",
       "      <td>3.000000</td>\n",
       "      <td>2.000000</td>\n",
       "      <td>6.000000</td>\n",
       "      <td>4.000000</td>\n",
       "      <td>3.000000</td>\n",
       "      <td>3.000000</td>\n",
       "      <td>3.000000</td>\n",
       "    </tr>\n",
       "    <tr>\n",
       "      <th>max</th>\n",
       "      <td>6.000000</td>\n",
       "      <td>3.000000</td>\n",
       "      <td>12.000000</td>\n",
       "      <td>5.000000</td>\n",
       "      <td>6.000000</td>\n",
       "      <td>5.000000</td>\n",
       "      <td>4.000000</td>\n",
       "    </tr>\n",
       "  </tbody>\n",
       "</table>\n",
       "</div>"
      ],
      "text/plain": [
       "          age_desc  marital_status_code  income_desc  homeowner_desc  \\\n",
       "count  2499.000000          2499.000000  2499.000000     2499.000000   \n",
       "mean      1.453782             0.730292     2.890756        1.444978   \n",
       "std       2.287696             1.135393     4.524074        2.149644   \n",
       "min       0.000000             0.000000     0.000000        0.000000   \n",
       "25%       0.000000             0.000000     0.000000        0.000000   \n",
       "50%       0.000000             0.000000     0.000000        0.000000   \n",
       "75%       3.000000             2.000000     6.000000        4.000000   \n",
       "max       6.000000             3.000000    12.000000        5.000000   \n",
       "\n",
       "       hh_comp_desc  household_size_desc  kid_category_desc  \n",
       "count   2499.000000          2499.000000        2499.000000  \n",
       "mean       1.408163             1.249300           1.109244  \n",
       "std        2.227788             1.942703           1.699524  \n",
       "min        0.000000             0.000000           0.000000  \n",
       "25%        0.000000             0.000000           0.000000  \n",
       "50%        0.000000             0.000000           0.000000  \n",
       "75%        3.000000             3.000000           3.000000  \n",
       "max        6.000000             5.000000           4.000000  "
      ]
     },
     "execution_count": 135,
     "metadata": {},
     "output_type": "execute_result"
    }
   ],
   "source": [
    "user_feat.describe()"
   ]
  },
  {
   "cell_type": "code",
   "execution_count": 126,
   "metadata": {},
   "outputs": [
    {
     "data": {
      "text/html": [
       "<div>\n",
       "<style scoped>\n",
       "    .dataframe tbody tr th:only-of-type {\n",
       "        vertical-align: middle;\n",
       "    }\n",
       "\n",
       "    .dataframe tbody tr th {\n",
       "        vertical-align: top;\n",
       "    }\n",
       "\n",
       "    .dataframe thead th {\n",
       "        text-align: right;\n",
       "    }\n",
       "</style>\n",
       "<table border=\"1\" class=\"dataframe\">\n",
       "  <thead>\n",
       "    <tr style=\"text-align: right;\">\n",
       "      <th></th>\n",
       "      <th>age_desc</th>\n",
       "      <th>marital_status_code</th>\n",
       "      <th>income_desc</th>\n",
       "      <th>homeowner_desc</th>\n",
       "      <th>hh_comp_desc</th>\n",
       "      <th>household_size_desc</th>\n",
       "      <th>kid_category_desc</th>\n",
       "    </tr>\n",
       "    <tr>\n",
       "      <th>user_id</th>\n",
       "      <th></th>\n",
       "      <th></th>\n",
       "      <th></th>\n",
       "      <th></th>\n",
       "      <th></th>\n",
       "      <th></th>\n",
       "      <th></th>\n",
       "    </tr>\n",
       "  </thead>\n",
       "  <tbody>\n",
       "    <tr>\n",
       "      <th>1</th>\n",
       "      <td>2.0</td>\n",
       "      <td>3.0</td>\n",
       "      <td>11.0</td>\n",
       "      <td>5.0</td>\n",
       "      <td>6.0</td>\n",
       "      <td>5.0</td>\n",
       "      <td>4.0</td>\n",
       "    </tr>\n",
       "    <tr>\n",
       "      <th>2</th>\n",
       "      <td>NaN</td>\n",
       "      <td>NaN</td>\n",
       "      <td>NaN</td>\n",
       "      <td>NaN</td>\n",
       "      <td>NaN</td>\n",
       "      <td>NaN</td>\n",
       "      <td>NaN</td>\n",
       "    </tr>\n",
       "    <tr>\n",
       "      <th>3</th>\n",
       "      <td>NaN</td>\n",
       "      <td>NaN</td>\n",
       "      <td>NaN</td>\n",
       "      <td>NaN</td>\n",
       "      <td>NaN</td>\n",
       "      <td>NaN</td>\n",
       "      <td>NaN</td>\n",
       "    </tr>\n",
       "    <tr>\n",
       "      <th>4</th>\n",
       "      <td>NaN</td>\n",
       "      <td>NaN</td>\n",
       "      <td>NaN</td>\n",
       "      <td>NaN</td>\n",
       "      <td>NaN</td>\n",
       "      <td>NaN</td>\n",
       "      <td>NaN</td>\n",
       "    </tr>\n",
       "    <tr>\n",
       "      <th>5</th>\n",
       "      <td>NaN</td>\n",
       "      <td>NaN</td>\n",
       "      <td>NaN</td>\n",
       "      <td>NaN</td>\n",
       "      <td>NaN</td>\n",
       "      <td>NaN</td>\n",
       "      <td>NaN</td>\n",
       "    </tr>\n",
       "    <tr>\n",
       "      <th>...</th>\n",
       "      <td>...</td>\n",
       "      <td>...</td>\n",
       "      <td>...</td>\n",
       "      <td>...</td>\n",
       "      <td>...</td>\n",
       "      <td>...</td>\n",
       "      <td>...</td>\n",
       "    </tr>\n",
       "    <tr>\n",
       "      <th>2496</th>\n",
       "      <td>6.0</td>\n",
       "      <td>3.0</td>\n",
       "      <td>10.0</td>\n",
       "      <td>5.0</td>\n",
       "      <td>2.0</td>\n",
       "      <td>3.0</td>\n",
       "      <td>3.0</td>\n",
       "    </tr>\n",
       "    <tr>\n",
       "      <th>2497</th>\n",
       "      <td>6.0</td>\n",
       "      <td>2.0</td>\n",
       "      <td>11.0</td>\n",
       "      <td>4.0</td>\n",
       "      <td>3.0</td>\n",
       "      <td>4.0</td>\n",
       "      <td>4.0</td>\n",
       "    </tr>\n",
       "    <tr>\n",
       "      <th>2498</th>\n",
       "      <td>4.0</td>\n",
       "      <td>2.0</td>\n",
       "      <td>12.0</td>\n",
       "      <td>5.0</td>\n",
       "      <td>6.0</td>\n",
       "      <td>5.0</td>\n",
       "      <td>4.0</td>\n",
       "    </tr>\n",
       "    <tr>\n",
       "      <th>2499</th>\n",
       "      <td>4.0</td>\n",
       "      <td>2.0</td>\n",
       "      <td>6.0</td>\n",
       "      <td>4.0</td>\n",
       "      <td>5.0</td>\n",
       "      <td>3.0</td>\n",
       "      <td>3.0</td>\n",
       "    </tr>\n",
       "    <tr>\n",
       "      <th>2500</th>\n",
       "      <td>NaN</td>\n",
       "      <td>NaN</td>\n",
       "      <td>NaN</td>\n",
       "      <td>NaN</td>\n",
       "      <td>NaN</td>\n",
       "      <td>NaN</td>\n",
       "      <td>NaN</td>\n",
       "    </tr>\n",
       "  </tbody>\n",
       "</table>\n",
       "<p>2499 rows × 7 columns</p>\n",
       "</div>"
      ],
      "text/plain": [
       "         age_desc  marital_status_code  income_desc  homeowner_desc  \\\n",
       "user_id                                                               \n",
       "1             2.0                  3.0         11.0             5.0   \n",
       "2             NaN                  NaN          NaN             NaN   \n",
       "3             NaN                  NaN          NaN             NaN   \n",
       "4             NaN                  NaN          NaN             NaN   \n",
       "5             NaN                  NaN          NaN             NaN   \n",
       "...           ...                  ...          ...             ...   \n",
       "2496          6.0                  3.0         10.0             5.0   \n",
       "2497          6.0                  2.0         11.0             4.0   \n",
       "2498          4.0                  2.0         12.0             5.0   \n",
       "2499          4.0                  2.0          6.0             4.0   \n",
       "2500          NaN                  NaN          NaN             NaN   \n",
       "\n",
       "         hh_comp_desc  household_size_desc  kid_category_desc  \n",
       "user_id                                                        \n",
       "1                 6.0                  5.0                4.0  \n",
       "2                 NaN                  NaN                NaN  \n",
       "3                 NaN                  NaN                NaN  \n",
       "4                 NaN                  NaN                NaN  \n",
       "5                 NaN                  NaN                NaN  \n",
       "...               ...                  ...                ...  \n",
       "2496              2.0                  3.0                3.0  \n",
       "2497              3.0                  4.0                4.0  \n",
       "2498              6.0                  5.0                4.0  \n",
       "2499              5.0                  3.0                3.0  \n",
       "2500              NaN                  NaN                NaN  \n",
       "\n",
       "[2499 rows x 7 columns]"
      ]
     },
     "execution_count": 126,
     "metadata": {},
     "output_type": "execute_result"
    }
   ],
   "source": [
    "user_feat"
   ]
  },
  {
   "cell_type": "code",
   "execution_count": 127,
   "metadata": {
    "scrolled": false
   },
   "outputs": [
    {
     "name": "stdout",
     "output_type": "stream",
     "text": [
      "=========================   manufacturer   =========================\n",
      "              quantity  sales_value\n",
      "manufacturer                       \n",
      "1.0                  0         0.00\n",
      "2.0             200214    290265.56\n",
      "5.0               4970     16167.11\n",
      "10.0               224       275.59\n",
      "16.0              2977      3852.95\n",
      "...                ...          ...\n",
      "6046.0             780      9710.00\n",
      "6047.0             197       480.18\n",
      "6078.0              95       252.69\n",
      "6082.0            1160      2807.92\n",
      "6331.0             560      2749.91\n",
      "\n",
      "[610 rows x 2 columns]\n"
     ]
    },
    {
     "data": {
      "image/png": "[encoded data removed]",
      "text/plain": [
       "<Figure size 432x288 with 1 Axes>"
      ]
     },
     "metadata": {
      "needs_background": "light"
     },
     "output_type": "display_data"
    },
    {
     "data": {
      "image/png": "[encoded data removed]",
      "text/plain": [
       "<Figure size 432x288 with 1 Axes>"
      ]
     },
     "metadata": {
      "needs_background": "light"
     },
     "output_type": "display_data"
    },
    {
     "name": "stdout",
     "output_type": "stream",
     "text": [
      "               quantity   sales_value\n",
      "manufacturer                         \n",
      "1.0                   0  0.000000e+00\n",
      "6078.0               95  2.526900e+02\n",
      "4207.0               99  4.886100e+02\n",
      "3748.0              102  3.243000e+02\n",
      "3711.0              104  2.908100e+02\n",
      "...                 ...           ...\n",
      "1208.0            40680  9.144545e+04\n",
      "544.0             42278  6.943701e+04\n",
      "103.0             42626  9.165645e+04\n",
      "2.0              200214  2.902656e+05\n",
      "69.0          235687305  1.581877e+06\n",
      "\n",
      "[610 rows x 2 columns]\n",
      "=========================   department   =========================\n",
      "                  quantity   sales_value\n",
      "department                              \n",
      "                         0  0.000000e+00\n",
      "CHEF SHOPPE            560  1.450460e+03\n",
      "COUP/STR & MFG         321  0.000000e+00\n",
      "DELI                 39430  1.479085e+05\n",
      "DRUG GM              99604  1.474807e+05\n",
      "FLORAL                1313  7.923400e+03\n",
      "GROCERY            1405601  2.237572e+06\n",
      "KIOSK-GAS        202577341  5.010345e+05\n",
      "MEAT                 86580  3.704794e+05\n",
      "MEAT-PCKGD          103635  2.729088e+05\n",
      "MISC SALES TRAN   32439954  9.555220e+04\n",
      "MISC. TRANS.          1479  1.056460e+03\n",
      "NUTRITION             5522  1.131174e+04\n",
      "PASTRY               26267  3.812714e+04\n",
      "PRODUCE             266112  4.408718e+05\n",
      "SALAD BAR             8987  2.594456e+04\n",
      "SEAFOOD               1695  1.009855e+04\n",
      "SEAFOOD-PCKGD         3099  1.452223e+04\n",
      "SPIRITS                177  2.382230e+03\n",
      "TRAVEL & LEISUR        652  1.769030e+03\n"
     ]
    },
    {
     "data": {
      "image/png": "[encoded data removed]",
      "text/plain": [
       "<Figure size 432x288 with 1 Axes>"
      ]
     },
     "metadata": {
      "needs_background": "light"
     },
     "output_type": "display_data"
    },
    {
     "data": {
      "image/png": "[encoded data removed]",
      "text/plain": [
       "<Figure size 432x288 with 1 Axes>"
      ]
     },
     "metadata": {
      "needs_background": "light"
     },
     "output_type": "display_data"
    },
    {
     "name": "stdout",
     "output_type": "stream",
     "text": [
      "                  quantity   sales_value\n",
      "department                              \n",
      "                         0  0.000000e+00\n",
      "SPIRITS                177  2.382230e+03\n",
      "COUP/STR & MFG         321  0.000000e+00\n",
      "CHEF SHOPPE            560  1.450460e+03\n",
      "TRAVEL & LEISUR        652  1.769030e+03\n",
      "FLORAL                1313  7.923400e+03\n",
      "MISC. TRANS.          1479  1.056460e+03\n",
      "SEAFOOD               1695  1.009855e+04\n",
      "SEAFOOD-PCKGD         3099  1.452223e+04\n",
      "NUTRITION             5522  1.131174e+04\n",
      "SALAD BAR             8987  2.594456e+04\n",
      "PASTRY               26267  3.812714e+04\n",
      "DELI                 39430  1.479085e+05\n",
      "MEAT                 86580  3.704794e+05\n",
      "DRUG GM              99604  1.474807e+05\n",
      "MEAT-PCKGD          103635  2.729088e+05\n",
      "PRODUCE             266112  4.408718e+05\n",
      "GROCERY            1405601  2.237572e+06\n",
      "MISC SALES TRAN   32439954  9.555220e+04\n",
      "KIOSK-GAS        202577341  5.010345e+05\n",
      "=========================   brand   =========================\n",
      "           quantity   sales_value\n",
      "brand                            \n",
      "National    1371673  2.723744e+06\n",
      "Private   235696656  1.604649e+06\n"
     ]
    },
    {
     "data": {
      "image/png": "[encoded data removed]",
      "text/plain": [
       "<Figure size 432x288 with 1 Axes>"
      ]
     },
     "metadata": {
      "needs_background": "light"
     },
     "output_type": "display_data"
    },
    {
     "data": {
      "image/png": "[encoded data removed]",
      "text/plain": [
       "<Figure size 432x288 with 1 Axes>"
      ]
     },
     "metadata": {
      "needs_background": "light"
     },
     "output_type": "display_data"
    },
    {
     "name": "stdout",
     "output_type": "stream",
     "text": [
      "           quantity   sales_value\n",
      "brand                            \n",
      "National    1371673  2.723744e+06\n",
      "Private   235696656  1.604649e+06\n",
      "=========================   commodity_desc   =========================\n",
      "                                quantity  sales_value\n",
      "commodity_desc                                       \n",
      "                                       0         0.00\n",
      "AIR CARE                             298       301.54\n",
      "ANTACIDS                             115      1213.85\n",
      "APPLES                             14203     30655.24\n",
      "AUTOMOTIVE PRODUCTS                  136       182.10\n",
      "...                                  ...          ...\n",
      "VEGETABLES SALAD                   11242     12414.06\n",
      "WAREHOUSE SNACKS                    6294      7714.20\n",
      "WATER                               2178      2165.80\n",
      "WATER - CARBONATED/FLVRD DRINK     19070     42328.97\n",
      "YOGURT                             61579     44248.01\n",
      "\n",
      "[188 rows x 2 columns]\n"
     ]
    },
    {
     "data": {
      "image/png": "[encoded data removed]",
      "text/plain": [
       "<Figure size 432x288 with 1 Axes>"
      ]
     },
     "metadata": {
      "needs_background": "light"
     },
     "output_type": "display_data"
    },
    {
     "data": {
      "image/png": "[encoded data removed]",
      "text/plain": [
       "<Figure size 432x288 with 1 Axes>"
      ]
     },
     "metadata": {
      "needs_background": "light"
     },
     "output_type": "display_data"
    },
    {
     "name": "stdout",
     "output_type": "stream",
     "text": [
      "                          quantity  sales_value\n",
      "commodity_desc                                 \n",
      "                                 0         0.00\n",
      "PACKAGED NATURAL SNACKS        113       234.56\n",
      "DIETARY AID PRODUCTS           114       917.11\n",
      "ANTACIDS                       115      1213.85\n",
      "PARTY TRAYS                    125      1246.75\n",
      "...                            ...          ...\n",
      "CHEESE                       74571    138325.74\n",
      "BAKED BREAD/BUNS/ROLLS       77801    105987.37\n",
      "FLUID MILK PRODUCTS         101602    177402.39\n",
      "SOFT DRINKS                 122905    242128.80\n",
      "COUPON/MISC ITEMS        235017273    574156.59\n",
      "\n",
      "[188 rows x 2 columns]\n",
      "=========================   sub_commodity_desc   =========================\n",
      "                          quantity  sales_value\n",
      "sub_commodity_desc                             \n",
      "                                 0         0.00\n",
      "ADULT CEREAL                  5951     16873.71\n",
      "AEROSOL TOPPINGS              1205      2651.51\n",
      "AIR CARE - AEROSOLS            298       301.54\n",
      "ALKALINE BATTERIES             713      2932.81\n",
      "...                            ...          ...\n",
      "WINGS (IQF)                   1900     11477.02\n",
      "WOMEN S GENERAL-MAGAZINE       807      1564.93\n",
      "YELLOW SUMMER SQUASH           405       502.59\n",
      "YOGURT MULTI-PACKS            5291     13008.28\n",
      "YOGURT NOT MULTI-PACKS       56522     31476.42\n",
      "\n",
      "[731 rows x 2 columns]\n"
     ]
    },
    {
     "data": {
      "image/png": "[encoded data removed]",
      "text/plain": [
       "<Figure size 432x288 with 1 Axes>"
      ]
     },
     "metadata": {
      "needs_background": "light"
     },
     "output_type": "display_data"
    },
    {
     "data": {
      "image/png": "[encoded data removed]",
      "text/plain": [
       "<Figure size 432x288 with 1 Axes>"
      ]
     },
     "metadata": {
      "needs_background": "light"
     },
     "output_type": "display_data"
    },
    {
     "name": "stdout",
     "output_type": "stream",
     "text": [
      "                                 quantity  sales_value\n",
      "sub_commodity_desc                                    \n",
      "                                        0         0.00\n",
      "FLOOR - DILUTABLES                     95       252.69\n",
      "CORNMEAL                               99       130.71\n",
      "MISC MEAT SAUCES                      104       188.88\n",
      "REFRIGERATED PICKLES                  105       224.40\n",
      "...                                   ...          ...\n",
      "SOFT DRINKS 12/18&15PK CAN CAR      45115    129011.85\n",
      "SFT DRNK 2 LITER BTL CARB INCL      46829     45590.31\n",
      "YOGURT NOT MULTI-PACKS              56522     31476.42\n",
      "FLUID MILK WHITE ONLY               82011    143828.48\n",
      "GASOLINE-REG UNLEADED           235014184    581753.35\n",
      "\n",
      "[731 rows x 2 columns]\n",
      "=========================   curr_size_of_product   =========================\n",
      "                       quantity  sales_value\n",
      "curr_size_of_product                        \n",
      "                      235328080   1406638.10\n",
      "(600) 4LB                  3340      6480.25\n",
      ".13 OZ                     3919       715.60\n",
      ".14 OZ                     2872       533.80\n",
      ".15 OZ                      255        36.00\n",
      "...                         ...          ...\n",
      "LTR                         194       222.49\n",
      "N   12 OZ                   386       853.82\n",
      "N  5.4 OZ                   370       437.98\n",
      "PINT                       3335      9669.40\n",
      "PT                         3546      5414.95\n",
      "\n",
      "[670 rows x 2 columns]\n"
     ]
    },
    {
     "data": {
      "image/png": "[encoded data removed]",
      "text/plain": [
       "<Figure size 432x288 with 1 Axes>"
      ]
     },
     "metadata": {
      "needs_background": "light"
     },
     "output_type": "display_data"
    },
    {
     "data": {
      "image/png": "[encoded data removed]",
      "text/plain": [
       "<Figure size 432x288 with 1 Axes>"
      ]
     },
     "metadata": {
      "needs_background": "light"
     },
     "output_type": "display_data"
    },
    {
     "name": "stdout",
     "output_type": "stream",
     "text": [
      "                       quantity  sales_value\n",
      "curr_size_of_product                        \n",
      "18.15 OZ                    101       337.69\n",
      "500 SQ FT                   103      1015.02\n",
      "20CT/13GAL                  103       454.01\n",
      "25.2 OZ                     104       273.28\n",
      "15CT                        106       422.94\n",
      "...                         ...          ...\n",
      "6 OZ                      74382     58940.14\n",
      "8 OZ                      75823    117682.07\n",
      "12 OZ                    106208    292710.50\n",
      "16 OZ                    126041    210962.86\n",
      "                      235328080   1406638.10\n",
      "\n",
      "[670 rows x 2 columns]\n"
     ]
    }
   ],
   "source": [
    "for i in item_feat.columns.to_list():\n",
    "    print(25*'='+'   ' + i + '   ' + 25*'=')\n",
    "    df = data_user_item.groupby(by=i)[['quantity','sales_value']].sum()\n",
    "    print(df)\n",
    "    plt.plot(df.index,df['quantity'])\n",
    "    plt.title('quantity')\n",
    "    plt.show()\n",
    "    plt.plot(df.index,df['sales_value'])\n",
    "    plt.title('sales_value')\n",
    "    plt.show()\n",
    "    print(df.sort_values(by='quantity'))\n",
    "    lst = df.sort_values(by='quantity').index.to_list()\n",
    "    map_dict = dict(zip(lst,range(1,len(lst)+1)))\n",
    "    item_feat[i] = item_feat[i].map(map_dict)"
   ]
  },
  {
   "cell_type": "code",
   "execution_count": 136,
   "metadata": {},
   "outputs": [],
   "source": [
    "item_feat.fillna(0,inplace=True)"
   ]
  },
  {
   "cell_type": "code",
   "execution_count": 137,
   "metadata": {},
   "outputs": [
    {
     "name": "stdout",
     "output_type": "stream",
     "text": [
      "<class 'pandas.core.frame.DataFrame'>\n",
      "Int64Index: 5001 entries, 397896 to 16809471\n",
      "Data columns (total 6 columns):\n",
      " #   Column                Non-Null Count  Dtype  \n",
      "---  ------                --------------  -----  \n",
      " 0   manufacturer          5001 non-null   float64\n",
      " 1   department            5001 non-null   float64\n",
      " 2   brand                 5001 non-null   float64\n",
      " 3   commodity_desc        5001 non-null   float64\n",
      " 4   sub_commodity_desc    5001 non-null   float64\n",
      " 5   curr_size_of_product  5001 non-null   float64\n",
      "dtypes: float64(6)\n",
      "memory usage: 273.5 KB\n"
     ]
    }
   ],
   "source": [
    "item_feat.info()"
   ]
  },
  {
   "cell_type": "code",
   "execution_count": 138,
   "metadata": {},
   "outputs": [
    {
     "data": {
      "text/html": [
       "<div>\n",
       "<style scoped>\n",
       "    .dataframe tbody tr th:only-of-type {\n",
       "        vertical-align: middle;\n",
       "    }\n",
       "\n",
       "    .dataframe tbody tr th {\n",
       "        vertical-align: top;\n",
       "    }\n",
       "\n",
       "    .dataframe thead th {\n",
       "        text-align: right;\n",
       "    }\n",
       "</style>\n",
       "<table border=\"1\" class=\"dataframe\">\n",
       "  <thead>\n",
       "    <tr style=\"text-align: right;\">\n",
       "      <th></th>\n",
       "      <th>manufacturer</th>\n",
       "      <th>department</th>\n",
       "      <th>brand</th>\n",
       "      <th>commodity_desc</th>\n",
       "      <th>sub_commodity_desc</th>\n",
       "      <th>curr_size_of_product</th>\n",
       "    </tr>\n",
       "  </thead>\n",
       "  <tbody>\n",
       "    <tr>\n",
       "      <th>count</th>\n",
       "      <td>5001.000000</td>\n",
       "      <td>5001.000000</td>\n",
       "      <td>5001.000000</td>\n",
       "      <td>5001.000000</td>\n",
       "      <td>5001.000000</td>\n",
       "      <td>5001.000000</td>\n",
       "    </tr>\n",
       "    <tr>\n",
       "      <th>mean</th>\n",
       "      <td>539.086783</td>\n",
       "      <td>17.211558</td>\n",
       "      <td>1.289342</td>\n",
       "      <td>146.120576</td>\n",
       "      <td>563.757848</td>\n",
       "      <td>584.420316</td>\n",
       "    </tr>\n",
       "    <tr>\n",
       "      <th>std</th>\n",
       "      <td>123.023304</td>\n",
       "      <td>1.747465</td>\n",
       "      <td>0.453943</td>\n",
       "      <td>38.406313</td>\n",
       "      <td>166.120861</td>\n",
       "      <td>141.354669</td>\n",
       "    </tr>\n",
       "    <tr>\n",
       "      <th>min</th>\n",
       "      <td>0.000000</td>\n",
       "      <td>0.000000</td>\n",
       "      <td>0.000000</td>\n",
       "      <td>0.000000</td>\n",
       "      <td>0.000000</td>\n",
       "      <td>0.000000</td>\n",
       "    </tr>\n",
       "    <tr>\n",
       "      <th>25%</th>\n",
       "      <td>533.000000</td>\n",
       "      <td>17.000000</td>\n",
       "      <td>1.000000</td>\n",
       "      <td>123.000000</td>\n",
       "      <td>488.000000</td>\n",
       "      <td>569.000000</td>\n",
       "    </tr>\n",
       "    <tr>\n",
       "      <th>50%</th>\n",
       "      <td>592.000000</td>\n",
       "      <td>18.000000</td>\n",
       "      <td>1.000000</td>\n",
       "      <td>158.000000</td>\n",
       "      <td>623.000000</td>\n",
       "      <td>650.000000</td>\n",
       "    </tr>\n",
       "    <tr>\n",
       "      <th>75%</th>\n",
       "      <td>610.000000</td>\n",
       "      <td>18.000000</td>\n",
       "      <td>2.000000</td>\n",
       "      <td>177.000000</td>\n",
       "      <td>688.000000</td>\n",
       "      <td>667.000000</td>\n",
       "    </tr>\n",
       "    <tr>\n",
       "      <th>max</th>\n",
       "      <td>610.000000</td>\n",
       "      <td>20.000000</td>\n",
       "      <td>2.000000</td>\n",
       "      <td>188.000000</td>\n",
       "      <td>731.000000</td>\n",
       "      <td>670.000000</td>\n",
       "    </tr>\n",
       "  </tbody>\n",
       "</table>\n",
       "</div>"
      ],
      "text/plain": [
       "       manufacturer   department        brand  commodity_desc  \\\n",
       "count   5001.000000  5001.000000  5001.000000     5001.000000   \n",
       "mean     539.086783    17.211558     1.289342      146.120576   \n",
       "std      123.023304     1.747465     0.453943       38.406313   \n",
       "min        0.000000     0.000000     0.000000        0.000000   \n",
       "25%      533.000000    17.000000     1.000000      123.000000   \n",
       "50%      592.000000    18.000000     1.000000      158.000000   \n",
       "75%      610.000000    18.000000     2.000000      177.000000   \n",
       "max      610.000000    20.000000     2.000000      188.000000   \n",
       "\n",
       "       sub_commodity_desc  curr_size_of_product  \n",
       "count         5001.000000           5001.000000  \n",
       "mean           563.757848            584.420316  \n",
       "std            166.120861            141.354669  \n",
       "min              0.000000              0.000000  \n",
       "25%            488.000000            569.000000  \n",
       "50%            623.000000            650.000000  \n",
       "75%            688.000000            667.000000  \n",
       "max            731.000000            670.000000  "
      ]
     },
     "execution_count": 138,
     "metadata": {},
     "output_type": "execute_result"
    }
   ],
   "source": [
    "item_feat.describe()"
   ]
  },
  {
   "cell_type": "code",
   "execution_count": 139,
   "metadata": {},
   "outputs": [
    {
     "data": {
      "text/html": [
       "<div>\n",
       "<style scoped>\n",
       "    .dataframe tbody tr th:only-of-type {\n",
       "        vertical-align: middle;\n",
       "    }\n",
       "\n",
       "    .dataframe tbody tr th {\n",
       "        vertical-align: top;\n",
       "    }\n",
       "\n",
       "    .dataframe thead th {\n",
       "        text-align: right;\n",
       "    }\n",
       "</style>\n",
       "<table border=\"1\" class=\"dataframe\">\n",
       "  <thead>\n",
       "    <tr style=\"text-align: right;\">\n",
       "      <th></th>\n",
       "      <th>manufacturer</th>\n",
       "      <th>department</th>\n",
       "      <th>brand</th>\n",
       "      <th>commodity_desc</th>\n",
       "      <th>sub_commodity_desc</th>\n",
       "      <th>curr_size_of_product</th>\n",
       "    </tr>\n",
       "    <tr>\n",
       "      <th>item_id</th>\n",
       "      <th></th>\n",
       "      <th></th>\n",
       "      <th></th>\n",
       "      <th></th>\n",
       "      <th></th>\n",
       "      <th></th>\n",
       "    </tr>\n",
       "  </thead>\n",
       "  <tbody>\n",
       "    <tr>\n",
       "      <th>397896</th>\n",
       "      <td>610.0</td>\n",
       "      <td>20.0</td>\n",
       "      <td>2.0</td>\n",
       "      <td>188.0</td>\n",
       "      <td>731.0</td>\n",
       "      <td>670.0</td>\n",
       "    </tr>\n",
       "    <tr>\n",
       "      <th>818980</th>\n",
       "      <td>603.0</td>\n",
       "      <td>18.0</td>\n",
       "      <td>1.0</td>\n",
       "      <td>150.0</td>\n",
       "      <td>654.0</td>\n",
       "      <td>288.0</td>\n",
       "    </tr>\n",
       "    <tr>\n",
       "      <th>818981</th>\n",
       "      <td>588.0</td>\n",
       "      <td>18.0</td>\n",
       "      <td>1.0</td>\n",
       "      <td>170.0</td>\n",
       "      <td>684.0</td>\n",
       "      <td>442.0</td>\n",
       "    </tr>\n",
       "    <tr>\n",
       "      <th>819063</th>\n",
       "      <td>554.0</td>\n",
       "      <td>18.0</td>\n",
       "      <td>1.0</td>\n",
       "      <td>136.0</td>\n",
       "      <td>683.0</td>\n",
       "      <td>641.0</td>\n",
       "    </tr>\n",
       "    <tr>\n",
       "      <th>819255</th>\n",
       "      <td>470.0</td>\n",
       "      <td>16.0</td>\n",
       "      <td>1.0</td>\n",
       "      <td>132.0</td>\n",
       "      <td>617.0</td>\n",
       "      <td>663.0</td>\n",
       "    </tr>\n",
       "    <tr>\n",
       "      <th>...</th>\n",
       "      <td>...</td>\n",
       "      <td>...</td>\n",
       "      <td>...</td>\n",
       "      <td>...</td>\n",
       "      <td>...</td>\n",
       "      <td>...</td>\n",
       "    </tr>\n",
       "    <tr>\n",
       "      <th>15926775</th>\n",
       "      <td>607.0</td>\n",
       "      <td>18.0</td>\n",
       "      <td>1.0</td>\n",
       "      <td>181.0</td>\n",
       "      <td>532.0</td>\n",
       "      <td>384.0</td>\n",
       "    </tr>\n",
       "    <tr>\n",
       "      <th>15926844</th>\n",
       "      <td>607.0</td>\n",
       "      <td>18.0</td>\n",
       "      <td>1.0</td>\n",
       "      <td>181.0</td>\n",
       "      <td>715.0</td>\n",
       "      <td>388.0</td>\n",
       "    </tr>\n",
       "    <tr>\n",
       "      <th>15926886</th>\n",
       "      <td>607.0</td>\n",
       "      <td>18.0</td>\n",
       "      <td>1.0</td>\n",
       "      <td>181.0</td>\n",
       "      <td>715.0</td>\n",
       "      <td>388.0</td>\n",
       "    </tr>\n",
       "    <tr>\n",
       "      <th>15927403</th>\n",
       "      <td>603.0</td>\n",
       "      <td>18.0</td>\n",
       "      <td>1.0</td>\n",
       "      <td>182.0</td>\n",
       "      <td>721.0</td>\n",
       "      <td>634.0</td>\n",
       "    </tr>\n",
       "    <tr>\n",
       "      <th>16809471</th>\n",
       "      <td>610.0</td>\n",
       "      <td>18.0</td>\n",
       "      <td>2.0</td>\n",
       "      <td>185.0</td>\n",
       "      <td>725.0</td>\n",
       "      <td>669.0</td>\n",
       "    </tr>\n",
       "  </tbody>\n",
       "</table>\n",
       "<p>5001 rows × 6 columns</p>\n",
       "</div>"
      ],
      "text/plain": [
       "          manufacturer  department  brand  commodity_desc  sub_commodity_desc  \\\n",
       "item_id                                                                         \n",
       "397896           610.0        20.0    2.0           188.0               731.0   \n",
       "818980           603.0        18.0    1.0           150.0               654.0   \n",
       "818981           588.0        18.0    1.0           170.0               684.0   \n",
       "819063           554.0        18.0    1.0           136.0               683.0   \n",
       "819255           470.0        16.0    1.0           132.0               617.0   \n",
       "...                ...         ...    ...             ...                 ...   \n",
       "15926775         607.0        18.0    1.0           181.0               532.0   \n",
       "15926844         607.0        18.0    1.0           181.0               715.0   \n",
       "15926886         607.0        18.0    1.0           181.0               715.0   \n",
       "15927403         603.0        18.0    1.0           182.0               721.0   \n",
       "16809471         610.0        18.0    2.0           185.0               725.0   \n",
       "\n",
       "          curr_size_of_product  \n",
       "item_id                         \n",
       "397896                   670.0  \n",
       "818980                   288.0  \n",
       "818981                   442.0  \n",
       "819063                   641.0  \n",
       "819255                   663.0  \n",
       "...                        ...  \n",
       "15926775                 384.0  \n",
       "15926844                 388.0  \n",
       "15926886                 388.0  \n",
       "15927403                 634.0  \n",
       "16809471                 669.0  \n",
       "\n",
       "[5001 rows x 6 columns]"
      ]
     },
     "execution_count": 139,
     "metadata": {},
     "output_type": "execute_result"
    }
   ],
   "source": [
    "item_feat"
   ]
  },
  {
   "cell_type": "markdown",
   "metadata": {},
   "source": [
    "### LightFM"
   ]
  },
  {
   "cell_type": "markdown",
   "metadata": {},
   "source": [
    "У этого алогритма есть множество параметров (item/user_alpha, loss, no_components).  \n",
    "Проведите эксперименты аналогично дз 3 (подберите гипперпараметры каким удобно способои и постройте графики)  \n",
    "На выходе необходимо получить pr@5 на валидации (последние 3 недели) > 17%  \n",
    "\n",
    "У Вас, скорее всего, возникнет проблема со временем обучения. Почему они возникает?    \n",
    "\n",
    "Попробуйте запустить алгоритм вообще без фичей или используйте только признаки с небольшим числом уникальных категорий. (item_features['commodity_desc'].unique() - 300 уникальных категорий - это очень много)"
   ]
  },
  {
   "cell_type": "code",
   "execution_count": 207,
   "metadata": {},
   "outputs": [],
   "source": [
    "params_model = {'no_components':5,\n",
    "                'loss':'bpr', # 'warp'\n",
    "                'learning_rate':0.05, \n",
    "                'item_alpha':0.1, \n",
    "                'user_alpha':0.1, \n",
    "                'random_state':42}"
   ]
  },
  {
   "cell_type": "code",
   "execution_count": 208,
   "metadata": {},
   "outputs": [
    {
     "name": "stdout",
     "output_type": "stream",
     "text": [
      "Wall time: 25.3 s\n"
     ]
    },
    {
     "data": {
      "text/plain": [
       "<lightfm.lightfm.LightFM at 0x18a9d407370>"
      ]
     },
     "execution_count": 208,
     "metadata": {},
     "output_type": "execute_result"
    }
   ],
   "source": [
    "%%time\n",
    "model = LightFM(**params_model)\n",
    "\n",
    "model.fit((sparse_user_item > 0) * 1,  # user-item matrix из 0 и 1\n",
    "          sample_weight=coo_matrix(user_item_matrix),\n",
    "          user_features=csr_matrix(user_feat.values).tocsr(),\n",
    "          item_features=csr_matrix(item_feat.values).tocsr(),\n",
    "          epochs=15, \n",
    "          num_threads=15) "
   ]
  },
  {
   "cell_type": "code",
   "execution_count": 215,
   "metadata": {},
   "outputs": [
    {
     "name": "stdout",
     "output_type": "stream",
     "text": [
      "Wall time: 3.99 s\n"
     ]
    },
    {
     "data": {
      "text/plain": [
       "0.09019608"
      ]
     },
     "execution_count": 215,
     "metadata": {},
     "output_type": "execute_result"
    }
   ],
   "source": [
    "%%time\n",
    "train_precision = pr(model, sparse_user_item, \n",
    "                                 user_features=csr_matrix(user_feat.values).tocsr(),\n",
    "                                 item_features=csr_matrix(item_feat.values).tocsr(),\n",
    "                                 k=5).mean()\n",
    "\n",
    "train_precision"
   ]
  },
  {
   "cell_type": "code",
   "execution_count": 214,
   "metadata": {},
   "outputs": [
    {
     "name": "stdout",
     "output_type": "stream",
     "text": [
      "Wall time: 4 s\n"
     ]
    },
    {
     "data": {
      "text/plain": [
       "0.09019608"
      ]
     },
     "execution_count": 214,
     "metadata": {},
     "output_type": "execute_result"
    }
   ],
   "source": [
    "%%time\n",
    "test_precision = pr(model, sparse_test_user_item, \n",
    "                                 user_features=csr_matrix(user_feat.values).tocsr(),\n",
    "                                 item_features=csr_matrix(item_feat.values).tocsr(),\n",
    "                                 k=5).mean()\n",
    "\n",
    "test_precision"
   ]
  },
  {
   "cell_type": "code",
   "execution_count": 211,
   "metadata": {},
   "outputs": [],
   "source": [
    "def pred2(user,n=5):\n",
    "    user = int(userid_to_id[user])\n",
    "    predictions = model.predict(user_ids=user, item_ids=test_item_ids,\n",
    "                            user_features=csr_matrix(user_feat.values).tocsr(),\n",
    "                            item_features=csr_matrix(item_feat.values).tocsr(),\n",
    "                            num_threads=4)\n",
    "    rec =  [id_to_itemid[i] for i in np.argsort(predictions)[:-n-2:-1]]\n",
    "    if 999999 in rec:\n",
    "        rec.remove(999999)\n",
    "    return rec[:n]  "
   ]
  },
  {
   "cell_type": "code",
   "execution_count": 216,
   "metadata": {},
   "outputs": [
    {
     "name": "stdout",
     "output_type": "stream",
     "text": [
      "Wall time: 3.87 s\n"
     ]
    },
    {
     "data": {
      "text/plain": [
       "0.006953966699314391"
      ]
     },
     "execution_count": 216,
     "metadata": {},
     "output_type": "execute_result"
    }
   ],
   "source": [
    "%%time\n",
    "result['fm_2']=result['user_id'].apply(pred2)\n",
    "result.apply(lambda row: precision_at_k(row['fm_2'], row['actual']), axis=1).mean()"
   ]
  },
  {
   "cell_type": "code",
   "execution_count": null,
   "metadata": {},
   "outputs": [],
   "source": []
  },
  {
   "cell_type": "code",
   "execution_count": null,
   "metadata": {},
   "outputs": [],
   "source": []
  },
  {
   "cell_type": "code",
   "execution_count": 146,
   "metadata": {},
   "outputs": [],
   "source": [
    "user_feat_lightfm = pd.get_dummies(user_feat, columns=user_feat.columns.tolist())\n",
    "item_feat_lightfm = pd.get_dummies(item_feat, columns=item_feat.columns.tolist())"
   ]
  },
  {
   "cell_type": "code",
   "execution_count": 147,
   "metadata": {},
   "outputs": [
    {
     "name": "stdout",
     "output_type": "stream",
     "text": [
      "Wall time: 42.2 s\n"
     ]
    },
    {
     "data": {
      "text/plain": [
       "<lightfm.lightfm.LightFM at 0x18afa484e20>"
      ]
     },
     "execution_count": 147,
     "metadata": {},
     "output_type": "execute_result"
    }
   ],
   "source": [
    "%%time\n",
    "model.fit((sparse_user_item > 0) * 1,  # user-item matrix из 0 и 1\n",
    "          sample_weight=coo_matrix(user_item_matrix),\n",
    "          user_features=csr_matrix(user_feat_lightfm.values).tocsr(),\n",
    "          item_features=csr_matrix(item_feat_lightfm.values).tocsr(),\n",
    "          epochs=15, \n",
    "          num_threads=15) "
   ]
  },
  {
   "cell_type": "code",
   "execution_count": 149,
   "metadata": {},
   "outputs": [
    {
     "name": "stdout",
     "output_type": "stream",
     "text": [
      "Wall time: 4.06 s\n"
     ]
    },
    {
     "data": {
      "text/plain": [
       "0.47154868"
      ]
     },
     "execution_count": 149,
     "metadata": {},
     "output_type": "execute_result"
    }
   ],
   "source": [
    "%%time\n",
    "train_precision = pr(model, sparse_user_item, \n",
    "                                 user_features=csr_matrix(user_feat_lightfm.values).tocsr(),\n",
    "                                 item_features=csr_matrix(item_feat_lightfm.values).tocsr(),\n",
    "                                 k=5).mean()\n",
    "\n",
    "train_precision"
   ]
  },
  {
   "cell_type": "code",
   "execution_count": 150,
   "metadata": {},
   "outputs": [
    {
     "name": "stdout",
     "output_type": "stream",
     "text": [
      "Wall time: 4.05 s\n"
     ]
    },
    {
     "data": {
      "text/plain": [
       "0.47154868"
      ]
     },
     "execution_count": 150,
     "metadata": {},
     "output_type": "execute_result"
    }
   ],
   "source": [
    "%%time\n",
    "test_precision = pr(model, sparse_test_user_item, \n",
    "                                 user_features=csr_matrix(user_feat_lightfm.values).tocsr(),\n",
    "                                 item_features=csr_matrix(item_feat_lightfm.values).tocsr(),\n",
    "                                 k=5).mean()\n",
    "\n",
    "test_precision"
   ]
  },
  {
   "cell_type": "code",
   "execution_count": 167,
   "metadata": {},
   "outputs": [],
   "source": [
    "test_item_ids = np.arange(len(itemids))"
   ]
  },
  {
   "cell_type": "code",
   "execution_count": 177,
   "metadata": {},
   "outputs": [
    {
     "data": {
      "text/plain": [
       "array([-93.093254, -93.85512 , -93.912865, ..., -93.803246, -93.8036  ,\n",
       "       -93.56169 ], dtype=float32)"
      ]
     },
     "execution_count": 177,
     "metadata": {},
     "output_type": "execute_result"
    }
   ],
   "source": [
    "predictions = model.predict(user_ids=1, item_ids=test_item_ids,\n",
    "                            user_features=csr_matrix(user_feat_lightfm.values).tocsr(),\n",
    "                            item_features=csr_matrix(item_feat_lightfm.values).tocsr(),\n",
    "                            num_threads=4)\n",
    "predictions"
   ]
  },
  {
   "cell_type": "code",
   "execution_count": 201,
   "metadata": {},
   "outputs": [],
   "source": [
    "def pred(user,n=5):\n",
    "    user = int(userid_to_id[user])\n",
    "    predictions = model.predict(user_ids=user, item_ids=test_item_ids,\n",
    "                            user_features=csr_matrix(user_feat_lightfm.values).tocsr(),\n",
    "                            item_features=csr_matrix(item_feat_lightfm.values).tocsr(),\n",
    "                            num_threads=4)\n",
    "    rec =  [id_to_itemid[i] for i in np.argsort(predictions)[:-n-2:-1]]\n",
    "    if 999999 in rec:\n",
    "        rec.remove(999999)\n",
    "    return rec[:n]    "
   ]
  },
  {
   "cell_type": "code",
   "execution_count": 202,
   "metadata": {},
   "outputs": [
    {
     "data": {
      "text/plain": [
       "[1082185, 6534178, 1404121, 397896, 1126899]"
      ]
     },
     "execution_count": 202,
     "metadata": {},
     "output_type": "execute_result"
    }
   ],
   "source": [
    "pred(2)"
   ]
  },
  {
   "cell_type": "code",
   "execution_count": 205,
   "metadata": {},
   "outputs": [
    {
     "name": "stdout",
     "output_type": "stream",
     "text": [
      "Wall time: 2min 9s\n"
     ]
    }
   ],
   "source": [
    "%%time\n",
    "result['fm_1']=result['user_id'].apply(pred)"
   ]
  },
  {
   "cell_type": "code",
   "execution_count": 206,
   "metadata": {},
   "outputs": [
    {
     "name": "stdout",
     "output_type": "stream",
     "text": [
      "Wall time: 72.1 ms\n"
     ]
    },
    {
     "data": {
      "text/plain": [
       "0.12095984329089032"
      ]
     },
     "execution_count": 206,
     "metadata": {},
     "output_type": "execute_result"
    }
   ],
   "source": [
    "%%time\n",
    "result.apply(lambda row: precision_at_k(row['fm_1'], row['actual']), axis=1).mean()"
   ]
  },
  {
   "cell_type": "code",
   "execution_count": null,
   "metadata": {},
   "outputs": [],
   "source": []
  },
  {
   "cell_type": "code",
   "execution_count": null,
   "metadata": {},
   "outputs": [],
   "source": []
  },
  {
   "cell_type": "markdown",
   "metadata": {},
   "source": [
    "### *Отбор признаков* * "
   ]
  },
  {
   "cell_type": "code",
   "execution_count": null,
   "metadata": {},
   "outputs": [],
   "source": []
  },
  {
   "cell_type": "code",
   "execution_count": null,
   "metadata": {},
   "outputs": [],
   "source": []
  },
  {
   "cell_type": "code",
   "execution_count": null,
   "metadata": {},
   "outputs": [],
   "source": []
  },
  {
   "cell_type": "code",
   "execution_count": null,
   "metadata": {},
   "outputs": [],
   "source": []
  },
  {
   "cell_type": "code",
   "execution_count": null,
   "metadata": {},
   "outputs": [],
   "source": []
  },
  {
   "cell_type": "code",
   "execution_count": null,
   "metadata": {},
   "outputs": [],
   "source": []
  },
  {
   "cell_type": "markdown",
   "metadata": {},
   "source": [
    "Все данные категориальные, при ohe кодировании для товаров признаков становится невероятно много.      \n",
    "Какие стратегии отбора признаков в классическом ML Вы знаете? Применимы ли они тут?  \n",
    "\n",
    "Попробйте какие-нибудь стратегии. Удалось ли улучшить качество?\n",
    "\n",
    " \\* *задание необязательно*\n"
   ]
  },
  {
   "cell_type": "code",
   "execution_count": null,
   "metadata": {},
   "outputs": [],
   "source": []
  },
  {
   "cell_type": "code",
   "execution_count": null,
   "metadata": {},
   "outputs": [],
   "source": []
  },
  {
   "cell_type": "code",
   "execution_count": null,
   "metadata": {},
   "outputs": [],
   "source": []
  }
 ],
 "metadata": {
  "kernelspec": {
   "display_name": "Python 3",
   "language": "python",
   "name": "python3"
  },
  "language_info": {
   "codemirror_mode": {
    "name": "ipython",
    "version": 3
   },
   "file_extension": ".py",
   "mimetype": "text/x-python",
   "name": "python",
   "nbconvert_exporter": "python",
   "pygments_lexer": "ipython3",
   "version": "3.8.3"
  }
 },
 "nbformat": 4,
 "nbformat_minor": 2
}
