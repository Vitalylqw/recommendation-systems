{
 "cells": [
  {
   "cell_type": "markdown",
   "metadata": {},
   "source": [
    "1. Сравните метрики hit_rate@k, precision@k.   \n",
    "Какую метрику использовать предпочтительно и почему?  \n",
    "Приведите пример 2-3 задач (опишите, что является клиентом, что товаром), в которой более уместно использовать метрику hit_rate?\n"
   ]
  },
  {
   "cell_type": "markdown",
   "metadata": {},
   "source": [
    "2. В метрике NDCG@k мы используем логарифм в знаменателе. Как Вы думаете, почему именно логарифм? Какую функцию можно использовать вместо логарифма? Привидите пример метрик/подходов к предобработке данных/функций ошибок в ML, где также в  логарифм.\n",
    "\n"
   ]
  },
  {
   "cell_type": "markdown",
   "metadata": {},
   "source": [
    "3. Какие еще метрики (Вы можете вспомнить уже пройденные Вами или посмотреть в интернете) могут использоваться для рекомендательных систем (приведите примеры метрики **и чем являются интеракции**, чтобы она могла быть использована)."
   ]
  },
  {
   "cell_type": "markdown",
   "metadata": {},
   "source": [
    "4. boughted = [1, 3, 5, 7, 9, 11]  \n",
    "recommended = [2, 5, 7, 4, 11, 9, 8, 10, 12, 3]  \n",
    "Посчитайте на этих данных pr@8, rec@8, AP@8, NDCG@8, MRR@8,  \n",
    "Сначала поссчитайет \"руками\", а затем подтвердите рассчеты с помощью функций (некоторые были на семинаре, некоторые нужно будут написать самостоятельно)\n",
    "\n",
    "IDCG должен считаться для всех 8 позиций рекомендаций"
   ]
  },
  {
   "cell_type": "markdown",
   "metadata": {},
   "source": [
    "**Пример выполнения 4го задания**\n",
    "\n",
    "MSE на  \n",
    "$y = [0, 2]$  \n",
    "$y_{pred} = [1, 2]$\n",
    "\n",
    "MSE = $0.5*((0 - 1)^2 + (2-2)^2) = 0.5$ "
   ]
  },
  {
   "cell_type": "code",
   "execution_count": 9,
   "metadata": {},
   "outputs": [],
   "source": [
    "import matplotlib.pyplot as plt\n",
    "import numpy as np\n",
    "%matplotlib inline"
   ]
  },
  {
   "cell_type": "code",
   "execution_count": 10,
   "metadata": {},
   "outputs": [
    {
     "data": {
      "text/plain": [
       "0.5"
      ]
     },
     "execution_count": 10,
     "metadata": {},
     "output_type": "execute_result"
    }
   ],
   "source": [
    "\n",
    "((np.array([0, 2]) - np.array([1, 2]))**2).mean()"
   ]
  },
  {
   "cell_type": "code",
   "execution_count": 11,
   "metadata": {},
   "outputs": [
    {
     "name": "stdout",
     "output_type": "stream",
     "text": [
      "========================================================================================================================\n",
      "Решение\n"
     ]
    }
   ],
   "source": [
    "print(120*'=')\n",
    "print('Решение')"
   ]
  },
  {
   "cell_type": "markdown",
   "metadata": {},
   "source": [
    "#### Задание №1\n",
    "Сравните метрики hit_rate@k, precision@k.\n",
    "Какую метрику использовать предпочтительно и почему?\n",
    "Приведите пример 2-3 задач (опишите, что является клиентом, что товаром), в которой более уместно использовать метрику hit_rate?"
   ]
  },
  {
   "cell_type": "markdown",
   "metadata": {},
   "source": [
    "Hit rate@k указывает ответ на простой вопрос - была хоть одна покупка из списка рекомендованных товаров или нет.   \n",
    "Емли мы хотим получить более глубокую или более расширенную  информацию о результатах раьботы нашей модели, то лучше использовать precision@k - она уже дает информацию о доле купленных товаров из тех, что рекомендовала наша модель. \n",
    "При k=1 они будут давать одинаковый результат.\n",
    "Я не мастак придумывать примеры, особенно в вещах, в кеоторых еще не разбираюсь. Решать задачи у меня гораздо лучще получается :)    \n",
    "Рискну предположить, что Hit rate@k можно использовать, когда нам не важно ранжирование или нет ограничений по объему рекомендаций. Может быть это что то дорогое и что покупается не так часто, а смотрят много. Например недвижимость. Клиент не покупает 10 квартир за месяц, как правило. Если купит хотя бы однук, мы свою работу сделали. Так же улиент буде смотреть много вариантов, что бы выбрать.\n",
    "\n",
    "Или например мы предлагаем выбрать соус к картошке, мы можем предложить несколько, но клиент покупает только один.\n",
    "\n",
    "\n",
    "\n"
   ]
  },
  {
   "cell_type": "markdown",
   "metadata": {},
   "source": [
    "#### Задание №2  "
   ]
  },
  {
   "cell_type": "markdown",
   "metadata": {},
   "source": [
    "В метрике NDCG@k мы используем логарифм в знаменателе. Как Вы думаете, почему именно логарифм? Какую функцию можно использовать вместо логарифма? Привидите пример метрик/подходов к предобработке данных/функций ошибок в ML, где также в логарифм."
   ]
  },
  {
   "cell_type": "markdown",
   "metadata": {},
   "source": [
    "Я так понимаю, log используется, что сгладить зависимость от количества. логарифм более \"мягкая\" функция. Таким образом уменьшается влияние ощибки на начльных значениях, что делает метрику менее чувстивтельной к ошибкам в началею\n",
    "вместо логарифма можно использовать"
   ]
  },
  {
   "cell_type": "code",
   "execution_count": 21,
   "metadata": {},
   "outputs": [
    {
     "data": {
      "image/png": "[encoded data removed]",
      "text/plain": [
       "<Figure size 432x288 with 1 Axes>"
      ]
     },
     "metadata": {
      "needs_background": "light"
     },
     "output_type": "display_data"
    }
   ],
   "source": [
    "x = np.arange(1,10)\n",
    "y = np.log(x)\n",
    "plt.plot(x,y)\n",
    "plt.show()"
   ]
  },
  {
   "cell_type": "code",
   "execution_count": 23,
   "metadata": {},
   "outputs": [
    {
     "data": {
      "image/png": "[encoded data removed]",
      "text/plain": [
       "<Figure size 432x288 with 1 Axes>"
      ]
     },
     "metadata": {
      "needs_background": "light"
     },
     "output_type": "display_data"
    }
   ],
   "source": [
    "x = np.arange(1,10)\n",
    "y = x**(1/3)\n",
    "plt.plot(x,y)\n",
    "plt.show()"
   ]
  },
  {
   "cell_type": "code",
   "execution_count": 43,
   "metadata": {},
   "outputs": [
    {
     "data": {
      "image/png": "[encoded data removed]",
      "text/plain": [
       "<Figure size 432x288 with 1 Axes>"
      ]
     },
     "metadata": {
      "needs_background": "light"
     },
     "output_type": "display_data"
    }
   ],
   "source": [
    "x = np.arange(1,10)\n",
    "y = -np.exp(1/x)+3\n",
    "plt.plot(x,y)\n",
    "plt.show()"
   ]
  },
  {
   "cell_type": "markdown",
   "metadata": {},
   "source": [
    "Линейные модели часто хорошо реагируют на преобразование признаком через логарифм, так это позволяет приводить распределение более ближе к нормальному."
   ]
  },
  {
   "cell_type": "markdown",
   "metadata": {},
   "source": [
    "Например в логистическаой  регрессии, можно использовать логистическую функцию потреь - log_loss"
   ]
  },
  {
   "cell_type": "markdown",
   "metadata": {},
   "source": [
    "#### Задание 3\n",
    "В прницпе наверное любую метрику можно применить, вопрос ее интрепритации, целесллбрзности и нужности.\n",
    "\n",
    "У меня к сожалению ну никак не хватет времени еще искать информацию в интренете.\n",
    "Если бы это время было, я бы вполне мог заниматься самообразованием.\n",
    "В современном мире это легко. В интернете огромное количество информации,бесплатных курсов, видео  и прочее. \n",
    "Даже есть платные курсы , которые кто то выкладывает в доступ.\n",
    "Но к сожалению, я  не могу себе это позволить , потому что в сутках только \n",
    "24 часа. А есть еще работа,семья и прочие дела которые я должен делать. Именно поэтому оплатил этот курс, \n",
    "заплатив примерно 200 тр.\n",
    "Я рассчитывал (и это декларировалось) получать всю необходимую теориическую инофрмацию здесь. \n",
    "А дома делать практичвеские занятия, что бы\n",
    "закрепить  знания и сформировать навыки. Можно много читать статей, смотреть код, \n",
    "но все забыть и не суметь сделать на практике.\n",
    "Лично я могу осваивать матриал, когда сам на практике что то делаю и вижу как это работает.\n",
    "А чтение статей у меня отнимает очень много времени.\n",
    "Это ответ на задание 3 и на ваш вопрос на вебинаре. По мне чем больше правтики, тем илучше. Это банально интереснее делать, чем \n",
    "слушать теорию, проявляя чудеса силы воли. Я бы с удовльствием решал практические задания.  \n",
    "Если мнения расходяться, то можно предлагать на выбор или давать не обязательные задания."
   ]
  },
  {
   "cell_type": "markdown",
   "metadata": {},
   "source": [
    "#### Задание 4\n",
    "boughted = [1, 3, 5, 7, 9, 11]  \n",
    "recommended = [2, 5, 7, 4, 11, 9, 8, 10, 12, 3]  \n",
    "Посчитайте на этих данных pr@8, rec@8, AP@8, NDCG@8, MRR@8,  \n",
    "Сначала поссчитайет \"руками\", а затем подтвердите рассчеты с помощью функций (некоторые были на семинаре, некоторые нужно будут написать самостоятельно)\n",
    "\n",
    "IDCG должен считаться для всех 8 позиций рекомендаций"
   ]
  },
  {
   "cell_type": "code",
   "execution_count": 1,
   "metadata": {},
   "outputs": [],
   "source": [
    "boughted = [1, 3, 5, 7, 9, 11] \n",
    "recommended = [2, 5, 7, 4, 11, 9, 8, 10, 12, 3]  \n"
   ]
  },
  {
   "cell_type": "code",
   "execution_count": 13,
   "metadata": {},
   "outputs": [
    {
     "data": {
      "text/plain": [
       "0.5"
      ]
     },
     "execution_count": 13,
     "metadata": {},
     "output_type": "execute_result"
    }
   ],
   "source": [
    "#       [2,    5,    7,   4,    11,  9,   8,   10,    12, 3] \n",
    "pr_8 =( 1*0 + 1*1 + 1*1 +1*0 + 1*1+ 1*1 +1*0 + 1*0)/8\n",
    "pr_8"
   ]
  },
  {
   "cell_type": "code",
   "execution_count": 4,
   "metadata": {},
   "outputs": [],
   "source": [
    "def precision_at_k(recommended_list, bought_list, k=5):\n",
    "    \n",
    "    bought_list = np.array(bought_list)\n",
    "    recommended_list = np.array(recommended_list)\n",
    "    \n",
    "    bought_list = bought_list  # Тут нет [:k] !!\n",
    "    recommended_list = recommended_list[:k]\n",
    "    \n",
    "    flags = np.isin(bought_list, recommended_list)\n",
    "    precision = flags.sum() / len(recommended_list)\n",
    "    \n",
    "    \n",
    "    return precision\n"
   ]
  },
  {
   "cell_type": "code",
   "execution_count": 12,
   "metadata": {},
   "outputs": [
    {
     "data": {
      "text/plain": [
       "0.5"
      ]
     },
     "execution_count": 12,
     "metadata": {},
     "output_type": "execute_result"
    }
   ],
   "source": [
    "precision_at_k(recommended, boughted, k=8)"
   ]
  },
  {
   "cell_type": "code",
   "execution_count": 14,
   "metadata": {},
   "outputs": [
    {
     "data": {
      "text/plain": [
       "0.6666666666666666"
      ]
     },
     "execution_count": 14,
     "metadata": {},
     "output_type": "execute_result"
    }
   ],
   "source": [
    "#       [2,    5,    7,   4,    11,  9,   8,   10,    12, 3] \n",
    "rec_8 =( 1*0 + 1*1 + 1*1 +1*0 + 1*1+ 1*1 +1*0 + 1*0)/6\n",
    "rec_8"
   ]
  },
  {
   "cell_type": "code",
   "execution_count": 15,
   "metadata": {},
   "outputs": [],
   "source": [
    "def recall_at_k(recommended_list, bought_list, k=5):\n",
    "    bought_list = np.array(bought_list)\n",
    "    recommended_list = np.array(recommended_list)[:k]\n",
    "    \n",
    "    flags = np.isin(bought_list, recommended_list)\n",
    "    \n",
    "    recall = flags.sum() / len(bought_list)\n",
    "    \n",
    "    return recall"
   ]
  },
  {
   "cell_type": "code",
   "execution_count": 22,
   "metadata": {},
   "outputs": [
    {
     "data": {
      "text/plain": [
       "0.6666666666666666"
      ]
     },
     "execution_count": 22,
     "metadata": {},
     "output_type": "execute_result"
    }
   ],
   "source": [
    "recall_at_k(recommended_list=recommended, bought_list = boughted, k=8)"
   ]
  },
  {
   "cell_type": "code",
   "execution_count": null,
   "metadata": {},
   "outputs": [],
   "source": []
  },
  {
   "cell_type": "code",
   "execution_count": 37,
   "metadata": {},
   "outputs": [
    {
     "data": {
      "text/plain": [
       "0.30416666666666664"
      ]
     },
     "execution_count": 37,
     "metadata": {},
     "output_type": "execute_result"
    }
   ],
   "source": [
    "pr_1 = 0/1\n",
    "pr_2 = 1/2\n",
    "pr_3 = 2/3\n",
    "pr_4 = 2/4\n",
    "pr_5 = 3/5\n",
    "pr_6 = 4/6\n",
    "pr_7 = 4/7\n",
    "pr_8 = 4/8\n",
    "\n",
    "\n",
    "AP_8 = \\\n",
    "(0*pr_1 +\\\n",
    "pr_2 +\\\n",
    "pr_3 +\\\n",
    "0*pr_4 +\\\n",
    "pr_5 +\\\n",
    "pr_6 +\\\n",
    "0*pr_7 +\\\n",
    "0*pr_8)/8\n",
    "\n",
    "AP_8"
   ]
  },
  {
   "cell_type": "code",
   "execution_count": 38,
   "metadata": {},
   "outputs": [],
   "source": [
    "def ap_k(recommended_list, bought_list, k=5):\n",
    "    \n",
    "    bought_list = np.array(bought_list)\n",
    "    recommended_list = np.array(recommended_list)[:k]\n",
    "    \n",
    "    flags = np.isin(recommended_list, bought_list)\n",
    "    \n",
    "    if sum(flags) == 0:\n",
    "        return 0\n",
    "    \n",
    "    sum_ = 0\n",
    "    for i in range(1, k+1): \n",
    "        \n",
    "        if flags[i-1] == True:\n",
    "            p_k = precision_at_k(recommended_list, bought_list, k=i)\n",
    "            sum_ += p_k\n",
    "            \n",
    "    result = sum_ / len(flags)\n",
    "    \n",
    "    return result"
   ]
  },
  {
   "cell_type": "code",
   "execution_count": 39,
   "metadata": {},
   "outputs": [
    {
     "data": {
      "text/plain": [
       "0.30416666666666664"
      ]
     },
     "execution_count": 39,
     "metadata": {},
     "output_type": "execute_result"
    }
   ],
   "source": [
    "ap_k(recommended, boughted, k=8)"
   ]
  },
  {
   "cell_type": "code",
   "execution_count": 82,
   "metadata": {},
   "outputs": [
    {
     "data": {
      "text/plain": [
       "0.5653142737255068"
      ]
     },
     "execution_count": 82,
     "metadata": {},
     "output_type": "execute_result"
    }
   ],
   "source": [
    "DCG_8 =(0 + 1/np.log(2) + 1/np.log(3) + 0/np.log(4) + 1/np.log(5) + 1/np.log(6) + 0/np.log(7)  + 0/np.log(8))\n",
    "IDGG_8 = (1 + 1/np.log(2) + 1/np.log(3) + 1/np.log(4) + 1/np.log(5) + 1/np.log(6) + 1/np.log(7)  + 1/np.log(8))\n",
    "NDCG_8 = DCG_8/IDGG_8\n",
    "NDCG_8"
   ]
  },
  {
   "cell_type": "code",
   "execution_count": 85,
   "metadata": {},
   "outputs": [],
   "source": [
    "def ndcg_k(recommended_list, bought_list, k=8):\n",
    "    bought_list = np.array(bought_list)\n",
    "    recommended_list = np.array(recommended_list)[:k]\n",
    "    \n",
    "    flags = np.isin(recommended_list, bought_list)\n",
    "    \n",
    "    if sum(flags) == 0:\n",
    "        return 0\n",
    "    DCG = flags[0] + sum([i/np.log(ind+2) for ind, i in enumerate(flags[1:])])\n",
    "    IDCG = 1 + sum([1/np.log(i) for i in range(2,len(flags)+1)])\n",
    "    return DCG/IDCG\n",
    "    \n",
    "    \n",
    "    \n",
    "    \n",
    "    \n",
    "    "
   ]
  },
  {
   "cell_type": "code",
   "execution_count": 86,
   "metadata": {},
   "outputs": [
    {
     "data": {
      "text/plain": [
       "0.5653142737255068"
      ]
     },
     "execution_count": 86,
     "metadata": {},
     "output_type": "execute_result"
    }
   ],
   "source": [
    "ndcg_k(recommended, boughted, k=8)"
   ]
  },
  {
   "cell_type": "code",
   "execution_count": 104,
   "metadata": {},
   "outputs": [
    {
     "data": {
      "text/plain": [
       "0.15"
      ]
     },
     "execution_count": 104,
     "metadata": {},
     "output_type": "execute_result"
    }
   ],
   "source": [
    "r_rank_2 = 1/2\n",
    "r_rank_3 = 1/3\n",
    "r_rank_5 = 1/5\n",
    "r_rank_6 = 1/6\n",
    "\n",
    "MRR_8 = \\\n",
    "(r_rank_2 +\\\n",
    "r_rank_3 +\\\n",
    "r_rank_5 +\\\n",
    "r_rank_6 )/8\n",
    "MRR_8"
   ]
  },
  {
   "cell_type": "code",
   "execution_count": 101,
   "metadata": {},
   "outputs": [],
   "source": [
    "def reciprocal_rank_k(recommended_list, bought_list,k=8):\n",
    "    bought_list = np.array(bought_list)\n",
    "    recommended_list = np.array(recommended_list)[:k]\n",
    "    \n",
    "    flags = np.isin(recommended_list, bought_list)\n",
    "    \n",
    "    return sum([i/(ind+1) for ind,i in enumerate(flags)])/len(recommended_list)"
   ]
  },
  {
   "cell_type": "code",
   "execution_count": 102,
   "metadata": {},
   "outputs": [
    {
     "data": {
      "text/plain": [
       "0.15"
      ]
     },
     "execution_count": 102,
     "metadata": {},
     "output_type": "execute_result"
    }
   ],
   "source": [
    "reciprocal_rank_k(recommended_list=recommended, bought_list=boughted,k=8)"
   ]
  },
  {
   "cell_type": "code",
   "execution_count": null,
   "metadata": {},
   "outputs": [],
   "source": []
  }
 ],
 "metadata": {
  "kernelspec": {
   "display_name": "Python 3",
   "language": "python",
   "name": "python3"
  },
  "language_info": {
   "codemirror_mode": {
    "name": "ipython",
    "version": 3
   },
   "file_extension": ".py",
   "mimetype": "text/x-python",
   "name": "python",
   "nbconvert_exporter": "python",
   "pygments_lexer": "ipython3",
   "version": "3.8.3"
  }
 },
 "nbformat": 4,
 "nbformat_minor": 2
}
